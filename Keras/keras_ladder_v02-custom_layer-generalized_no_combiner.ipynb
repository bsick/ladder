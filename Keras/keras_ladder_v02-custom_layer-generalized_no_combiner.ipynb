{
 "cells": [
  {
   "cell_type": "code",
   "execution_count": 1,
   "metadata": {},
   "outputs": [
    {
     "data": {
      "text/plain": [
       "('1.4.0',\n",
       " sys.version_info(major=3, minor=6, micro=3, releaselevel='final', serial=0))"
      ]
     },
     "execution_count": 1,
     "metadata": {},
     "output_type": "execute_result"
    }
   ],
   "source": [
    "# additional imports of python modules\n",
    "# python module imports needed in customized functions:\n",
    "import numpy as np\n",
    "import tensorflow as tf\n",
    "import sys\n",
    "\n",
    "%matplotlib inline\n",
    "import matplotlib.pyplot as plt\n",
    "import matplotlib.image as imgplot\n",
    "import time\n",
    "import pandas as pd\n",
    "#tf.set_random_seed(1)\n",
    "#np.random.seed(1)\n",
    "import sys\n",
    "tf.__version__, sys.version_info\n",
    "\n"
   ]
  },
  {
   "cell_type": "code",
   "execution_count": 2,
   "metadata": {},
   "outputs": [
    {
     "name": "stderr",
     "output_type": "stream",
     "text": [
      "Using TensorFlow backend.\n"
     ]
    }
   ],
   "source": [
    "import keras\n",
    "from keras.utils import np_utils\n",
    "from keras import backend as K\n",
    "from keras import metrics\n"
   ]
  },
  {
   "cell_type": "markdown",
   "metadata": {},
   "source": [
    "# Import data from keras"
   ]
  },
  {
   "cell_type": "code",
   "execution_count": 3,
   "metadata": {
    "collapsed": true
   },
   "outputs": [],
   "source": [
    "from keras.datasets import mnist\n",
    "#import numpy as np\n",
    "(x_train, y_train), (x_test, y_test_num) = mnist.load_data()"
   ]
  },
  {
   "cell_type": "markdown",
   "metadata": {},
   "source": [
    "We will normalize all values between 0 and 1 and we will flatten the 28x28 images into vectors of size 784."
   ]
  },
  {
   "cell_type": "code",
   "execution_count": 4,
   "metadata": {},
   "outputs": [
    {
     "name": "stdout",
     "output_type": "stream",
     "text": [
      "(60000, 784)\n",
      "(10000, 784)\n"
     ]
    }
   ],
   "source": [
    "x_train = x_train.astype('float32') / 255.\n",
    "x_test = x_test.astype('float32') / 255.\n",
    "x_train = x_train.reshape((len(x_train), np.prod(x_train.shape[1:])))\n",
    "x_test = x_test.reshape((len(x_test), np.prod(x_test.shape[1:])))\n",
    "print(x_train.shape)\n",
    "print(x_test.shape)\n",
    "y_train = np_utils.to_categorical(y_train, 10)\n",
    "y_test = np_utils.to_categorical(y_test_num, 10)"
   ]
  },
  {
   "cell_type": "markdown",
   "metadata": {},
   "source": [
    "# Ladder network: defining the graph\n"
   ]
  },
  {
   "cell_type": "code",
   "execution_count": 5,
   "metadata": {
    "collapsed": true
   },
   "outputs": [],
   "source": [
    "from keras.layers import Input, Dense, GaussianNoise, BatchNormalization, Activation, Layer\n",
    "from keras.models import Model\n",
    "\n",
    "stddev = 0.05"
   ]
  },
  {
   "cell_type": "markdown",
   "metadata": {},
   "source": [
    "## Imports for graph plotting"
   ]
  },
  {
   "cell_type": "code",
   "execution_count": 6,
   "metadata": {
    "collapsed": true
   },
   "outputs": [],
   "source": [
    "from IPython.display import SVG\n",
    "from keras.utils.vis_utils import model_to_dot\n",
    "from keras.utils import plot_model"
   ]
  },
  {
   "cell_type": "markdown",
   "metadata": {},
   "source": [
    "## custom normalization layer\n",
    "Define a layer that performs normalization (=standardization) of a layer using the mean and the var of the inputs to the layer\n",
    "The normalization is required before acting with relu:\n",
    "\n",
    "from https://theneuralperspective.com/2016/10/27/gradient-topics/:\n",
    "\n",
    "There are several types of normalization techniques but the idea behind all of them is the same, which is shifting our inputs to a zero mean and unit variance. We normalize the inputs before applying the non-linearity. We do this because we do not want the inputs to saturate the non-linearities at the extremes. (Checkout SNNs/SELU for some recent updates on this subject).\n",
    "\n",
    "Remark about the difference from batch norm:  Batch normalization is very nice but it is based on minibatch size and so it’s a bit difficult to use with recurrent architectures. With layer normalization, we instead compute the mean and variance using ALL of the summed inputs to the neurons in a layer for EVERY single training case. This removes the dependency on a minibatch size. Unlike batch normalization, the normalization operation for layer norm is same for training and inference. More details can be found on Hinton’s paper here."
   ]
  },
  {
   "cell_type": "code",
   "execution_count": 7,
   "metadata": {
    "collapsed": true
   },
   "outputs": [],
   "source": [
    "class CustomLayer_Normalization(Layer):\n",
    "    \"\"\"Apply layer normalization.\n",
    "       shifting our inputs to a zero mean and unit variance. \n",
    "       We normalize the inputs before applying the non-linearity. \n",
    "       We do this because we do not want the inputs to saturate the non-linearities at the extremes. \n",
    "       (Checkout SNNs/SELU for some recent updates on this subject).\n",
    "       \n",
    "       no need for build -- no trainable weights. \n",
    "        # Arguments\n",
    "            epsilon: regularizer for zero division\n",
    "        # Input shape\n",
    "            Arbitrary. Use the keyword argument `input_shape`\n",
    "            (tuple of integers, does not include the samples axis)\n",
    "            when using this layer as the first layer in a model.\n",
    "        # Output shape\n",
    "            Same shape as input.\n",
    "    \"\"\"\n",
    "    def __init__(self, epsilon = 1e-6, **kwargs):\n",
    "        super(CustomLayer_Normalization, self).__init__(**kwargs)\n",
    "        self.epsilon = epsilon\n",
    "        \n",
    "    def call(self, inputs):\n",
    "        return (inputs - K.mean(inputs,axis=-1,keepdims=True))/(K.std(inputs,axis=-1,keepdims=True)+self.epsilon) # change axis for conv2D\n",
    "        \n",
    "    def compute_output_shape(self, input_shape):\n",
    "        return input_shape\n",
    "    \n"
   ]
  },
  {
   "cell_type": "markdown",
   "metadata": {},
   "source": [
    "## Defining encoder and decoder channels"
   ]
  },
  {
   "cell_type": "markdown",
   "metadata": {},
   "source": [
    "### Functions that build a generic encoder and decoder layer\n",
    "Each encoder or decoder layer is composed of sublayers (e.g linear transformation, normalization, activation sublayers). Here we first build the generic structure of the sublayers without defining their input or output dimensions and linking them to each other. In the next step we define the linking functions that specify how the sublayers are connected to each other and what output is delivered. Note that the output of the building functions is sublayers = a dictionary of the (unlinked) sublayers."
   ]
  },
  {
   "cell_type": "code",
   "execution_count": 8,
   "metadata": {
    "collapsed": true
   },
   "outputs": [],
   "source": [
    "def build_encoder_layer(encoding_dim_,layer_id,stddev_=0.05):\n",
    "    \"\"\"\n",
    "    Create the layers\n",
    "    \n",
    "    Parameters\n",
    "    ==========\n",
    "    \n",
    "    encoding_dim_:int\n",
    "        number of perceptons \n",
    "    layer_id: string\n",
    "        part of the name\n",
    "    stddev: double\n",
    "        standard deviation of the Gaussion noise layer\n",
    "        \n",
    "    Returns\n",
    "    =======\n",
    "    \n",
    "    x,y: I don't know what this is\n",
    "    \n",
    "    \"\"\"\n",
    "    sublayers={}\n",
    "    s_id = 'encoder_' + layer_id + '/'\n",
    "    sublayers['lin_trans'] = Dense(encoding_dim_,activation = None,name=s_id + 'lt')\n",
    "    sublayers['norm'] = CustomLayer_Normalization(name=s_id + 'norm')\n",
    "    sublayers['noise_add'] = GaussianNoise(stddev_,name=s_id + 'noise')\n",
    "    sublayers['batch_norm'] = BatchNormalization(name=s_id + 'bn')\n",
    "    sublayers['activation'] = Activation('relu',name=s_id + 'output')\n",
    "    return sublayers\n",
    "\n",
    "def build_decoder_layer(decoding_dim_,layer_id,activation_name):\n",
    "    sublayers={}\n",
    "    s_id = 'decoder' + layer_id + '/'\n",
    "    sublayers['lin_trans']  = Dense(decoding_dim_,activation = None,name = s_id + 'lt')\n",
    "    sublayers['norm'] = CustomLayer_Normalization(name=s_id + 'norm')\n",
    "    sublayers['activation'] = Activation(activation_name,name=s_id + 'output')\n",
    "    return sublayers"
   ]
  },
  {
   "cell_type": "markdown",
   "metadata": {},
   "source": [
    "### Functions that link the sublayers within the encoder and the decoder\n",
    "Here we define functions that specify how the sublayers within each encoder/decoder layer should be linked to each other. Note that the encoder linking functions return two outputs: the final one and an intermediate one that is required for the combinator function of the ladder."
   ]
  },
  {
   "cell_type": "code",
   "execution_count": 9,
   "metadata": {
    "collapsed": true
   },
   "outputs": [],
   "source": [
    "def link_sublayer_corr_encoder(x,sublayers):\n",
    "    \"\"\"\n",
    "    Link the sublayers for the autoencoder\n",
    "    \n",
    "    Parameters\n",
    "    ==========\n",
    "    x: input for the first sublayer\n",
    "    \n",
    "    sublayers: dict containing the sublayers\n",
    "    \n",
    "    \"\"\"\n",
    "    try:\n",
    "        x=sublayers['lin_trans'](x)\n",
    "        x=sublayers['norm'](x)\n",
    "        y=sublayers['noise_add'](x)\n",
    "        x=sublayers['batch_norm'](y)\n",
    "        x=sublayers['activation'](x)\n",
    "    except:\n",
    "        print(\"Something failed\")\n",
    "    return x,y\n",
    "\n",
    "def link_sublayer_clean_encoder(x,sublayers):\n",
    "    \"\"\"\n",
    "    Link the sublayers for the supervised approach\n",
    "    \n",
    "    Parameters\n",
    "    ==========\n",
    "    x: input for the first sublayer\n",
    "    \n",
    "    sublayers: dict containing the sublayers\n",
    "    \n",
    "    \"\"\"\n",
    "    try:\n",
    "        x=sublayers['lin_trans'](x)\n",
    "        y=sublayers['norm'](x)\n",
    "        x=sublayers['batch_norm'](y)\n",
    "        x=sublayers['activation'](x)\n",
    "    except:\n",
    "        print(\"Something failed\")\n",
    "    return x,y\n",
    "\n",
    "def link_sublayer_decoder(x,sublayers):\n",
    "    \"\"\"\n",
    "    Link the sublayers \n",
    "    \n",
    "    Parameters\n",
    "    ==========\n",
    "    x: input for the first sublayer\n",
    "    \n",
    "    sublayers: dict containing the sublayers\n",
    "    \n",
    "    \"\"\"\n",
    "    try:\n",
    "        x=sublayers['lin_trans'](x)\n",
    "        x=sublayers['norm'](x)\n",
    "        x=sublayers['activation'](x)\n",
    "    except:\n",
    "        print(\"Something failed\")\n",
    "    return x"
   ]
  },
  {
   "cell_type": "markdown",
   "metadata": {},
   "source": [
    "# Connecting the ladder network"
   ]
  },
  {
   "cell_type": "code",
   "execution_count": 10,
   "metadata": {},
   "outputs": [],
   "source": [
    "## Define the architecture\n",
    "##########################################\n",
    "Layer_dim = [784,128,32]\n",
    "depth = len(Layer_dim)\n",
    "\n",
    "\n",
    "## Create the clean and corrupted encoders\n",
    "##########################################\n",
    "# Input layer: define a generic input image \n",
    "input_img = Input(shape=(Layer_dim[0],),name = 'input_img')\n",
    "\n",
    "# Build encoder sublayers: generic for clean and noisy encoder\n",
    "encoder_layers = {} # a dictionary of dictionaries. The dictionary keys are the layer numbers (as in paper)\n",
    "for i in range(1,depth): # loop over all encoder levels (not including the input image)\n",
    "    encoder_layers[i] = build_encoder_layer(Layer_dim[i],str(i))\n",
    "\n",
    "# NOTE:  \n",
    "# Building the encoder layers only once but linking them twice ensures that the same weights are used by the AE and the clean encoder\n",
    "\n",
    "# Corrupt input and link noisy encoder (for DAE)\n",
    "corrupted_img  = GaussianNoise(stddev,name='corrupt_img')(input_img)\n",
    "\n",
    "encoded_corr = {} #  a dictionary holding all corrupted encoder levels. each level contains sublayers as specified by the linking function.\n",
    "encoded_corr[0] = corrupted_img\n",
    "sidepath_ae = {}\n",
    "sidepath_ae[0] = corrupted_img\n",
    "for key in sorted(encoder_layers.keys()):\n",
    "    encoded_corr[key],sidepath_ae[key] = link_sublayer_corr_encoder(encoded_corr[key-1],encoder_layers[key])\n",
    "    \n",
    "# Link the clean encoder (for supervised channel)\n",
    "encoded_clean={} #  a dictionary holding all clean encoder levels. each level contains sublayers as specified by the linking function.\n",
    "encoded_clean[0]=input_img\n",
    "sidepath_clean={}\n",
    "sidepath_clean[0]=input_img\n",
    "for key in sorted(encoder_layers.keys()):\n",
    "    encoded_clean[key],sidepath_clean[key] =  link_sublayer_clean_encoder(encoded_clean[key-1],encoder_layers[key])\n",
    "    \n",
    "# channel the output of the clean encoder into the classifier\n",
    "predicted_labels = Dense(10,activation='sigmoid',name='predictor')(encoded_clean[depth-1])\n",
    "\n",
    "## Create the decoder\n",
    "##########################################\n",
    "# Build a decoder\n",
    "decoder_layers = {} # a dictionary of dictionaries. The dictionary keys are the layer numbers (as in paper)\n",
    "for i in range(0,depth-1): # loop over all encoder levels\n",
    "    decoder_layers[i] = build_decoder_layer(Layer_dim[i],str(i),activation_name = 'sigmoid')\n",
    "\n",
    "# Link the decoder to the corrupted encoder\n",
    "decoded = {} #  a dictionary holding all decoded levels. each level contains sublayers as specified by the linking function. \n",
    "decoded[depth-1] = encoded_corr[depth-1]\n",
    "for i in range(depth-1)[::-1]: # gives the series depth-2,depth-3...,0\n",
    "    decoded[i] = link_sublayer_decoder(decoded[i+1],decoder_layers[i])\n",
    "    \n",
    "# decoded_output = decoded[0]\n"
   ]
  },
  {
   "cell_type": "code",
   "execution_count": 11,
   "metadata": {},
   "outputs": [
    {
     "data": {
      "text/plain": [
       "{0: <tf.Tensor 'decoder0/output/Sigmoid:0' shape=(?, 784) dtype=float32>,\n",
       " 1: <tf.Tensor 'decoder1/output/Sigmoid:0' shape=(?, 128) dtype=float32>,\n",
       " 2: <tf.Tensor 'encoder_2/output/Relu:0' shape=(?, 32) dtype=float32>}"
      ]
     },
     "execution_count": 11,
     "metadata": {},
     "output_type": "execute_result"
    }
   ],
   "source": [
    "decoded"
   ]
  },
  {
   "cell_type": "code",
   "execution_count": 12,
   "metadata": {},
   "outputs": [
    {
     "data": {
      "text/plain": [
       "{1: {'activation': <keras.layers.core.Activation at 0x12e09c57e10>,\n",
       "  'batch_norm': <keras.layers.normalization.BatchNormalization at 0x12e09c57a20>,\n",
       "  'lin_trans': <keras.layers.core.Dense at 0x12e09c577f0>,\n",
       "  'noise_add': <keras.layers.noise.GaussianNoise at 0x12e09c579b0>,\n",
       "  'norm': <__main__.CustomLayer_Normalization at 0x12e09c57b00>},\n",
       " 2: {'activation': <keras.layers.core.Activation at 0x12e09c54588>,\n",
       "  'batch_norm': <keras.layers.normalization.BatchNormalization at 0x12e09c54470>,\n",
       "  'lin_trans': <keras.layers.core.Dense at 0x12e09c57be0>,\n",
       "  'noise_add': <keras.layers.noise.GaussianNoise at 0x12e09bd3f60>,\n",
       "  'norm': <__main__.CustomLayer_Normalization at 0x12e09bd3e10>}}"
      ]
     },
     "execution_count": 12,
     "metadata": {},
     "output_type": "execute_result"
    }
   ],
   "source": [
    "encoder_layers"
   ]
  },
  {
   "cell_type": "markdown",
   "metadata": {},
   "source": [
    "# Defining a custom layer for the recon-loss\n",
    "The goal of the custom layer is to enable the addition of a loss function that depends not only on the model outputs but also on intermediate layers' outputs. For the ladder network these would be the reconstruction losses, which depend on the decoder and clean encoder layers. "
   ]
  },
  {
   "cell_type": "code",
   "execution_count": 13,
   "metadata": {},
   "outputs": [],
   "source": [
    "## Define the custom layer\n",
    "#################################################\n",
    "# reconstruction loss weights\n",
    "w_rl = [1.0, 1.0, 0.0]\n",
    "\n",
    "class CustomLayer_ReconLoss(Layer):\n",
    "    def __init__(self,**kwargs):\n",
    "        # class constructor\n",
    "        #self.loss_info = loss_info\n",
    "        self.is_placeholder = True\n",
    "        self.output_dim = 10\n",
    "        super(CustomLayer_ReconLoss, self).__init__(**kwargs)\n",
    "\n",
    "    def reconstruction_loss(self, encoder_list,decoder_list):\n",
    "        ## TODO: CHANGE RECONSLOSS TO MEAN SQUARED ERROR\n",
    "        # add all reconstruction losses weighted by recon_weights\n",
    "        # note: the binary_crossentropy metric does not automatically average over the batch, \n",
    "        # this is done here by K.mean\n",
    "        # layer_list contains all encoder outputs and decoder outputs (in this order)\n",
    "        \n",
    "        #loss =   K.mean(metrics.binary_crossentropy(encoder_list[0],decoder_list[0]))\n",
    "        #for i in range(1,len(encoder_list)): \n",
    "        #   loss += w_rl[i] * K.mean(metrics.binary_crossentropy(encoder_list[i],decoder_list[i]))\n",
    "        \n",
    "        loss = 0\n",
    "        for i in range(len(encoder_list)):\n",
    "            # rescale for Cross-entropy\n",
    "            a = encoder_list[i]#+K.min(encoder_list[i])\n",
    "            a/= K.max(a)\n",
    "            b = decoder_list[i]#+K.min(decoder_list[i])\n",
    "            b/= K.max(b)\n",
    "            loss += w_rl[i]*K.mean(metrics.binary_crossentropy(a,b))\n",
    "        return loss\n",
    "   \n",
    "    def call(self, inputs):\n",
    "        # inputs is a list of layers needed for the calculation of the reconstruction loss.\n",
    "        # The first layer in the list is the predicted labels.\n",
    "        # The rest of the list must contain pairs of clean encoder and decoder layers, \n",
    "        # that are needed for the reconstruction loss calculation.\n",
    "        # returns: predicted_labels, needed in order to calculate the supervised loss later on. \n",
    "        predicted_labels = inputs[0]   # predicted labels by clean encoder:  the return variable of the call\n",
    "        # call the loss function of the class as it is defined above\n",
    "        loss = self.reconstruction_loss(inputs[1::2],inputs[2::2]) # odd entries are encoder layers, even are decoder.\n",
    "        # add the custom loss to the model loss (defined in the compiler)\n",
    "        self.add_loss(loss, inputs=inputs) \n",
    "        return predicted_labels    \n",
    "    \n",
    "    def compute_output_shape(self, input_shape):\n",
    "        return input_shape[0]\n",
    "\n",
    "## Construct the inputs to CustomLayer_ReconLoss\n",
    "#################################################\n",
    "collection=[] # empty list of layers (see above in \"call\")\n",
    "collection.append(predicted_labels) # first layer in the list: predicted labels of clean encoder\n",
    "for i in range(depth-1): # later on collect from range(depth) :makes sense only after combining the AE legs\n",
    "    # append an encoder and a decoder layer for each ladder level\n",
    "    collection.append(encoded_clean[i])\n",
    "    collection.append(decoded[i])\n",
    "    \n",
    "## Call the custom layer\n",
    "#################################################\n",
    "# when calling the CustomLayer_ReconLoss, the returned value of \"call(self, inputs)\" is returned\n",
    "# when building a model with y as an output, the custom loss is automatically added to the loss defined in the compiler\n",
    "y = CustomLayer_ReconLoss()(collection)"
   ]
  },
  {
   "cell_type": "code",
   "execution_count": 14,
   "metadata": {},
   "outputs": [
    {
     "data": {
      "text/plain": [
       "[<tf.Tensor 'predictor/Sigmoid:0' shape=(?, 10) dtype=float32>,\n",
       " <tf.Tensor 'input_img:0' shape=(?, 784) dtype=float32>,\n",
       " <tf.Tensor 'decoder0/output/Sigmoid:0' shape=(?, 784) dtype=float32>,\n",
       " <tf.Tensor 'encoder_1/output_1/Relu:0' shape=(?, 128) dtype=float32>,\n",
       " <tf.Tensor 'decoder1/output/Sigmoid:0' shape=(?, 128) dtype=float32>]"
      ]
     },
     "execution_count": 14,
     "metadata": {},
     "output_type": "execute_result"
    }
   ],
   "source": [
    "collection\n"
   ]
  },
  {
   "cell_type": "markdown",
   "metadata": {},
   "source": [
    "# Constructing the model\n",
    "Construct a model with input_img as the input and y (the custom layer) as an output. when building a model with y as an output, the custom loss is automatically added to the loss defined in the compiler. This enables us to define a custom loss function and also to return the value y which are the predicted labels transferred to the model using the custom layer. "
   ]
  },
  {
   "cell_type": "markdown",
   "metadata": {},
   "source": [
    "## A model with custom layer with an added loss\n",
    "Important note: the need for a custom layer is only because we would like to add a loss that depends on internal parts of the networks and not only on the network output. In a previous version of the ladder the loss was a sum of supervised and unsupervised losses, where the unsupervised loss was a standard denoising autoencoder loss, without summing over all the internal reconstruction losses. There it was enough to define a model with a single input (input_img) and two outputs (decoded_img and predicted_labels) and assign a loss function per output. No custom layer was needed. However, if the loss depends on layers which are not the output layers of the network, we must define a custom layer just in order to construct the loss and add it to the supervised loss. "
   ]
  },
  {
   "cell_type": "code",
   "execution_count": 15,
   "metadata": {
    "collapsed": true
   },
   "outputs": [],
   "source": [
    "ladder_custom = Model(input_img,y) # if you replace y with predicted_labels you get a simple feed forward predictor"
   ]
  },
  {
   "cell_type": "code",
   "execution_count": 16,
   "metadata": {
    "scrolled": false
   },
   "outputs": [
    {
     "data": {
      "image/svg+xml": [
       "<svg height=\"1549pt\" viewBox=\"0.00 0.00 988.00 1549.00\" width=\"988pt\" xmlns=\"http://www.w3.org/2000/svg\" xmlns:xlink=\"http://www.w3.org/1999/xlink\">\n",
       "<g class=\"graph\" id=\"graph0\" transform=\"scale(1 1) rotate(0) translate(4 1545)\">\n",
       "<title>G</title>\n",
       "<polygon fill=\"white\" points=\"-4,4 -4,-1545 984,-1545 984,4 -4,4\" stroke=\"none\"/>\n",
       "<!-- 1297244059688 -->\n",
       "<g class=\"node\" id=\"node1\"><title>1297244059688</title>\n",
       "<polygon fill=\"none\" points=\"463.5,-1494.5 463.5,-1540.5 742.5,-1540.5 742.5,-1494.5 463.5,-1494.5\" stroke=\"black\"/>\n",
       "<text font-family=\"Times New Roman,serif\" font-size=\"14.00\" text-anchor=\"middle\" x=\"533.5\" y=\"-1513.8\">input_img: InputLayer</text>\n",
       "<polyline fill=\"none\" points=\"603.5,-1494.5 603.5,-1540.5 \" stroke=\"black\"/>\n",
       "<text font-family=\"Times New Roman,serif\" font-size=\"14.00\" text-anchor=\"middle\" x=\"631.5\" y=\"-1525.3\">input:</text>\n",
       "<polyline fill=\"none\" points=\"603.5,-1517.5 659.5,-1517.5 \" stroke=\"black\"/>\n",
       "<text font-family=\"Times New Roman,serif\" font-size=\"14.00\" text-anchor=\"middle\" x=\"631.5\" y=\"-1502.3\">output:</text>\n",
       "<polyline fill=\"none\" points=\"659.5,-1494.5 659.5,-1540.5 \" stroke=\"black\"/>\n",
       "<text font-family=\"Times New Roman,serif\" font-size=\"14.00\" text-anchor=\"middle\" x=\"701\" y=\"-1525.3\">(None, 784)</text>\n",
       "<polyline fill=\"none\" points=\"659.5,-1517.5 742.5,-1517.5 \" stroke=\"black\"/>\n",
       "<text font-family=\"Times New Roman,serif\" font-size=\"14.00\" text-anchor=\"middle\" x=\"701\" y=\"-1502.3\">(None, 784)</text>\n",
       "</g>\n",
       "<!-- 1297244059800 -->\n",
       "<g class=\"node\" id=\"node2\"><title>1297244059800</title>\n",
       "<polygon fill=\"none\" points=\"352.5,-1411.5 352.5,-1457.5 667.5,-1457.5 667.5,-1411.5 352.5,-1411.5\" stroke=\"black\"/>\n",
       "<text font-family=\"Times New Roman,serif\" font-size=\"14.00\" text-anchor=\"middle\" x=\"440.5\" y=\"-1430.8\">corrupt_img: GaussianNoise</text>\n",
       "<polyline fill=\"none\" points=\"528.5,-1411.5 528.5,-1457.5 \" stroke=\"black\"/>\n",
       "<text font-family=\"Times New Roman,serif\" font-size=\"14.00\" text-anchor=\"middle\" x=\"556.5\" y=\"-1442.3\">input:</text>\n",
       "<polyline fill=\"none\" points=\"528.5,-1434.5 584.5,-1434.5 \" stroke=\"black\"/>\n",
       "<text font-family=\"Times New Roman,serif\" font-size=\"14.00\" text-anchor=\"middle\" x=\"556.5\" y=\"-1419.3\">output:</text>\n",
       "<polyline fill=\"none\" points=\"584.5,-1411.5 584.5,-1457.5 \" stroke=\"black\"/>\n",
       "<text font-family=\"Times New Roman,serif\" font-size=\"14.00\" text-anchor=\"middle\" x=\"626\" y=\"-1442.3\">(None, 784)</text>\n",
       "<polyline fill=\"none\" points=\"584.5,-1434.5 667.5,-1434.5 \" stroke=\"black\"/>\n",
       "<text font-family=\"Times New Roman,serif\" font-size=\"14.00\" text-anchor=\"middle\" x=\"626\" y=\"-1419.3\">(None, 784)</text>\n",
       "</g>\n",
       "<!-- 1297244059688&#45;&gt;1297244059800 -->\n",
       "<g class=\"edge\" id=\"edge1\"><title>1297244059688-&gt;1297244059800</title>\n",
       "<path d=\"M577.587,-1494.37C566.925,-1485.08 554.387,-1474.16 543.024,-1464.26\" fill=\"none\" stroke=\"black\"/>\n",
       "<polygon fill=\"black\" points=\"545.222,-1461.54 535.382,-1457.61 540.624,-1466.81 545.222,-1461.54\" stroke=\"black\"/>\n",
       "</g>\n",
       "<!-- 1297244059632 -->\n",
       "<g class=\"node\" id=\"node3\"><title>1297244059632</title>\n",
       "<polygon fill=\"none\" points=\"376.5,-1328.5 376.5,-1374.5 643.5,-1374.5 643.5,-1328.5 376.5,-1328.5\" stroke=\"black\"/>\n",
       "<text font-family=\"Times New Roman,serif\" font-size=\"14.00\" text-anchor=\"middle\" x=\"440.5\" y=\"-1347.8\">encoder_1/lt: Dense</text>\n",
       "<polyline fill=\"none\" points=\"504.5,-1328.5 504.5,-1374.5 \" stroke=\"black\"/>\n",
       "<text font-family=\"Times New Roman,serif\" font-size=\"14.00\" text-anchor=\"middle\" x=\"532.5\" y=\"-1359.3\">input:</text>\n",
       "<polyline fill=\"none\" points=\"504.5,-1351.5 560.5,-1351.5 \" stroke=\"black\"/>\n",
       "<text font-family=\"Times New Roman,serif\" font-size=\"14.00\" text-anchor=\"middle\" x=\"532.5\" y=\"-1336.3\">output:</text>\n",
       "<polyline fill=\"none\" points=\"560.5,-1328.5 560.5,-1374.5 \" stroke=\"black\"/>\n",
       "<text font-family=\"Times New Roman,serif\" font-size=\"14.00\" text-anchor=\"middle\" x=\"602\" y=\"-1359.3\">(None, 784)</text>\n",
       "<polyline fill=\"none\" points=\"560.5,-1351.5 643.5,-1351.5 \" stroke=\"black\"/>\n",
       "<text font-family=\"Times New Roman,serif\" font-size=\"14.00\" text-anchor=\"middle\" x=\"602\" y=\"-1336.3\">(None, 128)</text>\n",
       "</g>\n",
       "<!-- 1297244059688&#45;&gt;1297244059632 -->\n",
       "<g class=\"edge\" id=\"edge3\"><title>1297244059688-&gt;1297244059632</title>\n",
       "<path d=\"M653.039,-1494.46C675.051,-1481.08 696,-1461.51 696,-1435.5\" fill=\"none\" stroke=\"black\"/>\n",
       "<path d=\"M696,-1433.5C696,-1405.43 677.967,-1386.98 653.131,-1374.89\" fill=\"none\" stroke=\"black\"/>\n",
       "<polygon fill=\"black\" points=\"654.255,-1371.56 643.694,-1370.72 651.424,-1377.96 654.255,-1371.56\" stroke=\"black\"/>\n",
       "</g>\n",
       "<!-- 1297316672400 -->\n",
       "<g class=\"node\" id=\"node20\"><title>1297316672400</title>\n",
       "<polygon fill=\"none\" points=\"204,-0.5 204,-46.5 980,-46.5 980,-0.5 204,-0.5\" stroke=\"black\"/>\n",
       "<text font-family=\"Times New Roman,serif\" font-size=\"14.00\" text-anchor=\"middle\" x=\"372.5\" y=\"-19.8\">custom_layer__recon_loss_1: CustomLayer_ReconLoss</text>\n",
       "<polyline fill=\"none\" points=\"541,-0.5 541,-46.5 \" stroke=\"black\"/>\n",
       "<text font-family=\"Times New Roman,serif\" font-size=\"14.00\" text-anchor=\"middle\" x=\"569\" y=\"-31.3\">input:</text>\n",
       "<polyline fill=\"none\" points=\"541,-23.5 597,-23.5 \" stroke=\"black\"/>\n",
       "<text font-family=\"Times New Roman,serif\" font-size=\"14.00\" text-anchor=\"middle\" x=\"569\" y=\"-8.3\">output:</text>\n",
       "<polyline fill=\"none\" points=\"597,-0.5 597,-46.5 \" stroke=\"black\"/>\n",
       "<text font-family=\"Times New Roman,serif\" font-size=\"14.00\" text-anchor=\"middle\" x=\"788.5\" y=\"-31.3\">[(None, 10), (None, 784), (None, 784), (None, 128), (None, 128)]</text>\n",
       "<polyline fill=\"none\" points=\"597,-23.5 980,-23.5 \" stroke=\"black\"/>\n",
       "<text font-family=\"Times New Roman,serif\" font-size=\"14.00\" text-anchor=\"middle\" x=\"788.5\" y=\"-8.3\">(None, 10)</text>\n",
       "</g>\n",
       "<!-- 1297244059688&#45;&gt;1297316672400 -->\n",
       "<g class=\"edge\" id=\"edge28\"><title>1297244059688-&gt;1297316672400</title>\n",
       "<path d=\"M696,-1433.5C696,-1360.61 696,-1342.39 696,-1269.5 696,-1269.5 696,-1269.5 696,-1101.5 696,-1028.61 659.911,-1000.83 696,-937.5\" fill=\"none\" stroke=\"black\"/>\n",
       "</g>\n",
       "<!-- 1297244059800&#45;&gt;1297244059632 -->\n",
       "<g class=\"edge\" id=\"edge2\"><title>1297244059800-&gt;1297244059632</title>\n",
       "<path d=\"M510,-1411.37C510,-1403.15 510,-1393.66 510,-1384.73\" fill=\"none\" stroke=\"black\"/>\n",
       "<polygon fill=\"black\" points=\"513.5,-1384.61 510,-1374.61 506.5,-1384.61 513.5,-1384.61\" stroke=\"black\"/>\n",
       "</g>\n",
       "<!-- 1297244060416 -->\n",
       "<g class=\"node\" id=\"node4\"><title>1297244060416</title>\n",
       "<polygon fill=\"none\" points=\"252.5,-1245.5 252.5,-1291.5 667.5,-1291.5 667.5,-1245.5 252.5,-1245.5\" stroke=\"black\"/>\n",
       "<text font-family=\"Times New Roman,serif\" font-size=\"14.00\" text-anchor=\"middle\" x=\"390.5\" y=\"-1264.8\">encoder_1/norm: CustomLayer_Normalization</text>\n",
       "<polyline fill=\"none\" points=\"528.5,-1245.5 528.5,-1291.5 \" stroke=\"black\"/>\n",
       "<text font-family=\"Times New Roman,serif\" font-size=\"14.00\" text-anchor=\"middle\" x=\"556.5\" y=\"-1276.3\">input:</text>\n",
       "<polyline fill=\"none\" points=\"528.5,-1268.5 584.5,-1268.5 \" stroke=\"black\"/>\n",
       "<text font-family=\"Times New Roman,serif\" font-size=\"14.00\" text-anchor=\"middle\" x=\"556.5\" y=\"-1253.3\">output:</text>\n",
       "<polyline fill=\"none\" points=\"584.5,-1245.5 584.5,-1291.5 \" stroke=\"black\"/>\n",
       "<text font-family=\"Times New Roman,serif\" font-size=\"14.00\" text-anchor=\"middle\" x=\"626\" y=\"-1276.3\">(None, 128)</text>\n",
       "<polyline fill=\"none\" points=\"584.5,-1268.5 667.5,-1268.5 \" stroke=\"black\"/>\n",
       "<text font-family=\"Times New Roman,serif\" font-size=\"14.00\" text-anchor=\"middle\" x=\"626\" y=\"-1253.3\">(None, 128)</text>\n",
       "</g>\n",
       "<!-- 1297244059632&#45;&gt;1297244060416 -->\n",
       "<g class=\"edge\" id=\"edge4\"><title>1297244059632-&gt;1297244060416</title>\n",
       "<path d=\"M496.337,-1328.37C490.991,-1319.71 484.767,-1309.62 478.996,-1300.27\" fill=\"none\" stroke=\"black\"/>\n",
       "<polygon fill=\"black\" points=\"481.877,-1298.28 473.646,-1291.61 475.921,-1301.95 481.877,-1298.28\" stroke=\"black\"/>\n",
       "</g>\n",
       "<!-- 1297244060080 -->\n",
       "<g class=\"node\" id=\"node5\"><title>1297244060080</title>\n",
       "<polygon fill=\"none\" points=\"194,-1162.5 194,-1208.5 532,-1208.5 532,-1162.5 194,-1162.5\" stroke=\"black\"/>\n",
       "<text font-family=\"Times New Roman,serif\" font-size=\"14.00\" text-anchor=\"middle\" x=\"293.5\" y=\"-1181.8\">encoder_1/noise: GaussianNoise</text>\n",
       "<polyline fill=\"none\" points=\"393,-1162.5 393,-1208.5 \" stroke=\"black\"/>\n",
       "<text font-family=\"Times New Roman,serif\" font-size=\"14.00\" text-anchor=\"middle\" x=\"421\" y=\"-1193.3\">input:</text>\n",
       "<polyline fill=\"none\" points=\"393,-1185.5 449,-1185.5 \" stroke=\"black\"/>\n",
       "<text font-family=\"Times New Roman,serif\" font-size=\"14.00\" text-anchor=\"middle\" x=\"421\" y=\"-1170.3\">output:</text>\n",
       "<polyline fill=\"none\" points=\"449,-1162.5 449,-1208.5 \" stroke=\"black\"/>\n",
       "<text font-family=\"Times New Roman,serif\" font-size=\"14.00\" text-anchor=\"middle\" x=\"490.5\" y=\"-1193.3\">(None, 128)</text>\n",
       "<polyline fill=\"none\" points=\"449,-1185.5 532,-1185.5 \" stroke=\"black\"/>\n",
       "<text font-family=\"Times New Roman,serif\" font-size=\"14.00\" text-anchor=\"middle\" x=\"490.5\" y=\"-1170.3\">(None, 128)</text>\n",
       "</g>\n",
       "<!-- 1297244060416&#45;&gt;1297244060080 -->\n",
       "<g class=\"edge\" id=\"edge6\"><title>1297244060416-&gt;1297244060080</title>\n",
       "<path d=\"M433.494,-1245.37C422.374,-1236.08 409.296,-1225.16 397.444,-1215.26\" fill=\"none\" stroke=\"black\"/>\n",
       "<polygon fill=\"black\" points=\"399.393,-1212.33 389.474,-1208.61 394.906,-1217.7 399.393,-1212.33\" stroke=\"black\"/>\n",
       "</g>\n",
       "<!-- 1297244060192 -->\n",
       "<g class=\"node\" id=\"node6\"><title>1297244060192</title>\n",
       "<polygon fill=\"none\" points=\"310.5,-1079.5 310.5,-1125.5 659.5,-1125.5 659.5,-1079.5 310.5,-1079.5\" stroke=\"black\"/>\n",
       "<text font-family=\"Times New Roman,serif\" font-size=\"14.00\" text-anchor=\"middle\" x=\"415.5\" y=\"-1098.8\">encoder_1/bn: BatchNormalization</text>\n",
       "<polyline fill=\"none\" points=\"520.5,-1079.5 520.5,-1125.5 \" stroke=\"black\"/>\n",
       "<text font-family=\"Times New Roman,serif\" font-size=\"14.00\" text-anchor=\"middle\" x=\"548.5\" y=\"-1110.3\">input:</text>\n",
       "<polyline fill=\"none\" points=\"520.5,-1102.5 576.5,-1102.5 \" stroke=\"black\"/>\n",
       "<text font-family=\"Times New Roman,serif\" font-size=\"14.00\" text-anchor=\"middle\" x=\"548.5\" y=\"-1087.3\">output:</text>\n",
       "<polyline fill=\"none\" points=\"576.5,-1079.5 576.5,-1125.5 \" stroke=\"black\"/>\n",
       "<text font-family=\"Times New Roman,serif\" font-size=\"14.00\" text-anchor=\"middle\" x=\"618\" y=\"-1110.3\">(None, 128)</text>\n",
       "<polyline fill=\"none\" points=\"576.5,-1102.5 659.5,-1102.5 \" stroke=\"black\"/>\n",
       "<text font-family=\"Times New Roman,serif\" font-size=\"14.00\" text-anchor=\"middle\" x=\"618\" y=\"-1087.3\">(None, 128)</text>\n",
       "</g>\n",
       "<!-- 1297244060416&#45;&gt;1297244060192 -->\n",
       "<g class=\"edge\" id=\"edge8\"><title>1297244060416-&gt;1297244060192</title>\n",
       "<path d=\"M505.634,-1245.45C519.577,-1236.26 533.261,-1224.14 541,-1209 550.51,-1190.4 548.783,-1181.38 541,-1162 536.665,-1151.2 529.28,-1141.27 521.271,-1132.78\" fill=\"none\" stroke=\"black\"/>\n",
       "<polygon fill=\"black\" points=\"523.697,-1130.25 514.133,-1125.7 518.767,-1135.22 523.697,-1130.25\" stroke=\"black\"/>\n",
       "</g>\n",
       "<!-- 1297244060080&#45;&gt;1297244060192 -->\n",
       "<g class=\"edge\" id=\"edge7\"><title>1297244060080-&gt;1297244060192</title>\n",
       "<path d=\"M396.337,-1162.37C410.727,-1152.81 427.723,-1141.53 442.965,-1131.41\" fill=\"none\" stroke=\"black\"/>\n",
       "<polygon fill=\"black\" points=\"445.308,-1134.05 451.703,-1125.61 441.436,-1128.22 445.308,-1134.05\" stroke=\"black\"/>\n",
       "</g>\n",
       "<!-- 1297244061200 -->\n",
       "<g class=\"node\" id=\"node7\"><title>1297244061200</title>\n",
       "<polygon fill=\"none\" points=\"326,-996.5 326,-1042.5 644,-1042.5 644,-996.5 326,-996.5\" stroke=\"black\"/>\n",
       "<text font-family=\"Times New Roman,serif\" font-size=\"14.00\" text-anchor=\"middle\" x=\"415.5\" y=\"-1015.8\">encoder_1/output: Activation</text>\n",
       "<polyline fill=\"none\" points=\"505,-996.5 505,-1042.5 \" stroke=\"black\"/>\n",
       "<text font-family=\"Times New Roman,serif\" font-size=\"14.00\" text-anchor=\"middle\" x=\"533\" y=\"-1027.3\">input:</text>\n",
       "<polyline fill=\"none\" points=\"505,-1019.5 561,-1019.5 \" stroke=\"black\"/>\n",
       "<text font-family=\"Times New Roman,serif\" font-size=\"14.00\" text-anchor=\"middle\" x=\"533\" y=\"-1004.3\">output:</text>\n",
       "<polyline fill=\"none\" points=\"561,-996.5 561,-1042.5 \" stroke=\"black\"/>\n",
       "<text font-family=\"Times New Roman,serif\" font-size=\"14.00\" text-anchor=\"middle\" x=\"602.5\" y=\"-1027.3\">(None, 128)</text>\n",
       "<polyline fill=\"none\" points=\"561,-1019.5 644,-1019.5 \" stroke=\"black\"/>\n",
       "<text font-family=\"Times New Roman,serif\" font-size=\"14.00\" text-anchor=\"middle\" x=\"602.5\" y=\"-1004.3\">(None, 128)</text>\n",
       "</g>\n",
       "<!-- 1297244060192&#45;&gt;1297244061200 -->\n",
       "<g class=\"edge\" id=\"edge9\"><title>1297244060192-&gt;1297244061200</title>\n",
       "<path d=\"M485,-1079.37C485,-1071.15 485,-1061.66 485,-1052.73\" fill=\"none\" stroke=\"black\"/>\n",
       "<polygon fill=\"black\" points=\"488.5,-1052.61 485,-1042.61 481.5,-1052.61 488.5,-1052.61\" stroke=\"black\"/>\n",
       "</g>\n",
       "<!-- 1297244060640 -->\n",
       "<g class=\"node\" id=\"node8\"><title>1297244060640</title>\n",
       "<polygon fill=\"none\" points=\"336.5,-913.5 336.5,-959.5 603.5,-959.5 603.5,-913.5 336.5,-913.5\" stroke=\"black\"/>\n",
       "<text font-family=\"Times New Roman,serif\" font-size=\"14.00\" text-anchor=\"middle\" x=\"400.5\" y=\"-932.8\">encoder_2/lt: Dense</text>\n",
       "<polyline fill=\"none\" points=\"464.5,-913.5 464.5,-959.5 \" stroke=\"black\"/>\n",
       "<text font-family=\"Times New Roman,serif\" font-size=\"14.00\" text-anchor=\"middle\" x=\"492.5\" y=\"-944.3\">input:</text>\n",
       "<polyline fill=\"none\" points=\"464.5,-936.5 520.5,-936.5 \" stroke=\"black\"/>\n",
       "<text font-family=\"Times New Roman,serif\" font-size=\"14.00\" text-anchor=\"middle\" x=\"492.5\" y=\"-921.3\">output:</text>\n",
       "<polyline fill=\"none\" points=\"520.5,-913.5 520.5,-959.5 \" stroke=\"black\"/>\n",
       "<text font-family=\"Times New Roman,serif\" font-size=\"14.00\" text-anchor=\"middle\" x=\"562\" y=\"-944.3\">(None, 128)</text>\n",
       "<polyline fill=\"none\" points=\"520.5,-936.5 603.5,-936.5 \" stroke=\"black\"/>\n",
       "<text font-family=\"Times New Roman,serif\" font-size=\"14.00\" text-anchor=\"middle\" x=\"562\" y=\"-921.3\">(None, 32)</text>\n",
       "</g>\n",
       "<!-- 1297244061200&#45;&gt;1297244060640 -->\n",
       "<g class=\"edge\" id=\"edge11\"><title>1297244061200-&gt;1297244060640</title>\n",
       "<path d=\"M480.901,-996.366C479.38,-988.152 477.622,-978.658 475.968,-969.725\" fill=\"none\" stroke=\"black\"/>\n",
       "<polygon fill=\"black\" points=\"479.356,-968.802 474.094,-959.607 472.473,-970.077 479.356,-968.802\" stroke=\"black\"/>\n",
       "</g>\n",
       "<!-- 1297244061200&#45;&gt;1297316672400 -->\n",
       "<g class=\"edge\" id=\"edge30\"><title>1297244061200-&gt;1297316672400</title>\n",
       "<path d=\"M627.346,-996.439C656.378,-984.352 682.244,-965.825 696,-937.5\" fill=\"none\" stroke=\"black\"/>\n",
       "<path d=\"M696,-935.5C727.842,-869.934 696,-844.389 696,-771.5 696,-771.5 696,-771.5 696,-520.5 696,-447.611 669.932,-424.568 696,-356.5\" fill=\"none\" stroke=\"black\"/>\n",
       "</g>\n",
       "<!-- 1297243520528 -->\n",
       "<g class=\"node\" id=\"node9\"><title>1297243520528</title>\n",
       "<polygon fill=\"none\" points=\"258.5,-830.5 258.5,-876.5 667.5,-876.5 667.5,-830.5 258.5,-830.5\" stroke=\"black\"/>\n",
       "<text font-family=\"Times New Roman,serif\" font-size=\"14.00\" text-anchor=\"middle\" x=\"396.5\" y=\"-849.8\">encoder_2/norm: CustomLayer_Normalization</text>\n",
       "<polyline fill=\"none\" points=\"534.5,-830.5 534.5,-876.5 \" stroke=\"black\"/>\n",
       "<text font-family=\"Times New Roman,serif\" font-size=\"14.00\" text-anchor=\"middle\" x=\"562.5\" y=\"-861.3\">input:</text>\n",
       "<polyline fill=\"none\" points=\"534.5,-853.5 590.5,-853.5 \" stroke=\"black\"/>\n",
       "<text font-family=\"Times New Roman,serif\" font-size=\"14.00\" text-anchor=\"middle\" x=\"562.5\" y=\"-838.3\">output:</text>\n",
       "<polyline fill=\"none\" points=\"590.5,-830.5 590.5,-876.5 \" stroke=\"black\"/>\n",
       "<text font-family=\"Times New Roman,serif\" font-size=\"14.00\" text-anchor=\"middle\" x=\"629\" y=\"-861.3\">(None, 32)</text>\n",
       "<polyline fill=\"none\" points=\"590.5,-853.5 667.5,-853.5 \" stroke=\"black\"/>\n",
       "<text font-family=\"Times New Roman,serif\" font-size=\"14.00\" text-anchor=\"middle\" x=\"629\" y=\"-838.3\">(None, 32)</text>\n",
       "</g>\n",
       "<!-- 1297244060640&#45;&gt;1297243520528 -->\n",
       "<g class=\"edge\" id=\"edge13\"><title>1297244060640-&gt;1297243520528</title>\n",
       "<path d=\"M468.087,-913.366C467.377,-905.152 466.557,-895.658 465.785,-886.725\" fill=\"none\" stroke=\"black\"/>\n",
       "<polygon fill=\"black\" points=\"469.259,-886.268 464.91,-876.607 462.285,-886.871 469.259,-886.268\" stroke=\"black\"/>\n",
       "</g>\n",
       "<!-- 1297243520864 -->\n",
       "<g class=\"node\" id=\"node10\"><title>1297243520864</title>\n",
       "<polygon fill=\"none\" points=\"149,-747.5 149,-793.5 481,-793.5 481,-747.5 149,-747.5\" stroke=\"black\"/>\n",
       "<text font-family=\"Times New Roman,serif\" font-size=\"14.00\" text-anchor=\"middle\" x=\"248.5\" y=\"-766.8\">encoder_2/noise: GaussianNoise</text>\n",
       "<polyline fill=\"none\" points=\"348,-747.5 348,-793.5 \" stroke=\"black\"/>\n",
       "<text font-family=\"Times New Roman,serif\" font-size=\"14.00\" text-anchor=\"middle\" x=\"376\" y=\"-778.3\">input:</text>\n",
       "<polyline fill=\"none\" points=\"348,-770.5 404,-770.5 \" stroke=\"black\"/>\n",
       "<text font-family=\"Times New Roman,serif\" font-size=\"14.00\" text-anchor=\"middle\" x=\"376\" y=\"-755.3\">output:</text>\n",
       "<polyline fill=\"none\" points=\"404,-747.5 404,-793.5 \" stroke=\"black\"/>\n",
       "<text font-family=\"Times New Roman,serif\" font-size=\"14.00\" text-anchor=\"middle\" x=\"442.5\" y=\"-778.3\">(None, 32)</text>\n",
       "<polyline fill=\"none\" points=\"404,-770.5 481,-770.5 \" stroke=\"black\"/>\n",
       "<text font-family=\"Times New Roman,serif\" font-size=\"14.00\" text-anchor=\"middle\" x=\"442.5\" y=\"-755.3\">(None, 32)</text>\n",
       "</g>\n",
       "<!-- 1297243520528&#45;&gt;1297243520864 -->\n",
       "<g class=\"edge\" id=\"edge15\"><title>1297243520528-&gt;1297243520864</title>\n",
       "<path d=\"M422.558,-830.366C404.53,-820.5 383.131,-808.788 364.186,-798.419\" fill=\"none\" stroke=\"black\"/>\n",
       "<polygon fill=\"black\" points=\"365.845,-795.338 355.393,-793.607 362.485,-801.478 365.845,-795.338\" stroke=\"black\"/>\n",
       "</g>\n",
       "<!-- 1297244046448 -->\n",
       "<g class=\"node\" id=\"node11\"><title>1297244046448</title>\n",
       "<polygon fill=\"none\" points=\"236.5,-664.5 236.5,-710.5 579.5,-710.5 579.5,-664.5 236.5,-664.5\" stroke=\"black\"/>\n",
       "<text font-family=\"Times New Roman,serif\" font-size=\"14.00\" text-anchor=\"middle\" x=\"341.5\" y=\"-683.8\">encoder_2/bn: BatchNormalization</text>\n",
       "<polyline fill=\"none\" points=\"446.5,-664.5 446.5,-710.5 \" stroke=\"black\"/>\n",
       "<text font-family=\"Times New Roman,serif\" font-size=\"14.00\" text-anchor=\"middle\" x=\"474.5\" y=\"-695.3\">input:</text>\n",
       "<polyline fill=\"none\" points=\"446.5,-687.5 502.5,-687.5 \" stroke=\"black\"/>\n",
       "<text font-family=\"Times New Roman,serif\" font-size=\"14.00\" text-anchor=\"middle\" x=\"474.5\" y=\"-672.3\">output:</text>\n",
       "<polyline fill=\"none\" points=\"502.5,-664.5 502.5,-710.5 \" stroke=\"black\"/>\n",
       "<text font-family=\"Times New Roman,serif\" font-size=\"14.00\" text-anchor=\"middle\" x=\"541\" y=\"-695.3\">(None, 32)</text>\n",
       "<polyline fill=\"none\" points=\"502.5,-687.5 579.5,-687.5 \" stroke=\"black\"/>\n",
       "<text font-family=\"Times New Roman,serif\" font-size=\"14.00\" text-anchor=\"middle\" x=\"541\" y=\"-672.3\">(None, 32)</text>\n",
       "</g>\n",
       "<!-- 1297243520528&#45;&gt;1297244046448 -->\n",
       "<g class=\"edge\" id=\"edge17\"><title>1297243520528-&gt;1297244046448</title>\n",
       "<path d=\"M477.386,-830.465C489.84,-808.381 503.85,-773.893 490,-747 483.811,-734.983 473.884,-724.889 463.04,-716.653\" fill=\"none\" stroke=\"black\"/>\n",
       "<polygon fill=\"black\" points=\"464.806,-713.616 454.616,-710.716 460.773,-719.337 464.806,-713.616\" stroke=\"black\"/>\n",
       "</g>\n",
       "<!-- 1297243520864&#45;&gt;1297244046448 -->\n",
       "<g class=\"edge\" id=\"edge16\"><title>1297243520864-&gt;1297244046448</title>\n",
       "<path d=\"M340.413,-747.366C351.075,-738.08 363.613,-727.16 374.976,-717.262\" fill=\"none\" stroke=\"black\"/>\n",
       "<polygon fill=\"black\" points=\"377.376,-719.814 382.618,-710.607 372.778,-714.535 377.376,-719.814\" stroke=\"black\"/>\n",
       "</g>\n",
       "<!-- 1297244046728 -->\n",
       "<g class=\"node\" id=\"node12\"><title>1297244046728</title>\n",
       "<polygon fill=\"none\" points=\"252,-581.5 252,-627.5 564,-627.5 564,-581.5 252,-581.5\" stroke=\"black\"/>\n",
       "<text font-family=\"Times New Roman,serif\" font-size=\"14.00\" text-anchor=\"middle\" x=\"341.5\" y=\"-600.8\">encoder_2/output: Activation</text>\n",
       "<polyline fill=\"none\" points=\"431,-581.5 431,-627.5 \" stroke=\"black\"/>\n",
       "<text font-family=\"Times New Roman,serif\" font-size=\"14.00\" text-anchor=\"middle\" x=\"459\" y=\"-612.3\">input:</text>\n",
       "<polyline fill=\"none\" points=\"431,-604.5 487,-604.5 \" stroke=\"black\"/>\n",
       "<text font-family=\"Times New Roman,serif\" font-size=\"14.00\" text-anchor=\"middle\" x=\"459\" y=\"-589.3\">output:</text>\n",
       "<polyline fill=\"none\" points=\"487,-581.5 487,-627.5 \" stroke=\"black\"/>\n",
       "<text font-family=\"Times New Roman,serif\" font-size=\"14.00\" text-anchor=\"middle\" x=\"525.5\" y=\"-612.3\">(None, 32)</text>\n",
       "<polyline fill=\"none\" points=\"487,-604.5 564,-604.5 \" stroke=\"black\"/>\n",
       "<text font-family=\"Times New Roman,serif\" font-size=\"14.00\" text-anchor=\"middle\" x=\"525.5\" y=\"-589.3\">(None, 32)</text>\n",
       "</g>\n",
       "<!-- 1297244046448&#45;&gt;1297244046728 -->\n",
       "<g class=\"edge\" id=\"edge18\"><title>1297244046448-&gt;1297244046728</title>\n",
       "<path d=\"M408,-664.366C408,-656.152 408,-646.658 408,-637.725\" fill=\"none\" stroke=\"black\"/>\n",
       "<polygon fill=\"black\" points=\"411.5,-637.607 408,-627.607 404.5,-637.607 411.5,-637.607\" stroke=\"black\"/>\n",
       "</g>\n",
       "<!-- 1297346434496 -->\n",
       "<g class=\"node\" id=\"node13\"><title>1297346434496</title>\n",
       "<polygon fill=\"none\" points=\"120,-498.5 120,-544.5 380,-544.5 380,-498.5 120,-498.5\" stroke=\"black\"/>\n",
       "<text font-family=\"Times New Roman,serif\" font-size=\"14.00\" text-anchor=\"middle\" x=\"180.5\" y=\"-517.8\">decoder1/lt: Dense</text>\n",
       "<polyline fill=\"none\" points=\"241,-498.5 241,-544.5 \" stroke=\"black\"/>\n",
       "<text font-family=\"Times New Roman,serif\" font-size=\"14.00\" text-anchor=\"middle\" x=\"269\" y=\"-529.3\">input:</text>\n",
       "<polyline fill=\"none\" points=\"241,-521.5 297,-521.5 \" stroke=\"black\"/>\n",
       "<text font-family=\"Times New Roman,serif\" font-size=\"14.00\" text-anchor=\"middle\" x=\"269\" y=\"-506.3\">output:</text>\n",
       "<polyline fill=\"none\" points=\"297,-498.5 297,-544.5 \" stroke=\"black\"/>\n",
       "<text font-family=\"Times New Roman,serif\" font-size=\"14.00\" text-anchor=\"middle\" x=\"338.5\" y=\"-529.3\">(None, 32)</text>\n",
       "<polyline fill=\"none\" points=\"297,-521.5 380,-521.5 \" stroke=\"black\"/>\n",
       "<text font-family=\"Times New Roman,serif\" font-size=\"14.00\" text-anchor=\"middle\" x=\"338.5\" y=\"-506.3\">(None, 128)</text>\n",
       "</g>\n",
       "<!-- 1297244046728&#45;&gt;1297346434496 -->\n",
       "<g class=\"edge\" id=\"edge20\"><title>1297244046728-&gt;1297346434496</title>\n",
       "<path d=\"M364.826,-581.366C345.493,-571.455 322.528,-559.682 302.235,-549.279\" fill=\"none\" stroke=\"black\"/>\n",
       "<polygon fill=\"black\" points=\"303.617,-546.054 293.122,-544.607 300.424,-552.283 303.617,-546.054\" stroke=\"black\"/>\n",
       "</g>\n",
       "<!-- 1297244060528 -->\n",
       "<g class=\"node\" id=\"node18\"><title>1297244060528</title>\n",
       "<polygon fill=\"none\" points=\"426,-415.5 426,-461.5 668,-461.5 668,-415.5 426,-415.5\" stroke=\"black\"/>\n",
       "<text font-family=\"Times New Roman,serif\" font-size=\"14.00\" text-anchor=\"middle\" x=\"480.5\" y=\"-434.8\">predictor: Dense</text>\n",
       "<polyline fill=\"none\" points=\"535,-415.5 535,-461.5 \" stroke=\"black\"/>\n",
       "<text font-family=\"Times New Roman,serif\" font-size=\"14.00\" text-anchor=\"middle\" x=\"563\" y=\"-446.3\">input:</text>\n",
       "<polyline fill=\"none\" points=\"535,-438.5 591,-438.5 \" stroke=\"black\"/>\n",
       "<text font-family=\"Times New Roman,serif\" font-size=\"14.00\" text-anchor=\"middle\" x=\"563\" y=\"-423.3\">output:</text>\n",
       "<polyline fill=\"none\" points=\"591,-415.5 591,-461.5 \" stroke=\"black\"/>\n",
       "<text font-family=\"Times New Roman,serif\" font-size=\"14.00\" text-anchor=\"middle\" x=\"629.5\" y=\"-446.3\">(None, 32)</text>\n",
       "<polyline fill=\"none\" points=\"591,-438.5 668,-438.5 \" stroke=\"black\"/>\n",
       "<text font-family=\"Times New Roman,serif\" font-size=\"14.00\" text-anchor=\"middle\" x=\"629.5\" y=\"-423.3\">(None, 10)</text>\n",
       "</g>\n",
       "<!-- 1297244046728&#45;&gt;1297244060528 -->\n",
       "<g class=\"edge\" id=\"edge25\"><title>1297244046728-&gt;1297244060528</title>\n",
       "<path d=\"M426.746,-581.382C451.271,-552.446 494.335,-501.637 521.725,-469.321\" fill=\"none\" stroke=\"black\"/>\n",
       "<polygon fill=\"black\" points=\"524.534,-471.42 528.329,-461.529 519.194,-466.894 524.534,-471.42\" stroke=\"black\"/>\n",
       "</g>\n",
       "<!-- 1297346502440 -->\n",
       "<g class=\"node\" id=\"node14\"><title>1297346502440</title>\n",
       "<polygon fill=\"none\" points=\"0,-415.5 0,-461.5 408,-461.5 408,-415.5 0,-415.5\" stroke=\"black\"/>\n",
       "<text font-family=\"Times New Roman,serif\" font-size=\"14.00\" text-anchor=\"middle\" x=\"134.5\" y=\"-434.8\">decoder1/norm: CustomLayer_Normalization</text>\n",
       "<polyline fill=\"none\" points=\"269,-415.5 269,-461.5 \" stroke=\"black\"/>\n",
       "<text font-family=\"Times New Roman,serif\" font-size=\"14.00\" text-anchor=\"middle\" x=\"297\" y=\"-446.3\">input:</text>\n",
       "<polyline fill=\"none\" points=\"269,-438.5 325,-438.5 \" stroke=\"black\"/>\n",
       "<text font-family=\"Times New Roman,serif\" font-size=\"14.00\" text-anchor=\"middle\" x=\"297\" y=\"-423.3\">output:</text>\n",
       "<polyline fill=\"none\" points=\"325,-415.5 325,-461.5 \" stroke=\"black\"/>\n",
       "<text font-family=\"Times New Roman,serif\" font-size=\"14.00\" text-anchor=\"middle\" x=\"366.5\" y=\"-446.3\">(None, 128)</text>\n",
       "<polyline fill=\"none\" points=\"325,-438.5 408,-438.5 \" stroke=\"black\"/>\n",
       "<text font-family=\"Times New Roman,serif\" font-size=\"14.00\" text-anchor=\"middle\" x=\"366.5\" y=\"-423.3\">(None, 128)</text>\n",
       "</g>\n",
       "<!-- 1297346434496&#45;&gt;1297346502440 -->\n",
       "<g class=\"edge\" id=\"edge21\"><title>1297346434496-&gt;1297346502440</title>\n",
       "<path d=\"M237.43,-498.366C232.562,-489.794 226.903,-479.83 221.641,-470.563\" fill=\"none\" stroke=\"black\"/>\n",
       "<polygon fill=\"black\" points=\"224.536,-468.574 216.555,-461.607 218.449,-472.031 224.536,-468.574\" stroke=\"black\"/>\n",
       "</g>\n",
       "<!-- 1297346501712 -->\n",
       "<g class=\"node\" id=\"node15\"><title>1297346501712</title>\n",
       "<polygon fill=\"none\" points=\"308,-332.5 308,-378.5 620,-378.5 620,-332.5 308,-332.5\" stroke=\"black\"/>\n",
       "<text font-family=\"Times New Roman,serif\" font-size=\"14.00\" text-anchor=\"middle\" x=\"394.5\" y=\"-351.8\">decoder1/output: Activation</text>\n",
       "<polyline fill=\"none\" points=\"481,-332.5 481,-378.5 \" stroke=\"black\"/>\n",
       "<text font-family=\"Times New Roman,serif\" font-size=\"14.00\" text-anchor=\"middle\" x=\"509\" y=\"-363.3\">input:</text>\n",
       "<polyline fill=\"none\" points=\"481,-355.5 537,-355.5 \" stroke=\"black\"/>\n",
       "<text font-family=\"Times New Roman,serif\" font-size=\"14.00\" text-anchor=\"middle\" x=\"509\" y=\"-340.3\">output:</text>\n",
       "<polyline fill=\"none\" points=\"537,-332.5 537,-378.5 \" stroke=\"black\"/>\n",
       "<text font-family=\"Times New Roman,serif\" font-size=\"14.00\" text-anchor=\"middle\" x=\"578.5\" y=\"-363.3\">(None, 128)</text>\n",
       "<polyline fill=\"none\" points=\"537,-355.5 620,-355.5 \" stroke=\"black\"/>\n",
       "<text font-family=\"Times New Roman,serif\" font-size=\"14.00\" text-anchor=\"middle\" x=\"578.5\" y=\"-340.3\">(None, 128)</text>\n",
       "</g>\n",
       "<!-- 1297346502440&#45;&gt;1297346501712 -->\n",
       "<g class=\"edge\" id=\"edge22\"><title>1297346502440-&gt;1297346501712</title>\n",
       "<path d=\"M274.703,-415.473C308.378,-404.982 348.81,-392.386 383.645,-381.534\" fill=\"none\" stroke=\"black\"/>\n",
       "<polygon fill=\"black\" points=\"384.805,-384.838 393.311,-378.522 382.723,-378.155 384.805,-384.838\" stroke=\"black\"/>\n",
       "</g>\n",
       "<!-- 1297318311920 -->\n",
       "<g class=\"node\" id=\"node16\"><title>1297318311920</title>\n",
       "<polygon fill=\"none\" points=\"334,-249.5 334,-295.5 594,-295.5 594,-249.5 334,-249.5\" stroke=\"black\"/>\n",
       "<text font-family=\"Times New Roman,serif\" font-size=\"14.00\" text-anchor=\"middle\" x=\"394.5\" y=\"-268.8\">decoder0/lt: Dense</text>\n",
       "<polyline fill=\"none\" points=\"455,-249.5 455,-295.5 \" stroke=\"black\"/>\n",
       "<text font-family=\"Times New Roman,serif\" font-size=\"14.00\" text-anchor=\"middle\" x=\"483\" y=\"-280.3\">input:</text>\n",
       "<polyline fill=\"none\" points=\"455,-272.5 511,-272.5 \" stroke=\"black\"/>\n",
       "<text font-family=\"Times New Roman,serif\" font-size=\"14.00\" text-anchor=\"middle\" x=\"483\" y=\"-257.3\">output:</text>\n",
       "<polyline fill=\"none\" points=\"511,-249.5 511,-295.5 \" stroke=\"black\"/>\n",
       "<text font-family=\"Times New Roman,serif\" font-size=\"14.00\" text-anchor=\"middle\" x=\"552.5\" y=\"-280.3\">(None, 128)</text>\n",
       "<polyline fill=\"none\" points=\"511,-272.5 594,-272.5 \" stroke=\"black\"/>\n",
       "<text font-family=\"Times New Roman,serif\" font-size=\"14.00\" text-anchor=\"middle\" x=\"552.5\" y=\"-257.3\">(None, 784)</text>\n",
       "</g>\n",
       "<!-- 1297346501712&#45;&gt;1297318311920 -->\n",
       "<g class=\"edge\" id=\"edge23\"><title>1297346501712-&gt;1297318311920</title>\n",
       "<path d=\"M464,-332.366C464,-324.152 464,-314.658 464,-305.725\" fill=\"none\" stroke=\"black\"/>\n",
       "<polygon fill=\"black\" points=\"467.5,-305.607 464,-295.607 460.5,-305.607 467.5,-305.607\" stroke=\"black\"/>\n",
       "</g>\n",
       "<!-- 1297346501712&#45;&gt;1297316672400 -->\n",
       "<g class=\"edge\" id=\"edge31\"><title>1297346501712-&gt;1297316672400</title>\n",
       "<path d=\"M569.673,-332.461C624.835,-318.27 683.443,-297.925 696,-273.5\" fill=\"none\" stroke=\"black\"/>\n",
       "<path d=\"M696,-271.5C735.289,-195.078 697.467,-156.53 653,-83 646.534,-72.3079 637.62,-62.256 628.602,-53.6015\" fill=\"none\" stroke=\"black\"/>\n",
       "<polygon fill=\"black\" points=\"630.789,-50.8581 621.054,-46.677 626.057,-56.0164 630.789,-50.8581\" stroke=\"black\"/>\n",
       "</g>\n",
       "<!-- 1297346434552 -->\n",
       "<g class=\"node\" id=\"node17\"><title>1297346434552</title>\n",
       "<polygon fill=\"none\" points=\"260,-166.5 260,-212.5 668,-212.5 668,-166.5 260,-166.5\" stroke=\"black\"/>\n",
       "<text font-family=\"Times New Roman,serif\" font-size=\"14.00\" text-anchor=\"middle\" x=\"394.5\" y=\"-185.8\">decoder0/norm: CustomLayer_Normalization</text>\n",
       "<polyline fill=\"none\" points=\"529,-166.5 529,-212.5 \" stroke=\"black\"/>\n",
       "<text font-family=\"Times New Roman,serif\" font-size=\"14.00\" text-anchor=\"middle\" x=\"557\" y=\"-197.3\">input:</text>\n",
       "<polyline fill=\"none\" points=\"529,-189.5 585,-189.5 \" stroke=\"black\"/>\n",
       "<text font-family=\"Times New Roman,serif\" font-size=\"14.00\" text-anchor=\"middle\" x=\"557\" y=\"-174.3\">output:</text>\n",
       "<polyline fill=\"none\" points=\"585,-166.5 585,-212.5 \" stroke=\"black\"/>\n",
       "<text font-family=\"Times New Roman,serif\" font-size=\"14.00\" text-anchor=\"middle\" x=\"626.5\" y=\"-197.3\">(None, 784)</text>\n",
       "<polyline fill=\"none\" points=\"585,-189.5 668,-189.5 \" stroke=\"black\"/>\n",
       "<text font-family=\"Times New Roman,serif\" font-size=\"14.00\" text-anchor=\"middle\" x=\"626.5\" y=\"-174.3\">(None, 784)</text>\n",
       "</g>\n",
       "<!-- 1297318311920&#45;&gt;1297346434552 -->\n",
       "<g class=\"edge\" id=\"edge24\"><title>1297318311920-&gt;1297346434552</title>\n",
       "<path d=\"M464,-249.366C464,-241.152 464,-231.658 464,-222.725\" fill=\"none\" stroke=\"black\"/>\n",
       "<polygon fill=\"black\" points=\"467.5,-222.607 464,-212.607 460.5,-222.607 467.5,-222.607\" stroke=\"black\"/>\n",
       "</g>\n",
       "<!-- 1297346436792 -->\n",
       "<g class=\"node\" id=\"node19\"><title>1297346436792</title>\n",
       "<polygon fill=\"none\" points=\"332,-83.5 332,-129.5 644,-129.5 644,-83.5 332,-83.5\" stroke=\"black\"/>\n",
       "<text font-family=\"Times New Roman,serif\" font-size=\"14.00\" text-anchor=\"middle\" x=\"418.5\" y=\"-102.8\">decoder0/output: Activation</text>\n",
       "<polyline fill=\"none\" points=\"505,-83.5 505,-129.5 \" stroke=\"black\"/>\n",
       "<text font-family=\"Times New Roman,serif\" font-size=\"14.00\" text-anchor=\"middle\" x=\"533\" y=\"-114.3\">input:</text>\n",
       "<polyline fill=\"none\" points=\"505,-106.5 561,-106.5 \" stroke=\"black\"/>\n",
       "<text font-family=\"Times New Roman,serif\" font-size=\"14.00\" text-anchor=\"middle\" x=\"533\" y=\"-91.3\">output:</text>\n",
       "<polyline fill=\"none\" points=\"561,-83.5 561,-129.5 \" stroke=\"black\"/>\n",
       "<text font-family=\"Times New Roman,serif\" font-size=\"14.00\" text-anchor=\"middle\" x=\"602.5\" y=\"-114.3\">(None, 784)</text>\n",
       "<polyline fill=\"none\" points=\"561,-106.5 644,-106.5 \" stroke=\"black\"/>\n",
       "<text font-family=\"Times New Roman,serif\" font-size=\"14.00\" text-anchor=\"middle\" x=\"602.5\" y=\"-91.3\">(None, 784)</text>\n",
       "</g>\n",
       "<!-- 1297346434552&#45;&gt;1297346436792 -->\n",
       "<g class=\"edge\" id=\"edge26\"><title>1297346434552-&gt;1297346436792</title>\n",
       "<path d=\"M470.558,-166.366C473.019,-158.062 475.866,-148.451 478.538,-139.434\" fill=\"none\" stroke=\"black\"/>\n",
       "<polygon fill=\"black\" points=\"481.965,-140.189 481.45,-129.607 475.253,-138.2 481.965,-140.189\" stroke=\"black\"/>\n",
       "</g>\n",
       "<!-- 1297244060528&#45;&gt;1297316672400 -->\n",
       "<g class=\"edge\" id=\"edge27\"><title>1297244060528-&gt;1297316672400</title>\n",
       "<path d=\"M696,-354.5C708.875,-320.881 677.286,-304.254 696,-273.5\" fill=\"none\" stroke=\"black\"/>\n",
       "<path d=\"M631.826,-415.456C659.17,-403.283 685.207,-384.683 696,-356.5\" fill=\"none\" stroke=\"black\"/>\n",
       "</g>\n",
       "<!-- 1297346436792&#45;&gt;1297316672400 -->\n",
       "<g class=\"edge\" id=\"edge29\"><title>1297346436792-&gt;1297316672400</title>\n",
       "<path d=\"M516.418,-83.3664C528.456,-73.9909 542.633,-62.9494 555.437,-52.9773\" fill=\"none\" stroke=\"black\"/>\n",
       "<polygon fill=\"black\" points=\"557.877,-55.5128 563.616,-46.6068 553.576,-49.9902 557.877,-55.5128\" stroke=\"black\"/>\n",
       "</g>\n",
       "</g>\n",
       "</svg>"
      ],
      "text/plain": [
       "<IPython.core.display.SVG object>"
      ]
     },
     "execution_count": 16,
     "metadata": {},
     "output_type": "execute_result"
    }
   ],
   "source": [
    "#ladder_custom.summary()\n",
    "SVG(model_to_dot(ladder_custom,show_shapes=True).create(prog='dot',format='svg'))"
   ]
  },
  {
   "cell_type": "markdown",
   "metadata": {},
   "source": [
    "## Compiling the model\n",
    "In the compiler, supply the loss of the supervised part. The reconstruction loss is added automatically by the model due to the custom layer. "
   ]
  },
  {
   "cell_type": "code",
   "execution_count": 17,
   "metadata": {},
   "outputs": [],
   "source": [
    "ladder_custom.compile(optimizer='adadelta', loss='categorical_crossentropy')"
   ]
  },
  {
   "cell_type": "code",
   "execution_count": 18,
   "metadata": {},
   "outputs": [
    {
     "name": "stdout",
     "output_type": "stream",
     "text": [
      "__________________________________________________________________________________________________\n",
      "Layer (type)                    Output Shape         Param #     Connected to                     \n",
      "==================================================================================================\n",
      "input_img (InputLayer)          (None, 784)          0                                            \n",
      "__________________________________________________________________________________________________\n",
      "corrupt_img (GaussianNoise)     (None, 784)          0           input_img[0][0]                  \n",
      "__________________________________________________________________________________________________\n",
      "encoder_1/lt (Dense)            (None, 128)          100480      corrupt_img[0][0]                \n",
      "                                                                 input_img[0][0]                  \n",
      "__________________________________________________________________________________________________\n",
      "encoder_1/norm (CustomLayer_Nor (None, 128)          0           encoder_1/lt[0][0]               \n",
      "                                                                 encoder_1/lt[1][0]               \n",
      "__________________________________________________________________________________________________\n",
      "encoder_1/noise (GaussianNoise) (None, 128)          0           encoder_1/norm[0][0]             \n",
      "__________________________________________________________________________________________________\n",
      "encoder_1/bn (BatchNormalizatio (None, 128)          512         encoder_1/noise[0][0]            \n",
      "                                                                 encoder_1/norm[1][0]             \n",
      "__________________________________________________________________________________________________\n",
      "encoder_1/output (Activation)   (None, 128)          0           encoder_1/bn[0][0]               \n",
      "                                                                 encoder_1/bn[1][0]               \n",
      "__________________________________________________________________________________________________\n",
      "encoder_2/lt (Dense)            (None, 32)           4128        encoder_1/output[0][0]           \n",
      "                                                                 encoder_1/output[1][0]           \n",
      "__________________________________________________________________________________________________\n",
      "encoder_2/norm (CustomLayer_Nor (None, 32)           0           encoder_2/lt[0][0]               \n",
      "                                                                 encoder_2/lt[1][0]               \n",
      "__________________________________________________________________________________________________\n",
      "encoder_2/noise (GaussianNoise) (None, 32)           0           encoder_2/norm[0][0]             \n",
      "__________________________________________________________________________________________________\n",
      "encoder_2/bn (BatchNormalizatio (None, 32)           128         encoder_2/noise[0][0]            \n",
      "                                                                 encoder_2/norm[1][0]             \n",
      "__________________________________________________________________________________________________\n",
      "encoder_2/output (Activation)   (None, 32)           0           encoder_2/bn[0][0]               \n",
      "                                                                 encoder_2/bn[1][0]               \n",
      "__________________________________________________________________________________________________\n",
      "decoder1/lt (Dense)             (None, 128)          4224        encoder_2/output[0][0]           \n",
      "__________________________________________________________________________________________________\n",
      "decoder1/norm (CustomLayer_Norm (None, 128)          0           decoder1/lt[0][0]                \n",
      "__________________________________________________________________________________________________\n",
      "decoder1/output (Activation)    (None, 128)          0           decoder1/norm[0][0]              \n",
      "__________________________________________________________________________________________________\n",
      "decoder0/lt (Dense)             (None, 784)          101136      decoder1/output[0][0]            \n",
      "__________________________________________________________________________________________________\n",
      "decoder0/norm (CustomLayer_Norm (None, 784)          0           decoder0/lt[0][0]                \n",
      "__________________________________________________________________________________________________\n",
      "predictor (Dense)               (None, 10)           330         encoder_2/output[1][0]           \n",
      "__________________________________________________________________________________________________\n",
      "decoder0/output (Activation)    (None, 784)          0           decoder0/norm[0][0]              \n",
      "__________________________________________________________________________________________________\n",
      "custom_layer__recon_loss_1 (Cus (None, 10)           0           predictor[0][0]                  \n",
      "                                                                 input_img[0][0]                  \n",
      "                                                                 decoder0/output[0][0]            \n",
      "                                                                 encoder_1/output[1][0]           \n",
      "                                                                 decoder1/output[0][0]            \n",
      "==================================================================================================\n",
      "Total params: 210,938\n",
      "Trainable params: 210,618\n",
      "Non-trainable params: 320\n",
      "__________________________________________________________________________________________________\n"
     ]
    }
   ],
   "source": [
    "ladder_custom.summary()"
   ]
  },
  {
   "cell_type": "markdown",
   "metadata": {},
   "source": [
    "## Training the model\n",
    "The model output y are the predicted labels. The loss function, however, containes contributions from the autoencoder. This is why the network is trained to reconstruct (DAE) and classify (clean encoder) simultaneously, even though this cannot be seen from the arguments of the fit below ( (train_x, train_y) looks like a supervised classification only)."
   ]
  },
  {
   "cell_type": "code",
   "execution_count": 19,
   "metadata": {
    "scrolled": false
   },
   "outputs": [
    {
     "name": "stdout",
     "output_type": "stream",
     "text": [
      "Train on 60000 samples, validate on 10000 samples\n",
      "Epoch 1/10\n",
      "60000/60000 [==============================] - 22s 360us/step - loss: 1.7633 - val_loss: 1.3798\n",
      "Epoch 2/10\n",
      "60000/60000 [==============================] - 21s 356us/step - loss: 1.3501 - val_loss: 1.3130\n",
      "Epoch 3/10\n",
      "60000/60000 [==============================] - 21s 347us/step - loss: 1.2917 - val_loss: 1.2777\n",
      "Epoch 4/10\n",
      "60000/60000 [==============================] - 22s 373us/step - loss: 1.2612 - val_loss: 1.2564\n",
      "Epoch 5/10\n",
      "60000/60000 [==============================] - 21s 346us/step - loss: 1.2394 - val_loss: 1.2514\n",
      "Epoch 6/10\n",
      "60000/60000 [==============================] - 20s 340us/step - loss: 1.2235 - val_loss: 1.2395\n",
      "Epoch 7/10\n",
      "60000/60000 [==============================] - 20s 339us/step - loss: 1.2123 - val_loss: 1.2400\n",
      "Epoch 8/10\n",
      "60000/60000 [==============================] - 21s 344us/step - loss: 1.2035 - val_loss: 1.2347\n",
      "Epoch 9/10\n",
      "60000/60000 [==============================] - 20s 337us/step - loss: 1.1955 - val_loss: 1.2237\n",
      "Epoch 10/10\n",
      "60000/60000 [==============================] - 20s 336us/step - loss: 1.1868 - val_loss: 1.2186\n"
     ]
    }
   ],
   "source": [
    "infoLadder=ladder_custom.fit(x_train,y_train,\n",
    "                epochs=10,\n",
    "                batch_size=100,\n",
    "                shuffle=True,\n",
    "                validation_data=(x_test,y_test))"
   ]
  },
  {
   "cell_type": "markdown",
   "metadata": {},
   "source": [
    "# Predicting and plotting"
   ]
  },
  {
   "cell_type": "markdown",
   "metadata": {},
   "source": [
    "## encode and decode some digits\n"
   ]
  },
  {
   "cell_type": "markdown",
   "metadata": {},
   "source": [
    "A layer is an object which has a well defined number of outputs. The input is not specified upon definition of the layer, but only upon \"linking\", i.e when the layer received a specific input. Only after linking, the weight tensor is defined and can then be trained. "
   ]
  },
  {
   "cell_type": "markdown",
   "metadata": {},
   "source": [
    "### predicting\n",
    "After training the network we obtain a set of linked layers that already contain the trained weights. For example, \"decoded[0]\" stands for the output of the autoencoder which is linked to the input input_img, via a set of specific weights. We can now construct a new model that uses the weights for prediction. \n",
    "\n",
    "After constructing the model we can perform a prediction giving it x_test as an input, and obtaining the decoded image as an output. \n"
   ]
  },
  {
   "cell_type": "code",
   "execution_count": 20,
   "metadata": {
    "collapsed": true
   },
   "outputs": [],
   "source": [
    "ladder_for_prediction = Model(input_img,[decoded[0],predicted_labels])\n",
    "# Thenext two lines are for thesimple feed forawrd without the aouteconde\n",
    "#ladder_for_prediction = Model(input_img,predicted_labels)\n",
    "#encoder_output=ladder_for_prediction.predict(x_test)\n",
    "[decoded_imgs,pred_labels] = ladder_for_prediction.predict(x_test)"
   ]
  },
  {
   "cell_type": "code",
   "execution_count": 21,
   "metadata": {},
   "outputs": [
    {
     "name": "stdout",
     "output_type": "stream",
     "text": [
      "Mean and std of decoded : 0.479, 0.183\n",
      "Mean and std of original: 0.131, 0.301\n",
      "Accuracy: 97.60 %\n"
     ]
    },
    {
     "data": {
      "image/png": "[encoded data removed]",
      "text/plain": [
       "<matplotlib.figure.Figure at 0x12e127a5d30>"
      ]
     },
     "metadata": {},
     "output_type": "display_data"
    }
   ],
   "source": [
    "origmean,origstd=(np.mean(x_train)),np.mean(np.std(x_train,axis=1))\n",
    "decodmean,decodstd=(np.mean(decoded_imgs)),np.mean(np.std(decoded_imgs,axis=1))\n",
    "accuracy=np.mean(np.argmax(pred_labels,axis=1)==y_test_num)*100\n",
    "print(\"Mean and std of decoded : %.3f, %.3f\"%(decodmean,decodstd))\n",
    "print(\"Mean and std of original: %.3f, %.3f\"%(origmean,origstd))\n",
    "print(\"Accuracy: %.2f %%\"%accuracy)\n",
    "\n",
    "\n",
    "n = 20  # how many digits we will display\n",
    "plt.figure(figsize=(20, 2))\n",
    "indices=np.arange(len(x_test))\n",
    "np.random.shuffle(indices)\n",
    "# pick randomly n images out of the test set, reconstruct and display them\n",
    "for i,j in enumerate(indices[:n]):\n",
    "    # display original\n",
    "    ax = plt.subplot(2, n, i + 1)\n",
    "    if np.argmax(pred_labels[j]) == np.argmax(y_test[j]) :\n",
    "        ax.imshow(x_test[j].reshape(28, 28),cmap=plt.cm.gray)\n",
    "        # display predicted label\n",
    "        ax.text(0,28,np.argmax(pred_labels[j]),fontsize=24,color='yellow')\n",
    "    else:\n",
    "        ax.imshow(x_test[j].reshape(28, 28),cmap=plt.cm.gray_r)\n",
    "        ax.text(0,28,np.argmax(pred_labels[j]),fontsize=24,color='red')\n",
    "    plt.gray()\n",
    "    ax.get_xaxis().set_visible(False)\n",
    "    ax.get_yaxis().set_visible(False)\n",
    "    \n",
    "    # display reconstruction\n",
    "    ax = plt.subplot(2, n, i + 1 + n)\n",
    "    plt.imshow(decoded_imgs[j].reshape(28, 28))\n",
    "    plt.gray()\n",
    "    ax.get_xaxis().set_visible(False)\n",
    "    ax.get_yaxis().set_visible(False)\n",
    "    \n",
    "    \n",
    "plt.tight_layout()    "
   ]
  },
  {
   "cell_type": "code",
   "execution_count": null,
   "metadata": {
    "collapsed": true
   },
   "outputs": [],
   "source": [
    "# "
   ]
  },
  {
   "cell_type": "code",
   "execution_count": 22,
   "metadata": {
    "collapsed": true
   },
   "outputs": [],
   "source": [
    "import pickle\n",
    "\n",
    "def save_obj(obj, name ):\n",
    "    with open(name + '.pkl', 'wb') as f:\n",
    "        pickle.dump(obj, f, pickle.HIGHEST_PROTOCOL)\n",
    "\n",
    "def load_obj(name ):\n",
    "    with open(name + '.pkl', 'rb') as f:\n",
    "        return pickle.load(f)\n"
   ]
  },
  {
   "cell_type": "code",
   "execution_count": 25,
   "metadata": {
    "collapsed": true
   },
   "outputs": [],
   "source": [
    "analysis = {}\n",
    "analysis['accuracy'] = accuracy\n",
    "#analysis['training'] = infoLadder"
   ]
  },
  {
   "cell_type": "code",
   "execution_count": 26,
   "metadata": {
    "collapsed": true
   },
   "outputs": [],
   "source": [
    "save_obj(analysis,'ladder_sketch')"
   ]
  },
  {
   "cell_type": "code",
   "execution_count": 68,
   "metadata": {},
   "outputs": [],
   "source": [
    "def savefile(filename):\n",
    "    if theNotebook is None:\n",
    "        print (\"Run the cell starting with %%javascript \")\n",
    "    else:\n",
    "        os.system(\"jupyter nbconvert --to script %s --stdout > %s\"%(theNotebook,filename))"
   ]
  },
  {
   "cell_type": "code",
   "execution_count": 67,
   "metadata": {
    "collapsed": true
   },
   "outputs": [],
   "source": [
    "theNotebook=None"
   ]
  },
  {
   "cell_type": "code",
   "execution_count": 71,
   "metadata": {},
   "outputs": [
    {
     "data": {
      "application/javascript": [
       "var kernel = IPython.notebook.kernel;\n",
       "var thename = window.document.getElementById(\"notebook_name\").innerHTML;\n",
       "var command = \"theNotebook = \" + \"'\"+thename+\"'\";\n",
       "kernel.execute(command)"
      ],
      "text/plain": [
       "<IPython.core.display.Javascript object>"
      ]
     },
     "metadata": {},
     "output_type": "display_data"
    }
   ],
   "source": [
    "%%javascript\n",
    "var kernel = IPython.notebook.kernel;\n",
    "var thename = window.document.getElementById(\"notebook_name\").innerHTML;\n",
    "var command = \"theNotebook = \" + \"'\"+thename+\"'\";\n",
    "kernel.execute(command)"
   ]
  },
  {
   "cell_type": "code",
   "execution_count": 72,
   "metadata": {},
   "outputs": [],
   "source": [
    "savefile(\"gug.py\")"
   ]
  },
  {
   "cell_type": "code",
   "execution_count": 27,
   "metadata": {
    "collapsed": true
   },
   "outputs": [],
   "source": [
    "ladder_custom.save('Model_ladder_sketch')"
   ]
  },
  {
   "cell_type": "code",
   "execution_count": null,
   "metadata": {
    "collapsed": true
   },
   "outputs": [],
   "source": []
  }
 ],
 "metadata": {
  "kernelspec": {
   "display_name": "Python 3",
   "language": "python",
   "name": "python3"
  },
  "language_info": {
   "codemirror_mode": {
    "name": "ipython",
    "version": 3
   },
   "file_extension": ".py",
   "mimetype": "text/x-python",
   "name": "python",
   "nbconvert_exporter": "python",
   "pygments_lexer": "ipython3",
   "version": "3.6.3"
  },
  "toc": {
   "nav_menu": {},
   "number_sections": true,
   "sideBar": true,
   "skip_h1_title": false,
   "toc_cell": false,
   "toc_position": {
    "height": "505px",
    "left": "0px",
    "right": "1184.36px",
    "top": "106px",
    "width": "223px"
   },
   "toc_section_display": "block",
   "toc_window_display": true
  }
 },
 "nbformat": 4,
 "nbformat_minor": 2
}
