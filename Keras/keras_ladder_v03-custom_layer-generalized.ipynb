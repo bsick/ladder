{
 "cells": [
  {
   "cell_type": "markdown",
   "metadata": {},
   "source": [
    "# Fully Connected Ladder Network for Semi-supervised Learning"
   ]
  },
  {
   "cell_type": "markdown",
   "metadata": {},
   "source": [
    "## References\n"
   ]
  },
  {
   "cell_type": "markdown",
   "metadata": {},
   "source": [
    "## Goal"
   ]
  },
  {
   "cell_type": "markdown",
   "metadata": {},
   "source": [
    "## Current status\n",
    "### missing elements\n",
    "1. Reconstruction cost: the decoder is not normalized before inserting into the MSE. Reason: normalization destroyed the reconstruction learning.\n"
   ]
  },
  {
   "cell_type": "markdown",
   "metadata": {},
   "source": [
    "# Imports"
   ]
  },
  {
   "cell_type": "code",
   "execution_count": 1,
   "metadata": {},
   "outputs": [
    {
     "data": {
      "text/plain": [
       "('1.4.0',\n",
       " sys.version_info(major=3, minor=6, micro=3, releaselevel='final', serial=0))"
      ]
     },
     "execution_count": 1,
     "metadata": {},
     "output_type": "execute_result"
    }
   ],
   "source": [
    "# additional imports of python modules\n",
    "# python module imports needed in customized functions:\n",
    "import numpy as np\n",
    "import tensorflow as tf\n",
    "import sys\n",
    "\n",
    "%matplotlib inline\n",
    "import matplotlib.pyplot as plt\n",
    "import matplotlib.image as imgplot\n",
    "import time\n",
    "#import pandas as pd\n",
    "#tf.set_random_seed(1)\n",
    "#np.random.seed(1)\n",
    "import sys\n",
    "tf.__version__, sys.version_info\n",
    "\n"
   ]
  },
  {
   "cell_type": "code",
   "execution_count": 2,
   "metadata": {},
   "outputs": [
    {
     "name": "stderr",
     "output_type": "stream",
     "text": [
      "Using TensorFlow backend.\n"
     ]
    }
   ],
   "source": [
    "import keras\n",
    "from keras.utils import np_utils\n",
    "from keras import backend as K\n",
    "from keras import metrics\n",
    "from keras import initializers\n"
   ]
  },
  {
   "cell_type": "markdown",
   "metadata": {},
   "source": [
    "# Import data from keras"
   ]
  },
  {
   "cell_type": "code",
   "execution_count": 3,
   "metadata": {
    "collapsed": true
   },
   "outputs": [],
   "source": [
    "from keras.datasets import mnist\n",
    "(x_train, y_train), (x_test, y_test_num) = mnist.load_data()"
   ]
  },
  {
   "cell_type": "markdown",
   "metadata": {},
   "source": [
    "We normalize all values between 0 and 1 and we flatten the 28x28 images into vectors of size 784."
   ]
  },
  {
   "cell_type": "code",
   "execution_count": 4,
   "metadata": {},
   "outputs": [
    {
     "name": "stdout",
     "output_type": "stream",
     "text": [
      "(60000, 784)\n",
      "(10000, 784)\n"
     ]
    }
   ],
   "source": [
    "x_train = x_train.astype('float32') / 255.\n",
    "x_test = x_test.astype('float32') / 255.\n",
    "x_train = x_train.reshape((len(x_train), np.prod(x_train.shape[1:])))\n",
    "x_test = x_test.reshape((len(x_test), np.prod(x_test.shape[1:])))\n",
    "print(x_train.shape)\n",
    "print(x_test.shape)\n",
    "y_train = np_utils.to_categorical(y_train, 10)\n",
    "y_test = np_utils.to_categorical(y_test_num, 10)"
   ]
  },
  {
   "cell_type": "markdown",
   "metadata": {},
   "source": [
    "# Ladder network: defining the graph\n"
   ]
  },
  {
   "cell_type": "code",
   "execution_count": 5,
   "metadata": {},
   "outputs": [],
   "source": [
    "from keras.layers import Input, Dense, GaussianNoise, BatchNormalization, Activation, Layer, Merge\n",
    "from keras.models import Model\n",
    "\n",
    "stddev = 0.05"
   ]
  },
  {
   "cell_type": "markdown",
   "metadata": {},
   "source": [
    "## Imports for graph plotting"
   ]
  },
  {
   "cell_type": "code",
   "execution_count": 6,
   "metadata": {
    "collapsed": true
   },
   "outputs": [],
   "source": [
    "from IPython.display import SVG\n",
    "from keras.utils.vis_utils import model_to_dot\n",
    "from keras.utils import plot_model"
   ]
  },
  {
   "cell_type": "markdown",
   "metadata": {},
   "source": [
    "## custom normalization layer\n",
    "Define a layer that performs normalization (=standardization) of a layer using the mean and the var of the inputs to the layer\n",
    "The normalization is required before acting with relu:\n",
    "\n",
    "from https://theneuralperspective.com/2016/10/27/gradient-topics/:\n",
    "\n",
    "There are several types of normalization techniques but the idea behind all of them is the same, which is shifting our inputs to a zero mean and unit variance. We normalize the inputs before applying the non-linearity. We do this because we do not want the inputs to saturate the non-linearities at the extremes. (Checkout SNNs/SELU for some recent updates on this subject).\n",
    "\n",
    "Remark about the difference from batch norm:  Batch normalization is very nice but it is based on minibatch size and so it’s a bit difficult to use with recurrent architectures. With layer normalization, we instead compute the mean and variance using ALL of the summed inputs to the neurons in a layer for EVERY single training case. This removes the dependency on a minibatch size. Unlike batch normalization, the normalization operation for layer norm is same for training and inference. More details can be found on Hinton’s paper here."
   ]
  },
  {
   "cell_type": "code",
   "execution_count": 7,
   "metadata": {
    "collapsed": true
   },
   "outputs": [],
   "source": [
    "class CustomLayer_Normalization(Layer):\n",
    "    \"\"\"Apply layer normalization.\n",
    "       shifting our inputs to a zero mean and unit variance. \n",
    "       We normalize the inputs before applying the non-linearity. \n",
    "       We do this because we do not want the inputs to saturate the non-linearities at the extremes. \n",
    "       (Checkout SNNs/SELU for some recent updates on this subject).\n",
    "       \n",
    "       no need for build -- no trainable weights. \n",
    "        # Arguments\n",
    "            epsilon: regularizer for zero division\n",
    "        # Input shape\n",
    "            Arbitrary. Use the keyword argument `input_shape`\n",
    "            (tuple of integers, does not include the samples axis)\n",
    "            when using this layer as the first layer in a model.\n",
    "        # Output shape\n",
    "            Same shape as input.\n",
    "    \"\"\"\n",
    "    def __init__(self, epsilon = 1e-6, **kwargs):\n",
    "        super(CustomLayer_Normalization, self).__init__(**kwargs)\n",
    "        self.epsilon = epsilon\n",
    "        \n",
    "    def call(self, inputs):\n",
    "        return (inputs - K.mean(inputs,axis=-1,keepdims=True))/(K.std(inputs,axis=-1,keepdims=True)+self.epsilon) # change axis for conv2D\n",
    "        \n",
    "    def compute_output_shape(self, input_shape):\n",
    "        return input_shape\n",
    "    \n"
   ]
  },
  {
   "cell_type": "markdown",
   "metadata": {},
   "source": [
    "## Defining encoder and decoder channels"
   ]
  },
  {
   "cell_type": "markdown",
   "metadata": {},
   "source": [
    "### Functions that build a generic encoder and decoder layer\n",
    "Each encoder or decoder layer is composed of sublayers (e.g linear transformation, normalization, activation sublayers). Here we first build the generic structure of the sublayers without defining their input or output dimensions and linking them to each other. In the next step we define the linking functions that specify how the sublayers are connected to each other and what output is delivered. Note that the output of the building functions is sublayers = a dictionary of the (unlinked) sublayers."
   ]
  },
  {
   "cell_type": "code",
   "execution_count": 8,
   "metadata": {
    "collapsed": true
   },
   "outputs": [],
   "source": [
    "def build_encoder_layer(encoding_dim_,layer_id,stddev_=0.05):\n",
    "    \"\"\"\n",
    "    Create the layers\n",
    "    \n",
    "    Parameters\n",
    "    ==========\n",
    "    \n",
    "    encoding_dim_:int\n",
    "        number of perceptons \n",
    "    layer_id: string\n",
    "        part of the name\n",
    "    stddev: double\n",
    "        standard deviation of the Gaussion noise layer\n",
    "        \n",
    "    Returns\n",
    "    =======\n",
    "    \n",
    "    \n",
    "    \"\"\"\n",
    "    sublayers={}\n",
    "    s_id = 'encoder_' + layer_id + '/'\n",
    "    sublayers['lin_trans'] = Dense(encoding_dim_,activation = None,name=s_id + 'lt')\n",
    "    sublayers['norm'] = CustomLayer_Normalization(name=s_id + 'norm')\n",
    "    sublayers['noise_add'] = GaussianNoise(stddev_,name=s_id + 'noise')\n",
    "    sublayers['batch_norm'] = BatchNormalization(name=s_id + 'bn')\n",
    "    sublayers['activation'] = Activation('relu',name=s_id + 'output')\n",
    "    return sublayers\n",
    "\n",
    "def build_decoder_layer(decoding_dim_,layer_id,activation_name):\n",
    "    sublayers={}\n",
    "    s_id = 'decoder' + layer_id + '/'\n",
    "    sublayers['lin_trans']  = Dense(decoding_dim_,activation = None,name = s_id + 'lt')\n",
    "    sublayers['norm'] = CustomLayer_Normalization(name=s_id + 'norm')\n",
    "    sublayers['activation'] = Activation(activation_name,name=s_id + 'output')\n",
    "    return sublayers"
   ]
  },
  {
   "cell_type": "markdown",
   "metadata": {},
   "source": [
    "### Functions that link the sublayers within the encoder and the decoder\n",
    "Here we define functions that specify how the sublayers within each encoder/decoder layer should be linked to each other. Note that the encoder linking functions return two outputs: the final one and an intermediate one that is required for the combinator function of the ladder."
   ]
  },
  {
   "cell_type": "code",
   "execution_count": 9,
   "metadata": {
    "collapsed": true
   },
   "outputs": [],
   "source": [
    "def link_sublayer_corr_encoder(x,sublayers):\n",
    "    \"\"\"\n",
    "    Link the sublayers for the autoencoder\n",
    "    \n",
    "    Parameters\n",
    "    ==========\n",
    "    x: input for the first sublayer\n",
    "    sublayers: dict containing the sublayers\n",
    "    \n",
    "    Returns\n",
    "    =======\n",
    "     x,y: layer output (after nonlin transformation), and intermediate output (after noise addition)\n",
    "\n",
    "    \"\"\"\n",
    "    try:\n",
    "        x=sublayers['lin_trans'](x)\n",
    "        x=sublayers['norm'](x)\n",
    "        y=sublayers['noise_add'](x)\n",
    "        x=sublayers['batch_norm'](y)\n",
    "        x=sublayers['activation'](x)\n",
    "    except:\n",
    "        print(\"Something failed\")\n",
    "    return x,y\n",
    "\n",
    "def link_sublayer_clean_encoder(x,sublayers):\n",
    "    \"\"\"\n",
    "    Link the sublayers for the supervised approach\n",
    "    \n",
    "    Parameters\n",
    "    ==========\n",
    "    x: input for the first sublayer\n",
    "    sublayers: dict containing the sublayers\n",
    "    \n",
    "    Returns\n",
    "    =======\n",
    "    x,y: layer output (after nonlin transformation), and intermediate output (after normalization)\n",
    "\n",
    "    \"\"\"\n",
    "    try:\n",
    "        x=sublayers['lin_trans'](x)\n",
    "        y=sublayers['norm'](x)\n",
    "        x=sublayers['batch_norm'](y)\n",
    "        x=sublayers['activation'](x)\n",
    "    except:\n",
    "        print(\"Something failed\")\n",
    "    return x,y\n",
    "\n",
    "def link_sublayer_decoder(x,sublayers,do_activation=True):\n",
    "    \"\"\"\n",
    "    Link the sublayers \n",
    "    \n",
    "    Parameters\n",
    "    ==========\n",
    "    x: input for the first sublayer\n",
    "    sublayers: dict containing the sublayers\n",
    "    do_activation: boolean to turn on non linear transformation\n",
    "    \n",
    "    Returns\n",
    "    =======\n",
    "    x: layer output \n",
    "    \"\"\"\n",
    "    try:\n",
    "        x=sublayers['lin_trans'](x)\n",
    "        x=sublayers['norm'](x)\n",
    "        if do_activation is True:\n",
    "            x=sublayers['activation'](x)\n",
    "    except:\n",
    "        print(\"Something failed\")\n",
    "    return x"
   ]
  },
  {
   "cell_type": "markdown",
   "metadata": {},
   "source": [
    "# Combinator custom layer "
   ]
  },
  {
   "cell_type": "code",
   "execution_count": 10,
   "metadata": {},
   "outputs": [],
   "source": [
    "class CombinatorLayer(Layer):\n",
    "\n",
    "    #def __init__(self, output_dim, **kwargs):\n",
    "    #    self.output_dim = output_dim\n",
    "    #    super(CombinatorLayer, self).__init__(**kwargs)\n",
    "    def __init__(self, combinator, **kwargs):\n",
    "        self.combinator = combinator\n",
    "        super(CombinatorLayer, self).__init__(**kwargs)\n",
    "\n",
    "    def build(self, input_shape):\n",
    "        # Create a trainable weight variable for this layer.\n",
    "        #print(input_shape)\n",
    "        #print(input_shape[0][1])\n",
    "        self.len_layer = input_shape[0][1]\n",
    "        self.b0 = self.add_weight(name='b0', \n",
    "                                      shape=(1,self.len_layer),\n",
    "                                      initializer='zeros',\n",
    "                                      trainable=True)\n",
    "        self.w_0z = self.add_weight(name='w_0z_lat', \n",
    "                                      shape=(1,self.len_layer),\n",
    "                                      initializer='ones',\n",
    "                                      trainable=True)\n",
    "        self.w_0u = self.add_weight(name='w_0u_ver', \n",
    "                                      shape=(1,self.len_layer),\n",
    "                                      initializer='zeros',\n",
    "                                      trainable=True)\n",
    "        self.w_0zu = self.add_weight(name='w_0zu', \n",
    "                                      shape=(1,self.len_layer),\n",
    "                                      initializer='zeros',\n",
    "                                      trainable=True)\n",
    "        self.b1 = self.add_weight(name='b1', \n",
    "                                      shape=(1,self.len_layer),\n",
    "                                      initializer='zeros',\n",
    "                                      trainable=True)\n",
    "        self.w_1z = self.add_weight(name='w_1z_lat', \n",
    "                                      shape=(1,self.len_layer),\n",
    "                                      initializer='ones',\n",
    "                                      trainable=True)\n",
    "        self.w_1u = self.add_weight(name='w_1u_ver', \n",
    "                                      shape=(1,self.len_layer),\n",
    "                                      initializer='zeros',\n",
    "                                      trainable=True)\n",
    "        self.w_1zu = self.add_weight(name='w_1zu', \n",
    "                                      shape=(1,self.len_layer),\n",
    "                                      initializer='zeros',\n",
    "                                      trainable=True)\n",
    "        self.w_sig = self.add_weight(name='w_sig', \n",
    "                                      shape=(1,self.len_layer),\n",
    "                                      initializer='ones',\n",
    "                                      trainable=True)\n",
    "        super(CombinatorLayer, self).build(input_shape)  # Be sure to call this somewhere!\n",
    "\n",
    "    \n",
    "    def call(self, inputs):\n",
    "        #print(inputs[0])\n",
    "        # inputs is a concatination of two layer, each of length self.len_layer\n",
    "        lat = inputs[0]\n",
    "        ver = inputs[1]\n",
    "        if combinator=='linear':\n",
    "            return lat * self.w_0z + ver * self.w_0u + self.b0 # assuming broadcasting on the batch size\n",
    "        elif combinator=='vanilla':\n",
    "            return self.b0+self.w_0z*lat+self.w_0u*ver+self.w_0zu*lat*ver+ \\\n",
    "                   self.w_sig*K.sigmoid(self.b1+self.w_1z*lat+self.w_1u*ver+self.w_1zu*lat*ver)\n",
    "        else:\n",
    "            raise ValueError('Invalid combinator name')\n",
    "\n",
    "    def compute_output_shape(self, input_shape):\n",
    "        #return (input_shape[0], self.output_dim)\n",
    "        return (1,self.len_layer)"
   ]
  },
  {
   "cell_type": "code",
   "execution_count": 11,
   "metadata": {},
   "outputs": [
    {
     "data": {
      "text/plain": [
       "\"\\nlat = sidepath_corr[depth-1]\\nver = decoded[depth-1] \\n\\ncomb = CombinatorLayer()([lat,ver] )\\n\\nlat = sidepath_corr[depth-1]\\nver = decoded[depth-1] \\n#temp0 = CombinatorLayer()(lat )\\n#CombinatorLayer()([sidepath_corr[depth-1],decoded[depth-1] ])\\n#laylist = [lat,ver]\\n#laylist.append(lat)\\n#laylist.append(ver)\\n#laylist[0].shape\\n\\nlay_concat = K.concatenate([lat, ver], axis=-1)\\nprint(lay_concat.shape)\\nll = lay_concat.shape[1]//2\\nprint(ll)\\nlat_1 = lay_concat[:,:ll]\\nver_1 = lay_concat[:,ll:]\\nprint('lat:',lat_1.shape)\\nprint('ver:',ver_1.shape)\\n\\nCombinatorLayer()(lay_concat)\\n\""
      ]
     },
     "execution_count": 11,
     "metadata": {},
     "output_type": "execute_result"
    }
   ],
   "source": [
    "'''\n",
    "lat = sidepath_corr[depth-1]\n",
    "ver = decoded[depth-1] \n",
    "\n",
    "comb = CombinatorLayer()([lat,ver] )\n",
    "\n",
    "lat = sidepath_corr[depth-1]\n",
    "ver = decoded[depth-1] \n",
    "#temp0 = CombinatorLayer()(lat )\n",
    "#CombinatorLayer()([sidepath_corr[depth-1],decoded[depth-1] ])\n",
    "#laylist = [lat,ver]\n",
    "#laylist.append(lat)\n",
    "#laylist.append(ver)\n",
    "#laylist[0].shape\n",
    "\n",
    "lay_concat = K.concatenate([lat, ver], axis=-1)\n",
    "print(lay_concat.shape)\n",
    "ll = lay_concat.shape[1]//2\n",
    "print(ll)\n",
    "lat_1 = lay_concat[:,:ll]\n",
    "ver_1 = lay_concat[:,ll:]\n",
    "print('lat:',lat_1.shape)\n",
    "print('ver:',ver_1.shape)\n",
    "\n",
    "CombinatorLayer()(lay_concat)\n",
    "'''"
   ]
  },
  {
   "cell_type": "markdown",
   "metadata": {},
   "source": [
    "# Connecting the ladder network"
   ]
  },
  {
   "cell_type": "code",
   "execution_count": 12,
   "metadata": {
    "scrolled": false
   },
   "outputs": [],
   "source": [
    "## turn combinator on and off \n",
    "combinator = 'vanilla'\n",
    "\n",
    "## Define the architecture\n",
    "##########################################\n",
    "Layer_dim = [784,128,32]\n",
    "depth = len(Layer_dim)\n",
    "\n",
    "\n",
    "## Create the clean and corrupted encoders\n",
    "##########################################\n",
    "# Input layer: define a generic input image \n",
    "input_img = Input(shape=(Layer_dim[0],),name = 'input_img')\n",
    "\n",
    "# Build encoder sublayers: generic for clean and noisy encoder\n",
    "encoder_layers = {} # a dictionary of dictionaries. The dictionary keys are the layer numbers (as in paper)\n",
    "for i in range(1,depth): # loop over all encoder levels (not including the input image)\n",
    "    encoder_layers[i] = build_encoder_layer(Layer_dim[i],str(i))\n",
    "\n",
    "# NOTE:  \n",
    "# Building the encoder layers only once but linking them twice ensures that the same weights are used by the AE and the clean encoder\n",
    "\n",
    "# Corrupt input and link noisy encoder (for DAE)\n",
    "corrupted_img  = GaussianNoise(stddev,name='corrupt_img')(input_img)\n",
    "\n",
    "encoded_corr = {} #  a dictionary holding all corrupted encoder levels. each level contains sublayers as specified by the linking function.\n",
    "encoded_corr[0] = corrupted_img\n",
    "sidepath_corr = {}\n",
    "sidepath_corr[0] = corrupted_img\n",
    "for key in sorted(encoder_layers.keys()):\n",
    "    encoded_corr[key],sidepath_corr[key] = link_sublayer_corr_encoder(encoded_corr[key-1],encoder_layers[key])\n",
    "    \n",
    "# Link the clean encoder (for supervised channel)\n",
    "encoded_clean={} #  a dictionary holding all clean encoder levels. each level contains sublayers as specified by the linking function.\n",
    "encoded_clean[0]=input_img\n",
    "sidepath_clean={}\n",
    "sidepath_clean[0]=input_img\n",
    "for key in sorted(encoder_layers.keys()):\n",
    "    encoded_clean[key],sidepath_clean[key] =  link_sublayer_clean_encoder(encoded_clean[key-1],encoder_layers[key])\n",
    "    \n",
    "# channel the output of the clean encoder into the classifier\n",
    "predicted_labels = Dense(10,activation='sigmoid',name='predictor')(encoded_clean[depth-1])\n",
    "\n",
    "## Create the decoder\n",
    "##########################################\n",
    "\n",
    "# Build a decoder\n",
    "decoder_layers = {} # a dictionary of dictionaries. The dictionary keys are the layer numbers (as in paper)\n",
    "for i in range(0,depth-1): # loop over all encoder levels\n",
    "    decoder_layers[i] = build_decoder_layer(Layer_dim[i],str(i),activation_name = 'sigmoid')\n",
    "    \n",
    "# Link the decoder to the corrupted encoder\n",
    "decoded = {} #  a dictionary holding all decoded levels. each level contains sublayers as specified by the linking function. \n",
    "decoded[depth-1] = CustomLayer_Normalization(name='decoded' + str(depth-1) + '/norm')(encoded_corr[depth-1]) # upper decoder layer is normalized upper corrupted encoder layer\n",
    "if combinator == 'none': # do not use combiner, but turn on non linearity using activations in the decoder channel\n",
    "    for i in range(depth-1)[::-1]: # gives the series depth-2,depth-3...,0\n",
    "        decoded[i] = link_sublayer_decoder(decoded[i+1],decoder_layers[i])\n",
    "    decoded_combined = decoded\n",
    "else:                # use combiner: decoded is the output of linking w/o activation, then combine with corr encoder and pass on\n",
    "    decoded_combined = {}\n",
    "    decoded_combined[depth-1] = CombinatorLayer(combinator=combinator,name='decoded' + str(depth-1) + '/combined')([sidepath_corr[depth-1],decoded[depth-1] ])\n",
    "    for i in range(depth-1)[::-1]: # gives the series depth-1,depth-2,depth-3...,0\n",
    "        decoded[i] = link_sublayer_decoder(decoded_combined[i+1],decoder_layers[i],do_activation = False)\n",
    "        decoded_combined[i] = CombinatorLayer(combinator=combinator,name='decoded' + str(i) + '/combined')([sidepath_corr[i],decoded[i] ])\n",
    "    \n",
    "    \n",
    "\n"
   ]
  },
  {
   "cell_type": "code",
   "execution_count": 13,
   "metadata": {},
   "outputs": [
    {
     "data": {
      "text/plain": [
       "{0: <tf.Tensor 'decoded0/combined/add_6:0' shape=(?, 784) dtype=float32>,\n",
       " 1: <tf.Tensor 'decoded1/combined/add_6:0' shape=(?, 128) dtype=float32>,\n",
       " 2: <tf.Tensor 'decoded2/combined/add_6:0' shape=(?, 32) dtype=float32>}"
      ]
     },
     "execution_count": 13,
     "metadata": {},
     "output_type": "execute_result"
    }
   ],
   "source": [
    "decoded_combined"
   ]
  },
  {
   "cell_type": "code",
   "execution_count": 14,
   "metadata": {},
   "outputs": [
    {
     "data": {
      "text/plain": [
       "{1: {'activation': <keras.layers.core.Activation at 0x19d2deb2e10>,\n",
       "  'batch_norm': <keras.layers.normalization.BatchNormalization at 0x19d2deb2a20>,\n",
       "  'lin_trans': <keras.layers.core.Dense at 0x19d2deb2828>,\n",
       "  'noise_add': <keras.layers.noise.GaussianNoise at 0x19d2deb29b0>,\n",
       "  'norm': <__main__.CustomLayer_Normalization at 0x19d2deb2b00>},\n",
       " 2: {'activation': <keras.layers.core.Activation at 0x19d2dede630>,\n",
       "  'batch_norm': <keras.layers.normalization.BatchNormalization at 0x19d2dede518>,\n",
       "  'lin_trans': <keras.layers.core.Dense at 0x19d2deb2be0>,\n",
       "  'noise_add': <keras.layers.noise.GaussianNoise at 0x19d2de65240>,\n",
       "  'norm': <__main__.CustomLayer_Normalization at 0x19d2de65160>}}"
      ]
     },
     "execution_count": 14,
     "metadata": {},
     "output_type": "execute_result"
    }
   ],
   "source": [
    "encoder_layers"
   ]
  },
  {
   "cell_type": "markdown",
   "metadata": {},
   "source": [
    "# Defining a custom layer for the recon-loss\n",
    "The goal of the custom layer is to enable the addition of a loss function that depends not only on the model outputs but also on intermediate layers' outputs. For the ladder network these would be the reconstruction losses, which depend on the decoder and clean encoder layers. "
   ]
  },
  {
   "cell_type": "code",
   "execution_count": 15,
   "metadata": {},
   "outputs": [
    {
     "name": "stdout",
     "output_type": "stream",
     "text": [
      "0 Tensor(\"custom_layer__recon_loss_1/add:0\", shape=(), dtype=float32)\n",
      "1 Tensor(\"custom_layer__recon_loss_1/add_1:0\", shape=(), dtype=float32)\n",
      "2 Tensor(\"custom_layer__recon_loss_1/add_2:0\", shape=(), dtype=float32)\n"
     ]
    }
   ],
   "source": [
    "## Define the custom layer\n",
    "#################################################\n",
    "# reconstruction loss weights\n",
    "w_rl = [1.0, 1.0, 1.0]\n",
    "\n",
    "class CustomLayer_ReconLoss(Layer):\n",
    "    def __init__(self, epsilon = 1e-6,combinator = False, **kwargs):\n",
    "        # class constructor\n",
    "        #self.loss_info = loss_info\n",
    "        self.is_placeholder = True\n",
    "        self.output_dim = 10\n",
    "        self.epsilon = epsilon\n",
    "        self.combinator = combinator\n",
    "        super(CustomLayer_ReconLoss, self).__init__(**kwargs)\n",
    "\n",
    "    def reconstruction_loss(self, encoder_list,decoder_list):\n",
    "        # add all reconstruction losses weighted by recon_weights\n",
    "        # note: the binary_crossentropy metric does not automatically average over the batch, \n",
    "        # this is done here by K.mean\n",
    "        \n",
    "        loss = 0\n",
    "        for i in range(len(encoder_list)):\n",
    "            # take decoder mean if no combinator is used, encoder mean if combining\n",
    "            # mean is in any case over the 0 axis = each pixel is averaged over the images in the mini-batch\n",
    "            '''\n",
    "            if self.combinator != 'none':\n",
    "                mean = K.mean(encoder_list[i],axis=0,keepdims=True)\n",
    "                std  = K.std(encoder_list[i],axis=0,keepdims=True)\n",
    "            else:\n",
    "                mean = K.mean(decoder_list[i],axis=0,keepdims=True)\n",
    "                std  = K.std(decoder_list[i],axis=0,keepdims=True)\n",
    "            print(encoder_list[i].shape)\n",
    "            '''\n",
    "            mean = 0\n",
    "            std = 1\n",
    "            #mean = K.mean(decoder_list[i],axis=0,keepdims=True)\n",
    "            #std  = K.std(decoder_list[i],axis=0,keepdims=True)\n",
    "            #mean_enc = K.mean(encoder_list[i],axis=0,keepdims=True)\n",
    "            #std_enc  = K.std(encoder_list[i],axis=0,keepdims=True)\n",
    "            #enc_norm = (encoder_list[i] - mean_enc)/(std_enc + self.epsilon)\n",
    "            dec_norm = (decoder_list[i] - mean)/(std + self.epsilon)\n",
    "            #loss += w_rl[i]*K.mean(K.square(dec_norm - enc_norm))\n",
    "            loss += w_rl[i]*K.mean(K.square(dec_norm - encoder_list[i]))\n",
    "            print(i,loss)    \n",
    "        return loss\n",
    "   \n",
    "    def call(self, inputs):\n",
    "        # inputs is a list of layers needed for the calculation of the reconstruction loss.\n",
    "        # The first layer in the list is the predicted labels.\n",
    "        # The rest of the list must contain pairs of clean encoder and decoder layers, \n",
    "        # that are needed for the reconstruction loss calculation.\n",
    "        # returns: predicted_labels, needed in order to calculate the supervised loss later on. \n",
    "        predicted_labels = inputs[0]   # predicted labels by clean encoder:  the return variable of the call\n",
    "        # call the loss function of the class as it is defined above\n",
    "        loss = self.reconstruction_loss(inputs[1::2],inputs[2::2]) # odd entries are encoder layers, even are decoder.\n",
    "        # add the custom loss to the model loss (defined in the compiler)\n",
    "        self.add_loss(loss, inputs=inputs) \n",
    "        return predicted_labels    \n",
    "    \n",
    "    def compute_output_shape(self, input_shape):\n",
    "        return input_shape[0]\n",
    "\n",
    "## Construct the inputs to CustomLayer_ReconLoss\n",
    "#################################################\n",
    "collection=[] # empty list of layers (see above in \"call\")\n",
    "collection.append(predicted_labels) # first layer in the list: predicted labels of clean encoder\n",
    "if combinator != 'none':\n",
    "    imax = depth\n",
    "else:\n",
    "    imax = depth - 1\n",
    "for i in range(imax): # later on collect from range(depth) :makes sense only after combining the AE legs\n",
    "    # append an encoder and a decoder layer for each ladder level\n",
    "    #collection.append(encoded_clean[i])\n",
    "    collection.append(sidepath_clean[i])  # from clean encoder, before BN and non lin\n",
    "    #collection.append(decoded[i])\n",
    "    collection.append(decoded_combined[i])\n",
    "    \n",
    "## Call the custom layer\n",
    "#################################################\n",
    "# when calling the CustomLayer_ReconLoss, the returned value of \"call(self, inputs)\" is returned\n",
    "# when building a model with y as an output, the custom loss is automatically added to the loss defined in the compiler\n",
    "y = CustomLayer_ReconLoss(combinator=combinator)(collection)"
   ]
  },
  {
   "cell_type": "code",
   "execution_count": 16,
   "metadata": {},
   "outputs": [
    {
     "data": {
      "text/plain": [
       "[<tf.Tensor 'predictor/Sigmoid:0' shape=(?, 10) dtype=float32>,\n",
       " <tf.Tensor 'input_img:0' shape=(?, 784) dtype=float32>,\n",
       " <tf.Tensor 'decoded0/combined/add_6:0' shape=(?, 784) dtype=float32>,\n",
       " <tf.Tensor 'encoder_1/norm_1/truediv:0' shape=(?, 128) dtype=float32>,\n",
       " <tf.Tensor 'decoded1/combined/add_6:0' shape=(?, 128) dtype=float32>,\n",
       " <tf.Tensor 'encoder_2/norm_1/truediv:0' shape=(?, 32) dtype=float32>,\n",
       " <tf.Tensor 'decoded2/combined/add_6:0' shape=(?, 32) dtype=float32>]"
      ]
     },
     "execution_count": 16,
     "metadata": {},
     "output_type": "execute_result"
    }
   ],
   "source": [
    "collection\n"
   ]
  },
  {
   "cell_type": "markdown",
   "metadata": {},
   "source": [
    "# Constructing the model\n",
    "Construct a model with input_img as the input and y (the custom layer) as an output. when building a model with y as an output, the custom loss is automatically added to the loss defined in the compiler. This enables us to define a custom loss function and also to return the value y which are the predicted labels transferred to the model using the custom layer. "
   ]
  },
  {
   "cell_type": "markdown",
   "metadata": {},
   "source": [
    "## A model with custom layer with an added loss\n",
    "Important note: the need for a custom layer is only because we would like to add a loss that depends on internal parts of the networks and not only on the network output. In a previous version of the ladder the loss was a sum of supervised and unsupervised losses, where the unsupervised loss was a standard denoising autoencoder loss, without summing over all the internal reconstruction losses. There it was enough to define a model with a single input (input_img) and two outputs (decoded_img and predicted_labels) and assign a loss function per output. No custom layer was needed. However, if the loss depends on layers which are not the output layers of the network, we must define a custom layer just in order to construct the loss and add it to the supervised loss. "
   ]
  },
  {
   "cell_type": "code",
   "execution_count": 17,
   "metadata": {},
   "outputs": [],
   "source": [
    "ladder_custom = Model(input_img,y) # if you replace y with predicted_labels you get a simple feed forward predictor"
   ]
  },
  {
   "cell_type": "code",
   "execution_count": 18,
   "metadata": {
    "scrolled": false
   },
   "outputs": [
    {
     "data": {
      "image/svg+xml": [
       "<svg height=\"1715pt\" viewBox=\"0.00 0.00 1473.00 1715.00\" width=\"1473pt\" xmlns=\"http://www.w3.org/2000/svg\" xmlns:xlink=\"http://www.w3.org/1999/xlink\">\n",
       "<g class=\"graph\" id=\"graph0\" transform=\"scale(1 1) rotate(0) translate(4 1711)\">\n",
       "<title>G</title>\n",
       "<polygon fill=\"white\" points=\"-4,4 -4,-1711 1469,-1711 1469,4 -4,4\" stroke=\"none\"/>\n",
       "<!-- 1774591879152 -->\n",
       "<g class=\"node\" id=\"node1\"><title>1774591879152</title>\n",
       "<polygon fill=\"none\" points=\"0,-1660.5 0,-1706.5 279,-1706.5 279,-1660.5 0,-1660.5\" stroke=\"black\"/>\n",
       "<text font-family=\"Times New Roman,serif\" font-size=\"14.00\" text-anchor=\"middle\" x=\"70\" y=\"-1679.8\">input_img: InputLayer</text>\n",
       "<polyline fill=\"none\" points=\"140,-1660.5 140,-1706.5 \" stroke=\"black\"/>\n",
       "<text font-family=\"Times New Roman,serif\" font-size=\"14.00\" text-anchor=\"middle\" x=\"168\" y=\"-1691.3\">input:</text>\n",
       "<polyline fill=\"none\" points=\"140,-1683.5 196,-1683.5 \" stroke=\"black\"/>\n",
       "<text font-family=\"Times New Roman,serif\" font-size=\"14.00\" text-anchor=\"middle\" x=\"168\" y=\"-1668.3\">output:</text>\n",
       "<polyline fill=\"none\" points=\"196,-1660.5 196,-1706.5 \" stroke=\"black\"/>\n",
       "<text font-family=\"Times New Roman,serif\" font-size=\"14.00\" text-anchor=\"middle\" x=\"237.5\" y=\"-1691.3\">(None, 784)</text>\n",
       "<polyline fill=\"none\" points=\"196,-1683.5 279,-1683.5 \" stroke=\"black\"/>\n",
       "<text font-family=\"Times New Roman,serif\" font-size=\"14.00\" text-anchor=\"middle\" x=\"237.5\" y=\"-1668.3\">(None, 784)</text>\n",
       "</g>\n",
       "<!-- 1774591879320 -->\n",
       "<g class=\"node\" id=\"node2\"><title>1774591879320</title>\n",
       "<polygon fill=\"none\" points=\"75,-1577.5 75,-1623.5 390,-1623.5 390,-1577.5 75,-1577.5\" stroke=\"black\"/>\n",
       "<text font-family=\"Times New Roman,serif\" font-size=\"14.00\" text-anchor=\"middle\" x=\"163\" y=\"-1596.8\">corrupt_img: GaussianNoise</text>\n",
       "<polyline fill=\"none\" points=\"251,-1577.5 251,-1623.5 \" stroke=\"black\"/>\n",
       "<text font-family=\"Times New Roman,serif\" font-size=\"14.00\" text-anchor=\"middle\" x=\"279\" y=\"-1608.3\">input:</text>\n",
       "<polyline fill=\"none\" points=\"251,-1600.5 307,-1600.5 \" stroke=\"black\"/>\n",
       "<text font-family=\"Times New Roman,serif\" font-size=\"14.00\" text-anchor=\"middle\" x=\"279\" y=\"-1585.3\">output:</text>\n",
       "<polyline fill=\"none\" points=\"307,-1577.5 307,-1623.5 \" stroke=\"black\"/>\n",
       "<text font-family=\"Times New Roman,serif\" font-size=\"14.00\" text-anchor=\"middle\" x=\"348.5\" y=\"-1608.3\">(None, 784)</text>\n",
       "<polyline fill=\"none\" points=\"307,-1600.5 390,-1600.5 \" stroke=\"black\"/>\n",
       "<text font-family=\"Times New Roman,serif\" font-size=\"14.00\" text-anchor=\"middle\" x=\"348.5\" y=\"-1585.3\">(None, 784)</text>\n",
       "</g>\n",
       "<!-- 1774591879152&#45;&gt;1774591879320 -->\n",
       "<g class=\"edge\" id=\"edge1\"><title>1774591879152-&gt;1774591879320</title>\n",
       "<path d=\"M164.913,-1660.37C175.575,-1651.08 188.113,-1640.16 199.476,-1630.26\" fill=\"none\" stroke=\"black\"/>\n",
       "<polygon fill=\"black\" points=\"201.876,-1632.81 207.118,-1623.61 197.278,-1627.54 201.876,-1632.81\" stroke=\"black\"/>\n",
       "</g>\n",
       "<!-- 1774591879208 -->\n",
       "<g class=\"node\" id=\"node3\"><title>1774591879208</title>\n",
       "<polygon fill=\"none\" points=\"87,-1494.5 87,-1540.5 354,-1540.5 354,-1494.5 87,-1494.5\" stroke=\"black\"/>\n",
       "<text font-family=\"Times New Roman,serif\" font-size=\"14.00\" text-anchor=\"middle\" x=\"151\" y=\"-1513.8\">encoder_1/lt: Dense</text>\n",
       "<polyline fill=\"none\" points=\"215,-1494.5 215,-1540.5 \" stroke=\"black\"/>\n",
       "<text font-family=\"Times New Roman,serif\" font-size=\"14.00\" text-anchor=\"middle\" x=\"243\" y=\"-1525.3\">input:</text>\n",
       "<polyline fill=\"none\" points=\"215,-1517.5 271,-1517.5 \" stroke=\"black\"/>\n",
       "<text font-family=\"Times New Roman,serif\" font-size=\"14.00\" text-anchor=\"middle\" x=\"243\" y=\"-1502.3\">output:</text>\n",
       "<polyline fill=\"none\" points=\"271,-1494.5 271,-1540.5 \" stroke=\"black\"/>\n",
       "<text font-family=\"Times New Roman,serif\" font-size=\"14.00\" text-anchor=\"middle\" x=\"312.5\" y=\"-1525.3\">(None, 784)</text>\n",
       "<polyline fill=\"none\" points=\"271,-1517.5 354,-1517.5 \" stroke=\"black\"/>\n",
       "<text font-family=\"Times New Roman,serif\" font-size=\"14.00\" text-anchor=\"middle\" x=\"312.5\" y=\"-1502.3\">(None, 128)</text>\n",
       "</g>\n",
       "<!-- 1774591879152&#45;&gt;1774591879208 -->\n",
       "<g class=\"edge\" id=\"edge3\"><title>1774591879152-&gt;1774591879208</title>\n",
       "<path d=\"M46.5,-1599.5C46.084,-1574.46 60.9051,-1557.15 82.0538,-1545.17\" fill=\"none\" stroke=\"black\"/>\n",
       "<polygon fill=\"black\" points=\"83.8279,-1548.2 91.1323,-1540.52 80.6364,-1541.97 83.8279,-1548.2\" stroke=\"black\"/>\n",
       "</g>\n",
       "<!-- 1774592017576 -->\n",
       "<g class=\"node\" id=\"node22\"><title>1774592017576</title>\n",
       "<polygon fill=\"none\" points=\"624,-0.5 624,-46.5 1465,-46.5 1465,-0.5 624,-0.5\" stroke=\"black\"/>\n",
       "<text font-family=\"Times New Roman,serif\" font-size=\"14.00\" text-anchor=\"middle\" x=\"792.5\" y=\"-19.8\">custom_layer__recon_loss_1: CustomLayer_ReconLoss</text>\n",
       "<polyline fill=\"none\" points=\"961,-0.5 961,-46.5 \" stroke=\"black\"/>\n",
       "<text font-family=\"Times New Roman,serif\" font-size=\"14.00\" text-anchor=\"middle\" x=\"989\" y=\"-31.3\">input:</text>\n",
       "<polyline fill=\"none\" points=\"961,-23.5 1017,-23.5 \" stroke=\"black\"/>\n",
       "<text font-family=\"Times New Roman,serif\" font-size=\"14.00\" text-anchor=\"middle\" x=\"989\" y=\"-8.3\">output:</text>\n",
       "<polyline fill=\"none\" points=\"1017,-0.5 1017,-46.5 \" stroke=\"black\"/>\n",
       "<text font-family=\"Times New Roman,serif\" font-size=\"14.00\" text-anchor=\"middle\" x=\"1241\" y=\"-31.3\">[(None, 10), (None, 784), (1, 784), (None, 128), (1, 128), (None, 32), (1, 32)]</text>\n",
       "<polyline fill=\"none\" points=\"1017,-23.5 1465,-23.5 \" stroke=\"black\"/>\n",
       "<text font-family=\"Times New Roman,serif\" font-size=\"14.00\" text-anchor=\"middle\" x=\"1241\" y=\"-8.3\">(None, 10)</text>\n",
       "</g>\n",
       "<!-- 1774591879152&#45;&gt;1774592017576 -->\n",
       "<g class=\"edge\" id=\"edge33\"><title>1774591879152-&gt;1774592017576</title>\n",
       "<path d=\"M675.5,-354.5C687.807,-350.045 683.417,-338.962 694.5,-332 782.723,-276.581 872.597,-365.495 921.5,-273.5\" fill=\"none\" stroke=\"black\"/>\n",
       "<path d=\"M84.5,-1267.5C92.6841,-1195.07 84.5,-1176.39 84.5,-1103.5 84.5,-1103.5 84.5,-1103.5 84.5,-686.5 84.5,-638.857 74.174,-618.548 103.5,-581 142.499,-531.067 255.452,-581.934 233.5,-522.5\" fill=\"none\" stroke=\"black\"/>\n",
       "<path d=\"M921.5,-271.5C961.023,-197.15 894.395,-153.458 940.5,-83 948.921,-70.1311 961.204,-59.8063 974.401,-51.6324\" fill=\"none\" stroke=\"black\"/>\n",
       "<polygon fill=\"black\" points=\"976.264,-54.5982 983.173,-46.5665 972.763,-48.5363 976.264,-54.5982\" stroke=\"black\"/>\n",
       "<path d=\"M46.5,-1599.5C44.4873,-1478.38 51.0173,-1447.56 70.5,-1328 74.7997,-1301.61 81.0189,-1296.01 84.5,-1269.5\" fill=\"none\" stroke=\"black\"/>\n",
       "<path d=\"M89.7882,-1660.46C67.8637,-1647.08 46.895,-1627.51 46.5,-1601.5\" fill=\"none\" stroke=\"black\"/>\n",
       "<path d=\"M233.5,-520.5C216.535,-475.98 218.132,-447.995 252.5,-415 389.408,-283.561 497.042,-421.097 675.5,-356.5\" fill=\"none\" stroke=\"black\"/>\n",
       "</g>\n",
       "<!-- 1774591879320&#45;&gt;1774591879208 -->\n",
       "<g class=\"edge\" id=\"edge2\"><title>1774591879320-&gt;1774591879208</title>\n",
       "<path d=\"M229.221,-1577.37C228.004,-1569.15 226.597,-1559.66 225.274,-1550.73\" fill=\"none\" stroke=\"black\"/>\n",
       "<polygon fill=\"black\" points=\"228.703,-1549.99 223.775,-1540.61 221.778,-1551.01 228.703,-1549.99\" stroke=\"black\"/>\n",
       "</g>\n",
       "<!-- 1774679116656 -->\n",
       "<g class=\"node\" id=\"node21\"><title>1774679116656</title>\n",
       "<polygon fill=\"none\" points=\"950,-83.5 950,-129.5 1385,-129.5 1385,-83.5 950,-83.5\" stroke=\"black\"/>\n",
       "<text font-family=\"Times New Roman,serif\" font-size=\"14.00\" text-anchor=\"middle\" x=\"1068\" y=\"-102.8\">decoded0/combined: CombinatorLayer</text>\n",
       "<polyline fill=\"none\" points=\"1186,-83.5 1186,-129.5 \" stroke=\"black\"/>\n",
       "<text font-family=\"Times New Roman,serif\" font-size=\"14.00\" text-anchor=\"middle\" x=\"1214\" y=\"-114.3\">input:</text>\n",
       "<polyline fill=\"none\" points=\"1186,-106.5 1242,-106.5 \" stroke=\"black\"/>\n",
       "<text font-family=\"Times New Roman,serif\" font-size=\"14.00\" text-anchor=\"middle\" x=\"1214\" y=\"-91.3\">output:</text>\n",
       "<polyline fill=\"none\" points=\"1242,-83.5 1242,-129.5 \" stroke=\"black\"/>\n",
       "<text font-family=\"Times New Roman,serif\" font-size=\"14.00\" text-anchor=\"middle\" x=\"1313.5\" y=\"-114.3\">[(None, 784), (1, 784)]</text>\n",
       "<polyline fill=\"none\" points=\"1242,-106.5 1385,-106.5 \" stroke=\"black\"/>\n",
       "<text font-family=\"Times New Roman,serif\" font-size=\"14.00\" text-anchor=\"middle\" x=\"1313.5\" y=\"-91.3\">(1, 784)</text>\n",
       "</g>\n",
       "<!-- 1774591879320&#45;&gt;1774679116656 -->\n",
       "<g class=\"edge\" id=\"edge30\"><title>1774591879320-&gt;1774679116656</title>\n",
       "<path d=\"M390.058,-1592.7C700.951,-1577.18 1363.5,-1532.69 1363.5,-1435.5 1363.5,-1435.5 1363.5,-1435.5 1363.5,-271.5 1363.5,-223.857 1375.73,-201.979 1344.5,-166 1332.69,-152.39 1317.64,-141.933 1301.32,-133.901\" fill=\"none\" stroke=\"black\"/>\n",
       "<polygon fill=\"black\" points=\"1302.68,-130.676 1292.13,-129.684 1299.76,-137.037 1302.68,-130.676\" stroke=\"black\"/>\n",
       "</g>\n",
       "<!-- 1774591879936 -->\n",
       "<g class=\"node\" id=\"node4\"><title>1774591879936</title>\n",
       "<polygon fill=\"none\" points=\"75,-1411.5 75,-1457.5 490,-1457.5 490,-1411.5 75,-1411.5\" stroke=\"black\"/>\n",
       "<text font-family=\"Times New Roman,serif\" font-size=\"14.00\" text-anchor=\"middle\" x=\"213\" y=\"-1430.8\">encoder_1/norm: CustomLayer_Normalization</text>\n",
       "<polyline fill=\"none\" points=\"351,-1411.5 351,-1457.5 \" stroke=\"black\"/>\n",
       "<text font-family=\"Times New Roman,serif\" font-size=\"14.00\" text-anchor=\"middle\" x=\"379\" y=\"-1442.3\">input:</text>\n",
       "<polyline fill=\"none\" points=\"351,-1434.5 407,-1434.5 \" stroke=\"black\"/>\n",
       "<text font-family=\"Times New Roman,serif\" font-size=\"14.00\" text-anchor=\"middle\" x=\"379\" y=\"-1419.3\">output:</text>\n",
       "<polyline fill=\"none\" points=\"407,-1411.5 407,-1457.5 \" stroke=\"black\"/>\n",
       "<text font-family=\"Times New Roman,serif\" font-size=\"14.00\" text-anchor=\"middle\" x=\"448.5\" y=\"-1442.3\">(None, 128)</text>\n",
       "<polyline fill=\"none\" points=\"407,-1434.5 490,-1434.5 \" stroke=\"black\"/>\n",
       "<text font-family=\"Times New Roman,serif\" font-size=\"14.00\" text-anchor=\"middle\" x=\"448.5\" y=\"-1419.3\">(None, 128)</text>\n",
       "</g>\n",
       "<!-- 1774591879208&#45;&gt;1774591879936 -->\n",
       "<g class=\"edge\" id=\"edge4\"><title>1774591879208-&gt;1774591879936</title>\n",
       "<path d=\"M237.442,-1494.37C244.208,-1485.53 252.108,-1475.21 259.386,-1465.7\" fill=\"none\" stroke=\"black\"/>\n",
       "<polygon fill=\"black\" points=\"262.28,-1467.68 265.579,-1457.61 256.721,-1463.42 262.28,-1467.68\" stroke=\"black\"/>\n",
       "</g>\n",
       "<!-- 1774591879600 -->\n",
       "<g class=\"node\" id=\"node5\"><title>1774591879600</title>\n",
       "<polygon fill=\"none\" points=\"118.5,-1328.5 118.5,-1374.5 456.5,-1374.5 456.5,-1328.5 118.5,-1328.5\" stroke=\"black\"/>\n",
       "<text font-family=\"Times New Roman,serif\" font-size=\"14.00\" text-anchor=\"middle\" x=\"218\" y=\"-1347.8\">encoder_1/noise: GaussianNoise</text>\n",
       "<polyline fill=\"none\" points=\"317.5,-1328.5 317.5,-1374.5 \" stroke=\"black\"/>\n",
       "<text font-family=\"Times New Roman,serif\" font-size=\"14.00\" text-anchor=\"middle\" x=\"345.5\" y=\"-1359.3\">input:</text>\n",
       "<polyline fill=\"none\" points=\"317.5,-1351.5 373.5,-1351.5 \" stroke=\"black\"/>\n",
       "<text font-family=\"Times New Roman,serif\" font-size=\"14.00\" text-anchor=\"middle\" x=\"345.5\" y=\"-1336.3\">output:</text>\n",
       "<polyline fill=\"none\" points=\"373.5,-1328.5 373.5,-1374.5 \" stroke=\"black\"/>\n",
       "<text font-family=\"Times New Roman,serif\" font-size=\"14.00\" text-anchor=\"middle\" x=\"415\" y=\"-1359.3\">(None, 128)</text>\n",
       "<polyline fill=\"none\" points=\"373.5,-1351.5 456.5,-1351.5 \" stroke=\"black\"/>\n",
       "<text font-family=\"Times New Roman,serif\" font-size=\"14.00\" text-anchor=\"middle\" x=\"415\" y=\"-1336.3\">(None, 128)</text>\n",
       "</g>\n",
       "<!-- 1774591879936&#45;&gt;1774591879600 -->\n",
       "<g class=\"edge\" id=\"edge6\"><title>1774591879936-&gt;1774591879600</title>\n",
       "<path d=\"M283.866,-1411.37C284.373,-1403.15 284.959,-1393.66 285.511,-1384.73\" fill=\"none\" stroke=\"black\"/>\n",
       "<polygon fill=\"black\" points=\"289.013,-1384.8 286.135,-1374.61 282.026,-1384.37 289.013,-1384.8\" stroke=\"black\"/>\n",
       "</g>\n",
       "<!-- 1774591879712 -->\n",
       "<g class=\"node\" id=\"node6\"><title>1774591879712</title>\n",
       "<polygon fill=\"none\" points=\"113,-1245.5 113,-1291.5 462,-1291.5 462,-1245.5 113,-1245.5\" stroke=\"black\"/>\n",
       "<text font-family=\"Times New Roman,serif\" font-size=\"14.00\" text-anchor=\"middle\" x=\"218\" y=\"-1264.8\">encoder_1/bn: BatchNormalization</text>\n",
       "<polyline fill=\"none\" points=\"323,-1245.5 323,-1291.5 \" stroke=\"black\"/>\n",
       "<text font-family=\"Times New Roman,serif\" font-size=\"14.00\" text-anchor=\"middle\" x=\"351\" y=\"-1276.3\">input:</text>\n",
       "<polyline fill=\"none\" points=\"323,-1268.5 379,-1268.5 \" stroke=\"black\"/>\n",
       "<text font-family=\"Times New Roman,serif\" font-size=\"14.00\" text-anchor=\"middle\" x=\"351\" y=\"-1253.3\">output:</text>\n",
       "<polyline fill=\"none\" points=\"379,-1245.5 379,-1291.5 \" stroke=\"black\"/>\n",
       "<text font-family=\"Times New Roman,serif\" font-size=\"14.00\" text-anchor=\"middle\" x=\"420.5\" y=\"-1276.3\">(None, 128)</text>\n",
       "<polyline fill=\"none\" points=\"379,-1268.5 462,-1268.5 \" stroke=\"black\"/>\n",
       "<text font-family=\"Times New Roman,serif\" font-size=\"14.00\" text-anchor=\"middle\" x=\"420.5\" y=\"-1253.3\">(None, 128)</text>\n",
       "</g>\n",
       "<!-- 1774591879936&#45;&gt;1774591879712 -->\n",
       "<g class=\"edge\" id=\"edge8\"><title>1774591879936-&gt;1774591879712</title>\n",
       "<path d=\"M84.5,-1350.5C80.9599,-1326.13 92.2601,-1308.91 111.104,-1296.78\" fill=\"none\" stroke=\"black\"/>\n",
       "<polygon fill=\"black\" points=\"113,-1299.73 119.942,-1291.73 109.524,-1293.66 113,-1299.73\" stroke=\"black\"/>\n",
       "</g>\n",
       "<!-- 1774591879936&#45;&gt;1774592017576 -->\n",
       "<g class=\"edge\" id=\"edge35\"><title>1774591879936-&gt;1774592017576</title>\n",
       "<path d=\"M84.5,-1350.5C79.3246,-1314.87 80.4579,-1305.27 84.5,-1269.5\" fill=\"none\" stroke=\"black\"/>\n",
       "<path d=\"M133,-1411.35C107.909,-1399.16 88.5846,-1380.62 84.5,-1352.5\" fill=\"none\" stroke=\"black\"/>\n",
       "</g>\n",
       "<!-- 1774591879600&#45;&gt;1774591879712 -->\n",
       "<g class=\"edge\" id=\"edge7\"><title>1774591879600-&gt;1774591879712</title>\n",
       "<path d=\"M287.5,-1328.37C287.5,-1320.15 287.5,-1310.66 287.5,-1301.73\" fill=\"none\" stroke=\"black\"/>\n",
       "<polygon fill=\"black\" points=\"291,-1301.61 287.5,-1291.61 284,-1301.61 291,-1301.61\" stroke=\"black\"/>\n",
       "</g>\n",
       "<!-- 1774678080424 -->\n",
       "<g class=\"node\" id=\"node17\"><title>1774678080424</title>\n",
       "<polygon fill=\"none\" points=\"704,-332.5 704,-378.5 1139,-378.5 1139,-332.5 704,-332.5\" stroke=\"black\"/>\n",
       "<text font-family=\"Times New Roman,serif\" font-size=\"14.00\" text-anchor=\"middle\" x=\"822\" y=\"-351.8\">decoded1/combined: CombinatorLayer</text>\n",
       "<polyline fill=\"none\" points=\"940,-332.5 940,-378.5 \" stroke=\"black\"/>\n",
       "<text font-family=\"Times New Roman,serif\" font-size=\"14.00\" text-anchor=\"middle\" x=\"968\" y=\"-363.3\">input:</text>\n",
       "<polyline fill=\"none\" points=\"940,-355.5 996,-355.5 \" stroke=\"black\"/>\n",
       "<text font-family=\"Times New Roman,serif\" font-size=\"14.00\" text-anchor=\"middle\" x=\"968\" y=\"-340.3\">output:</text>\n",
       "<polyline fill=\"none\" points=\"996,-332.5 996,-378.5 \" stroke=\"black\"/>\n",
       "<text font-family=\"Times New Roman,serif\" font-size=\"14.00\" text-anchor=\"middle\" x=\"1067.5\" y=\"-363.3\">[(None, 128), (1, 128)]</text>\n",
       "<polyline fill=\"none\" points=\"996,-355.5 1139,-355.5 \" stroke=\"black\"/>\n",
       "<text font-family=\"Times New Roman,serif\" font-size=\"14.00\" text-anchor=\"middle\" x=\"1067.5\" y=\"-340.3\">(1, 128)</text>\n",
       "</g>\n",
       "<!-- 1774591879600&#45;&gt;1774678080424 -->\n",
       "<g class=\"edge\" id=\"edge25\"><title>1774591879600-&gt;1774678080424</title>\n",
       "<path d=\"M456.772,-1338.47C638.823,-1320.76 902.5,-1279.11 902.5,-1186.5 902.5,-1186.5 902.5,-1186.5 902.5,-520.5 902.5,-474.463 909.979,-421.636 915.553,-388.662\" fill=\"none\" stroke=\"black\"/>\n",
       "<polygon fill=\"black\" points=\"919.022,-389.139 917.283,-378.688 912.125,-387.942 919.022,-389.139\" stroke=\"black\"/>\n",
       "</g>\n",
       "<!-- 1774591880720 -->\n",
       "<g class=\"node\" id=\"node7\"><title>1774591880720</title>\n",
       "<polygon fill=\"none\" points=\"261.5,-1162.5 261.5,-1208.5 579.5,-1208.5 579.5,-1162.5 261.5,-1162.5\" stroke=\"black\"/>\n",
       "<text font-family=\"Times New Roman,serif\" font-size=\"14.00\" text-anchor=\"middle\" x=\"351\" y=\"-1181.8\">encoder_1/output: Activation</text>\n",
       "<polyline fill=\"none\" points=\"440.5,-1162.5 440.5,-1208.5 \" stroke=\"black\"/>\n",
       "<text font-family=\"Times New Roman,serif\" font-size=\"14.00\" text-anchor=\"middle\" x=\"468.5\" y=\"-1193.3\">input:</text>\n",
       "<polyline fill=\"none\" points=\"440.5,-1185.5 496.5,-1185.5 \" stroke=\"black\"/>\n",
       "<text font-family=\"Times New Roman,serif\" font-size=\"14.00\" text-anchor=\"middle\" x=\"468.5\" y=\"-1170.3\">output:</text>\n",
       "<polyline fill=\"none\" points=\"496.5,-1162.5 496.5,-1208.5 \" stroke=\"black\"/>\n",
       "<text font-family=\"Times New Roman,serif\" font-size=\"14.00\" text-anchor=\"middle\" x=\"538\" y=\"-1193.3\">(None, 128)</text>\n",
       "<polyline fill=\"none\" points=\"496.5,-1185.5 579.5,-1185.5 \" stroke=\"black\"/>\n",
       "<text font-family=\"Times New Roman,serif\" font-size=\"14.00\" text-anchor=\"middle\" x=\"538\" y=\"-1170.3\">(None, 128)</text>\n",
       "</g>\n",
       "<!-- 1774591879712&#45;&gt;1774591880720 -->\n",
       "<g class=\"edge\" id=\"edge9\"><title>1774591879712-&gt;1774591880720</title>\n",
       "<path d=\"M323.843,-1245.37C339.824,-1235.63 358.752,-1224.11 375.604,-1213.84\" fill=\"none\" stroke=\"black\"/>\n",
       "<polygon fill=\"black\" points=\"377.481,-1216.8 384.201,-1208.61 373.84,-1210.82 377.481,-1216.8\" stroke=\"black\"/>\n",
       "</g>\n",
       "<!-- 1774591880160 -->\n",
       "<g class=\"node\" id=\"node8\"><title>1774591880160</title>\n",
       "<polygon fill=\"none\" points=\"354,-1079.5 354,-1125.5 621,-1125.5 621,-1079.5 354,-1079.5\" stroke=\"black\"/>\n",
       "<text font-family=\"Times New Roman,serif\" font-size=\"14.00\" text-anchor=\"middle\" x=\"418\" y=\"-1098.8\">encoder_2/lt: Dense</text>\n",
       "<polyline fill=\"none\" points=\"482,-1079.5 482,-1125.5 \" stroke=\"black\"/>\n",
       "<text font-family=\"Times New Roman,serif\" font-size=\"14.00\" text-anchor=\"middle\" x=\"510\" y=\"-1110.3\">input:</text>\n",
       "<polyline fill=\"none\" points=\"482,-1102.5 538,-1102.5 \" stroke=\"black\"/>\n",
       "<text font-family=\"Times New Roman,serif\" font-size=\"14.00\" text-anchor=\"middle\" x=\"510\" y=\"-1087.3\">output:</text>\n",
       "<polyline fill=\"none\" points=\"538,-1079.5 538,-1125.5 \" stroke=\"black\"/>\n",
       "<text font-family=\"Times New Roman,serif\" font-size=\"14.00\" text-anchor=\"middle\" x=\"579.5\" y=\"-1110.3\">(None, 128)</text>\n",
       "<polyline fill=\"none\" points=\"538,-1102.5 621,-1102.5 \" stroke=\"black\"/>\n",
       "<text font-family=\"Times New Roman,serif\" font-size=\"14.00\" text-anchor=\"middle\" x=\"579.5\" y=\"-1087.3\">(None, 32)</text>\n",
       "</g>\n",
       "<!-- 1774591880720&#45;&gt;1774591880160 -->\n",
       "<g class=\"edge\" id=\"edge11\"><title>1774591880720-&gt;1774591880160</title>\n",
       "<path d=\"M438.808,-1162.37C446.194,-1153.44 454.83,-1143 462.761,-1133.41\" fill=\"none\" stroke=\"black\"/>\n",
       "<polygon fill=\"black\" points=\"465.537,-1135.54 469.214,-1125.61 460.143,-1131.08 465.537,-1135.54\" stroke=\"black\"/>\n",
       "</g>\n",
       "<!-- 1774591562080 -->\n",
       "<g class=\"node\" id=\"node9\"><title>1774591562080</title>\n",
       "<polygon fill=\"none\" points=\"350,-996.5 350,-1042.5 759,-1042.5 759,-996.5 350,-996.5\" stroke=\"black\"/>\n",
       "<text font-family=\"Times New Roman,serif\" font-size=\"14.00\" text-anchor=\"middle\" x=\"488\" y=\"-1015.8\">encoder_2/norm: CustomLayer_Normalization</text>\n",
       "<polyline fill=\"none\" points=\"626,-996.5 626,-1042.5 \" stroke=\"black\"/>\n",
       "<text font-family=\"Times New Roman,serif\" font-size=\"14.00\" text-anchor=\"middle\" x=\"654\" y=\"-1027.3\">input:</text>\n",
       "<polyline fill=\"none\" points=\"626,-1019.5 682,-1019.5 \" stroke=\"black\"/>\n",
       "<text font-family=\"Times New Roman,serif\" font-size=\"14.00\" text-anchor=\"middle\" x=\"654\" y=\"-1004.3\">output:</text>\n",
       "<polyline fill=\"none\" points=\"682,-996.5 682,-1042.5 \" stroke=\"black\"/>\n",
       "<text font-family=\"Times New Roman,serif\" font-size=\"14.00\" text-anchor=\"middle\" x=\"720.5\" y=\"-1027.3\">(None, 32)</text>\n",
       "<polyline fill=\"none\" points=\"682,-1019.5 759,-1019.5 \" stroke=\"black\"/>\n",
       "<text font-family=\"Times New Roman,serif\" font-size=\"14.00\" text-anchor=\"middle\" x=\"720.5\" y=\"-1004.3\">(None, 32)</text>\n",
       "</g>\n",
       "<!-- 1774591880160&#45;&gt;1774591562080 -->\n",
       "<g class=\"edge\" id=\"edge13\"><title>1774591880160-&gt;1774591562080</title>\n",
       "<path d=\"M505.808,-1079.37C513.194,-1070.44 521.83,-1060 529.761,-1050.41\" fill=\"none\" stroke=\"black\"/>\n",
       "<polygon fill=\"black\" points=\"532.537,-1052.54 536.214,-1042.61 527.143,-1048.08 532.537,-1052.54\" stroke=\"black\"/>\n",
       "</g>\n",
       "<!-- 1774591562304 -->\n",
       "<g class=\"node\" id=\"node10\"><title>1774591562304</title>\n",
       "<polygon fill=\"none\" points=\"486.5,-913.5 486.5,-959.5 818.5,-959.5 818.5,-913.5 486.5,-913.5\" stroke=\"black\"/>\n",
       "<text font-family=\"Times New Roman,serif\" font-size=\"14.00\" text-anchor=\"middle\" x=\"586\" y=\"-932.8\">encoder_2/noise: GaussianNoise</text>\n",
       "<polyline fill=\"none\" points=\"685.5,-913.5 685.5,-959.5 \" stroke=\"black\"/>\n",
       "<text font-family=\"Times New Roman,serif\" font-size=\"14.00\" text-anchor=\"middle\" x=\"713.5\" y=\"-944.3\">input:</text>\n",
       "<polyline fill=\"none\" points=\"685.5,-936.5 741.5,-936.5 \" stroke=\"black\"/>\n",
       "<text font-family=\"Times New Roman,serif\" font-size=\"14.00\" text-anchor=\"middle\" x=\"713.5\" y=\"-921.3\">output:</text>\n",
       "<polyline fill=\"none\" points=\"741.5,-913.5 741.5,-959.5 \" stroke=\"black\"/>\n",
       "<text font-family=\"Times New Roman,serif\" font-size=\"14.00\" text-anchor=\"middle\" x=\"780\" y=\"-944.3\">(None, 32)</text>\n",
       "<polyline fill=\"none\" points=\"741.5,-936.5 818.5,-936.5 \" stroke=\"black\"/>\n",
       "<text font-family=\"Times New Roman,serif\" font-size=\"14.00\" text-anchor=\"middle\" x=\"780\" y=\"-921.3\">(None, 32)</text>\n",
       "</g>\n",
       "<!-- 1774591562080&#45;&gt;1774591562304 -->\n",
       "<g class=\"edge\" id=\"edge15\"><title>1774591562080-&gt;1774591562304</title>\n",
       "<path d=\"M581.279,-996.366C592.514,-987.08 605.727,-976.16 617.701,-966.262\" fill=\"none\" stroke=\"black\"/>\n",
       "<polygon fill=\"black\" points=\"620.275,-968.676 625.753,-959.607 615.816,-963.28 620.275,-968.676\" stroke=\"black\"/>\n",
       "</g>\n",
       "<!-- 1774592058648 -->\n",
       "<g class=\"node\" id=\"node11\"><title>1774592058648</title>\n",
       "<polygon fill=\"none\" points=\"288,-830.5 288,-876.5 631,-876.5 631,-830.5 288,-830.5\" stroke=\"black\"/>\n",
       "<text font-family=\"Times New Roman,serif\" font-size=\"14.00\" text-anchor=\"middle\" x=\"393\" y=\"-849.8\">encoder_2/bn: BatchNormalization</text>\n",
       "<polyline fill=\"none\" points=\"498,-830.5 498,-876.5 \" stroke=\"black\"/>\n",
       "<text font-family=\"Times New Roman,serif\" font-size=\"14.00\" text-anchor=\"middle\" x=\"526\" y=\"-861.3\">input:</text>\n",
       "<polyline fill=\"none\" points=\"498,-853.5 554,-853.5 \" stroke=\"black\"/>\n",
       "<text font-family=\"Times New Roman,serif\" font-size=\"14.00\" text-anchor=\"middle\" x=\"526\" y=\"-838.3\">output:</text>\n",
       "<polyline fill=\"none\" points=\"554,-830.5 554,-876.5 \" stroke=\"black\"/>\n",
       "<text font-family=\"Times New Roman,serif\" font-size=\"14.00\" text-anchor=\"middle\" x=\"592.5\" y=\"-861.3\">(None, 32)</text>\n",
       "<polyline fill=\"none\" points=\"554,-853.5 631,-853.5 \" stroke=\"black\"/>\n",
       "<text font-family=\"Times New Roman,serif\" font-size=\"14.00\" text-anchor=\"middle\" x=\"592.5\" y=\"-838.3\">(None, 32)</text>\n",
       "</g>\n",
       "<!-- 1774591562080&#45;&gt;1774592058648 -->\n",
       "<g class=\"edge\" id=\"edge17\"><title>1774591562080-&gt;1774592058648</title>\n",
       "<path d=\"M514.069,-996.357C500.405,-986.904 486.378,-974.643 477.5,-960 464.172,-938.017 459.992,-908.979 458.966,-886.934\" fill=\"none\" stroke=\"black\"/>\n",
       "<polygon fill=\"black\" points=\"462.459,-886.636 458.689,-876.734 455.462,-886.826 462.459,-886.636\" stroke=\"black\"/>\n",
       "</g>\n",
       "<!-- 1774591562080&#45;&gt;1774592017576 -->\n",
       "<g class=\"edge\" id=\"edge37\"><title>1774591562080-&gt;1774592017576</title>\n",
       "<path d=\"M730.506,-996.454C773.875,-987.625 812.29,-975.719 827.5,-960 860.63,-925.761 846.5,-902.143 846.5,-854.5 846.5,-854.5 846.5,-854.5 846.5,-686.5 846.5,-638.776 844.632,-625.145 826.5,-581 780.814,-469.769 562.23,-396.866 675.5,-356.5\" fill=\"none\" stroke=\"black\"/>\n",
       "</g>\n",
       "<!-- 1774591562304&#45;&gt;1774592058648 -->\n",
       "<g class=\"edge\" id=\"edge16\"><title>1774591562304-&gt;1774592058648</title>\n",
       "<path d=\"M600.017,-913.473C575.767,-903.296 546.798,-891.138 521.48,-880.512\" fill=\"none\" stroke=\"black\"/>\n",
       "<polygon fill=\"black\" points=\"522.548,-877.165 511.973,-876.522 519.839,-883.619 522.548,-877.165\" stroke=\"black\"/>\n",
       "</g>\n",
       "<!-- 1774678081208 -->\n",
       "<g class=\"node\" id=\"node14\"><title>1774678081208</title>\n",
       "<polygon fill=\"none\" points=\"373,-581.5 373,-627.5 818,-627.5 818,-581.5 373,-581.5\" stroke=\"black\"/>\n",
       "<text font-family=\"Times New Roman,serif\" font-size=\"14.00\" text-anchor=\"middle\" x=\"491\" y=\"-600.8\">decoded2/combined: CombinatorLayer</text>\n",
       "<polyline fill=\"none\" points=\"609,-581.5 609,-627.5 \" stroke=\"black\"/>\n",
       "<text font-family=\"Times New Roman,serif\" font-size=\"14.00\" text-anchor=\"middle\" x=\"637\" y=\"-612.3\">input:</text>\n",
       "<polyline fill=\"none\" points=\"609,-604.5 665,-604.5 \" stroke=\"black\"/>\n",
       "<text font-family=\"Times New Roman,serif\" font-size=\"14.00\" text-anchor=\"middle\" x=\"637\" y=\"-589.3\">output:</text>\n",
       "<polyline fill=\"none\" points=\"665,-581.5 665,-627.5 \" stroke=\"black\"/>\n",
       "<text font-family=\"Times New Roman,serif\" font-size=\"14.00\" text-anchor=\"middle\" x=\"741.5\" y=\"-612.3\">[(None, 32), (None, 32)]</text>\n",
       "<polyline fill=\"none\" points=\"665,-604.5 818,-604.5 \" stroke=\"black\"/>\n",
       "<text font-family=\"Times New Roman,serif\" font-size=\"14.00\" text-anchor=\"middle\" x=\"741.5\" y=\"-589.3\">(1, 32)</text>\n",
       "</g>\n",
       "<!-- 1774591562304&#45;&gt;1774678081208 -->\n",
       "<g class=\"edge\" id=\"edge21\"><title>1774591562304-&gt;1774678081208</title>\n",
       "<path d=\"M661.554,-913.265C679.727,-864.94 715.468,-747.936 673.5,-664 667.528,-652.056 657.829,-641.918 647.268,-633.607\" fill=\"none\" stroke=\"black\"/>\n",
       "<polygon fill=\"black\" points=\"649.208,-630.689 639.071,-627.608 645.074,-636.338 649.208,-630.689\" stroke=\"black\"/>\n",
       "</g>\n",
       "<!-- 1774592058928 -->\n",
       "<g class=\"node\" id=\"node12\"><title>1774592058928</title>\n",
       "<polygon fill=\"none\" points=\"303.5,-747.5 303.5,-793.5 615.5,-793.5 615.5,-747.5 303.5,-747.5\" stroke=\"black\"/>\n",
       "<text font-family=\"Times New Roman,serif\" font-size=\"14.00\" text-anchor=\"middle\" x=\"393\" y=\"-766.8\">encoder_2/output: Activation</text>\n",
       "<polyline fill=\"none\" points=\"482.5,-747.5 482.5,-793.5 \" stroke=\"black\"/>\n",
       "<text font-family=\"Times New Roman,serif\" font-size=\"14.00\" text-anchor=\"middle\" x=\"510.5\" y=\"-778.3\">input:</text>\n",
       "<polyline fill=\"none\" points=\"482.5,-770.5 538.5,-770.5 \" stroke=\"black\"/>\n",
       "<text font-family=\"Times New Roman,serif\" font-size=\"14.00\" text-anchor=\"middle\" x=\"510.5\" y=\"-755.3\">output:</text>\n",
       "<polyline fill=\"none\" points=\"538.5,-747.5 538.5,-793.5 \" stroke=\"black\"/>\n",
       "<text font-family=\"Times New Roman,serif\" font-size=\"14.00\" text-anchor=\"middle\" x=\"577\" y=\"-778.3\">(None, 32)</text>\n",
       "<polyline fill=\"none\" points=\"538.5,-770.5 615.5,-770.5 \" stroke=\"black\"/>\n",
       "<text font-family=\"Times New Roman,serif\" font-size=\"14.00\" text-anchor=\"middle\" x=\"577\" y=\"-755.3\">(None, 32)</text>\n",
       "</g>\n",
       "<!-- 1774592058648&#45;&gt;1774592058928 -->\n",
       "<g class=\"edge\" id=\"edge18\"><title>1774592058648-&gt;1774592058928</title>\n",
       "<path d=\"M459.5,-830.366C459.5,-822.152 459.5,-812.658 459.5,-803.725\" fill=\"none\" stroke=\"black\"/>\n",
       "<polygon fill=\"black\" points=\"463,-803.607 459.5,-793.607 456,-803.607 463,-803.607\" stroke=\"black\"/>\n",
       "</g>\n",
       "<!-- 1774666710824 -->\n",
       "<g class=\"node\" id=\"node13\"><title>1774666710824</title>\n",
       "<polygon fill=\"none\" points=\"260,-664.5 260,-710.5 665,-710.5 665,-664.5 260,-664.5\" stroke=\"black\"/>\n",
       "<text font-family=\"Times New Roman,serif\" font-size=\"14.00\" text-anchor=\"middle\" x=\"396\" y=\"-683.8\">decoded2/norm: CustomLayer_Normalization</text>\n",
       "<polyline fill=\"none\" points=\"532,-664.5 532,-710.5 \" stroke=\"black\"/>\n",
       "<text font-family=\"Times New Roman,serif\" font-size=\"14.00\" text-anchor=\"middle\" x=\"560\" y=\"-695.3\">input:</text>\n",
       "<polyline fill=\"none\" points=\"532,-687.5 588,-687.5 \" stroke=\"black\"/>\n",
       "<text font-family=\"Times New Roman,serif\" font-size=\"14.00\" text-anchor=\"middle\" x=\"560\" y=\"-672.3\">output:</text>\n",
       "<polyline fill=\"none\" points=\"588,-664.5 588,-710.5 \" stroke=\"black\"/>\n",
       "<text font-family=\"Times New Roman,serif\" font-size=\"14.00\" text-anchor=\"middle\" x=\"626.5\" y=\"-695.3\">(None, 32)</text>\n",
       "<polyline fill=\"none\" points=\"588,-687.5 665,-687.5 \" stroke=\"black\"/>\n",
       "<text font-family=\"Times New Roman,serif\" font-size=\"14.00\" text-anchor=\"middle\" x=\"626.5\" y=\"-672.3\">(None, 32)</text>\n",
       "</g>\n",
       "<!-- 1774592058928&#45;&gt;1774666710824 -->\n",
       "<g class=\"edge\" id=\"edge20\"><title>1774592058928-&gt;1774666710824</title>\n",
       "<path d=\"M460.32,-747.366C460.624,-739.152 460.976,-729.658 461.306,-720.725\" fill=\"none\" stroke=\"black\"/>\n",
       "<polygon fill=\"black\" points=\"464.809,-720.73 461.681,-710.607 457.813,-720.47 464.809,-720.73\" stroke=\"black\"/>\n",
       "</g>\n",
       "<!-- 1774591880048 -->\n",
       "<g class=\"node\" id=\"node20\"><title>1774591880048</title>\n",
       "<polygon fill=\"none\" points=\"112.5,-581.5 112.5,-627.5 354.5,-627.5 354.5,-581.5 112.5,-581.5\" stroke=\"black\"/>\n",
       "<text font-family=\"Times New Roman,serif\" font-size=\"14.00\" text-anchor=\"middle\" x=\"167\" y=\"-600.8\">predictor: Dense</text>\n",
       "<polyline fill=\"none\" points=\"221.5,-581.5 221.5,-627.5 \" stroke=\"black\"/>\n",
       "<text font-family=\"Times New Roman,serif\" font-size=\"14.00\" text-anchor=\"middle\" x=\"249.5\" y=\"-612.3\">input:</text>\n",
       "<polyline fill=\"none\" points=\"221.5,-604.5 277.5,-604.5 \" stroke=\"black\"/>\n",
       "<text font-family=\"Times New Roman,serif\" font-size=\"14.00\" text-anchor=\"middle\" x=\"249.5\" y=\"-589.3\">output:</text>\n",
       "<polyline fill=\"none\" points=\"277.5,-581.5 277.5,-627.5 \" stroke=\"black\"/>\n",
       "<text font-family=\"Times New Roman,serif\" font-size=\"14.00\" text-anchor=\"middle\" x=\"316\" y=\"-612.3\">(None, 32)</text>\n",
       "<polyline fill=\"none\" points=\"277.5,-604.5 354.5,-604.5 \" stroke=\"black\"/>\n",
       "<text font-family=\"Times New Roman,serif\" font-size=\"14.00\" text-anchor=\"middle\" x=\"316\" y=\"-589.3\">(None, 10)</text>\n",
       "</g>\n",
       "<!-- 1774592058928&#45;&gt;1774591880048 -->\n",
       "<g class=\"edge\" id=\"edge29\"><title>1774592058928-&gt;1774591880048</title>\n",
       "<path d=\"M303.421,-747.679C283.42,-739.015 264.929,-727.162 250.5,-711 232.928,-691.318 229.633,-660.944 230.176,-637.833\" fill=\"none\" stroke=\"black\"/>\n",
       "<polygon fill=\"black\" points=\"233.674,-637.945 230.658,-627.789 226.682,-637.61 233.674,-637.945\" stroke=\"black\"/>\n",
       "</g>\n",
       "<!-- 1774666710824&#45;&gt;1774678081208 -->\n",
       "<g class=\"edge\" id=\"edge22\"><title>1774666710824-&gt;1774678081208</title>\n",
       "<path d=\"M498.843,-664.366C514.824,-654.634 533.752,-643.106 550.604,-632.842\" fill=\"none\" stroke=\"black\"/>\n",
       "<polygon fill=\"black\" points=\"552.481,-635.798 559.201,-627.607 548.84,-629.819 552.481,-635.798\" stroke=\"black\"/>\n",
       "</g>\n",
       "<!-- 1774678005408 -->\n",
       "<g class=\"node\" id=\"node15\"><title>1774678005408</title>\n",
       "<polygon fill=\"none\" points=\"406,-498.5 406,-544.5 643,-544.5 643,-498.5 406,-498.5\" stroke=\"black\"/>\n",
       "<text font-family=\"Times New Roman,serif\" font-size=\"14.00\" text-anchor=\"middle\" x=\"466.5\" y=\"-517.8\">decoder1/lt: Dense</text>\n",
       "<polyline fill=\"none\" points=\"527,-498.5 527,-544.5 \" stroke=\"black\"/>\n",
       "<text font-family=\"Times New Roman,serif\" font-size=\"14.00\" text-anchor=\"middle\" x=\"555\" y=\"-529.3\">input:</text>\n",
       "<polyline fill=\"none\" points=\"527,-521.5 583,-521.5 \" stroke=\"black\"/>\n",
       "<text font-family=\"Times New Roman,serif\" font-size=\"14.00\" text-anchor=\"middle\" x=\"555\" y=\"-506.3\">output:</text>\n",
       "<polyline fill=\"none\" points=\"583,-498.5 583,-544.5 \" stroke=\"black\"/>\n",
       "<text font-family=\"Times New Roman,serif\" font-size=\"14.00\" text-anchor=\"middle\" x=\"613\" y=\"-529.3\">(1, 32)</text>\n",
       "<polyline fill=\"none\" points=\"583,-521.5 643,-521.5 \" stroke=\"black\"/>\n",
       "<text font-family=\"Times New Roman,serif\" font-size=\"14.00\" text-anchor=\"middle\" x=\"613\" y=\"-506.3\">(1, 128)</text>\n",
       "</g>\n",
       "<!-- 1774678081208&#45;&gt;1774678005408 -->\n",
       "<g class=\"edge\" id=\"edge23\"><title>1774678081208-&gt;1774678005408</title>\n",
       "<path d=\"M576.099,-581.366C568.272,-572.437 559.121,-561.997 550.716,-552.409\" fill=\"none\" stroke=\"black\"/>\n",
       "<polygon fill=\"black\" points=\"553.101,-549.82 543.878,-544.607 547.837,-554.434 553.101,-549.82\" stroke=\"black\"/>\n",
       "</g>\n",
       "<!-- 1774678081208&#45;&gt;1774592017576 -->\n",
       "<g class=\"edge\" id=\"edge38\"><title>1774678081208-&gt;1774592017576</title>\n",
       "<path d=\"M443.405,-581.491C347.884,-565.688 241.275,-543.55 233.5,-522.5\" fill=\"none\" stroke=\"black\"/>\n",
       "</g>\n",
       "<!-- 1774678080760 -->\n",
       "<g class=\"node\" id=\"node16\"><title>1774678080760</title>\n",
       "<polygon fill=\"none\" points=\"262,-415.5 262,-461.5 647,-461.5 647,-415.5 262,-415.5\" stroke=\"black\"/>\n",
       "<text font-family=\"Times New Roman,serif\" font-size=\"14.00\" text-anchor=\"middle\" x=\"396.5\" y=\"-434.8\">decoder1/norm: CustomLayer_Normalization</text>\n",
       "<polyline fill=\"none\" points=\"531,-415.5 531,-461.5 \" stroke=\"black\"/>\n",
       "<text font-family=\"Times New Roman,serif\" font-size=\"14.00\" text-anchor=\"middle\" x=\"559\" y=\"-446.3\">input:</text>\n",
       "<polyline fill=\"none\" points=\"531,-438.5 587,-438.5 \" stroke=\"black\"/>\n",
       "<text font-family=\"Times New Roman,serif\" font-size=\"14.00\" text-anchor=\"middle\" x=\"559\" y=\"-423.3\">output:</text>\n",
       "<polyline fill=\"none\" points=\"587,-415.5 587,-461.5 \" stroke=\"black\"/>\n",
       "<text font-family=\"Times New Roman,serif\" font-size=\"14.00\" text-anchor=\"middle\" x=\"617\" y=\"-446.3\">(1, 128)</text>\n",
       "<polyline fill=\"none\" points=\"587,-438.5 647,-438.5 \" stroke=\"black\"/>\n",
       "<text font-family=\"Times New Roman,serif\" font-size=\"14.00\" text-anchor=\"middle\" x=\"617\" y=\"-423.3\">(1, 128)</text>\n",
       "</g>\n",
       "<!-- 1774678005408&#45;&gt;1774678080760 -->\n",
       "<g class=\"edge\" id=\"edge24\"><title>1774678005408-&gt;1774678080760</title>\n",
       "<path d=\"M505.372,-498.366C497.656,-489.437 488.633,-478.997 480.347,-469.409\" fill=\"none\" stroke=\"black\"/>\n",
       "<polygon fill=\"black\" points=\"482.791,-466.884 473.605,-461.607 477.495,-471.462 482.791,-466.884\" stroke=\"black\"/>\n",
       "</g>\n",
       "<!-- 1774678080760&#45;&gt;1774678080424 -->\n",
       "<g class=\"edge\" id=\"edge26\"><title>1774678080760-&gt;1774678080424</title>\n",
       "<path d=\"M581.493,-415.473C644.306,-404.579 720.205,-391.414 784.343,-380.289\" fill=\"none\" stroke=\"black\"/>\n",
       "<polygon fill=\"black\" points=\"785.278,-383.68 794.532,-378.522 784.081,-376.783 785.278,-383.68\" stroke=\"black\"/>\n",
       "</g>\n",
       "<!-- 1774593857184 -->\n",
       "<g class=\"node\" id=\"node18\"><title>1774593857184</title>\n",
       "<polygon fill=\"none\" points=\"987,-249.5 987,-295.5 1224,-295.5 1224,-249.5 987,-249.5\" stroke=\"black\"/>\n",
       "<text font-family=\"Times New Roman,serif\" font-size=\"14.00\" text-anchor=\"middle\" x=\"1047.5\" y=\"-268.8\">decoder0/lt: Dense</text>\n",
       "<polyline fill=\"none\" points=\"1108,-249.5 1108,-295.5 \" stroke=\"black\"/>\n",
       "<text font-family=\"Times New Roman,serif\" font-size=\"14.00\" text-anchor=\"middle\" x=\"1136\" y=\"-280.3\">input:</text>\n",
       "<polyline fill=\"none\" points=\"1108,-272.5 1164,-272.5 \" stroke=\"black\"/>\n",
       "<text font-family=\"Times New Roman,serif\" font-size=\"14.00\" text-anchor=\"middle\" x=\"1136\" y=\"-257.3\">output:</text>\n",
       "<polyline fill=\"none\" points=\"1164,-249.5 1164,-295.5 \" stroke=\"black\"/>\n",
       "<text font-family=\"Times New Roman,serif\" font-size=\"14.00\" text-anchor=\"middle\" x=\"1194\" y=\"-280.3\">(1, 128)</text>\n",
       "<polyline fill=\"none\" points=\"1164,-272.5 1224,-272.5 \" stroke=\"black\"/>\n",
       "<text font-family=\"Times New Roman,serif\" font-size=\"14.00\" text-anchor=\"middle\" x=\"1194\" y=\"-257.3\">(1, 784)</text>\n",
       "</g>\n",
       "<!-- 1774678080424&#45;&gt;1774593857184 -->\n",
       "<g class=\"edge\" id=\"edge27\"><title>1774678080424-&gt;1774593857184</title>\n",
       "<path d=\"M971.779,-332.366C994.699,-322.277 1022,-310.257 1045.94,-299.718\" fill=\"none\" stroke=\"black\"/>\n",
       "<polygon fill=\"black\" points=\"1047.54,-302.839 1055.28,-295.607 1044.72,-296.433 1047.54,-302.839\" stroke=\"black\"/>\n",
       "</g>\n",
       "<!-- 1774678080424&#45;&gt;1774592017576 -->\n",
       "<g class=\"edge\" id=\"edge36\"><title>1774678080424-&gt;1774592017576</title>\n",
       "<path d=\"M916.102,-332.176C913.2,-315.1 911.929,-291.505 921.5,-273.5\" fill=\"none\" stroke=\"black\"/>\n",
       "</g>\n",
       "<!-- 1774677926128 -->\n",
       "<g class=\"node\" id=\"node19\"><title>1774677926128</title>\n",
       "<polygon fill=\"none\" points=\"950,-166.5 950,-212.5 1335,-212.5 1335,-166.5 950,-166.5\" stroke=\"black\"/>\n",
       "<text font-family=\"Times New Roman,serif\" font-size=\"14.00\" text-anchor=\"middle\" x=\"1084.5\" y=\"-185.8\">decoder0/norm: CustomLayer_Normalization</text>\n",
       "<polyline fill=\"none\" points=\"1219,-166.5 1219,-212.5 \" stroke=\"black\"/>\n",
       "<text font-family=\"Times New Roman,serif\" font-size=\"14.00\" text-anchor=\"middle\" x=\"1247\" y=\"-197.3\">input:</text>\n",
       "<polyline fill=\"none\" points=\"1219,-189.5 1275,-189.5 \" stroke=\"black\"/>\n",
       "<text font-family=\"Times New Roman,serif\" font-size=\"14.00\" text-anchor=\"middle\" x=\"1247\" y=\"-174.3\">output:</text>\n",
       "<polyline fill=\"none\" points=\"1275,-166.5 1275,-212.5 \" stroke=\"black\"/>\n",
       "<text font-family=\"Times New Roman,serif\" font-size=\"14.00\" text-anchor=\"middle\" x=\"1305\" y=\"-197.3\">(1, 784)</text>\n",
       "<polyline fill=\"none\" points=\"1275,-189.5 1335,-189.5 \" stroke=\"black\"/>\n",
       "<text font-family=\"Times New Roman,serif\" font-size=\"14.00\" text-anchor=\"middle\" x=\"1305\" y=\"-174.3\">(1, 784)</text>\n",
       "</g>\n",
       "<!-- 1774593857184&#45;&gt;1774677926128 -->\n",
       "<g class=\"edge\" id=\"edge28\"><title>1774593857184-&gt;1774677926128</title>\n",
       "<path d=\"M1115.61,-249.366C1119.49,-240.884 1123.98,-231.037 1128.18,-221.853\" fill=\"none\" stroke=\"black\"/>\n",
       "<polygon fill=\"black\" points=\"1131.43,-223.157 1132.4,-212.607 1125.06,-220.249 1131.43,-223.157\" stroke=\"black\"/>\n",
       "</g>\n",
       "<!-- 1774677926128&#45;&gt;1774679116656 -->\n",
       "<g class=\"edge\" id=\"edge31\"><title>1774677926128-&gt;1774679116656</title>\n",
       "<path d=\"M1149.33,-166.366C1151.89,-158.062 1154.86,-148.451 1157.64,-139.434\" fill=\"none\" stroke=\"black\"/>\n",
       "<polygon fill=\"black\" points=\"1161.07,-140.194 1160.68,-129.607 1154.38,-138.13 1161.07,-140.194\" stroke=\"black\"/>\n",
       "</g>\n",
       "<!-- 1774591880048&#45;&gt;1774592017576 -->\n",
       "<g class=\"edge\" id=\"edge32\"><title>1774591880048-&gt;1774592017576</title>\n",
       "<path d=\"M237.529,-581.462C239.639,-564.75 240.516,-541.496 233.5,-522.5\" fill=\"none\" stroke=\"black\"/>\n",
       "</g>\n",
       "<!-- 1774679116656&#45;&gt;1774592017576 -->\n",
       "<g class=\"edge\" id=\"edge34\"><title>1774679116656-&gt;1774592017576</title>\n",
       "<path d=\"M1133.89,-83.3664C1119.25,-73.723 1101.93,-62.3171 1086.45,-52.1252\" fill=\"none\" stroke=\"black\"/>\n",
       "<polygon fill=\"black\" points=\"1088.35,-49.1837 1078.07,-46.6068 1084.5,-55.0299 1088.35,-49.1837\" stroke=\"black\"/>\n",
       "</g>\n",
       "</g>\n",
       "</svg>"
      ],
      "text/plain": [
       "<IPython.core.display.SVG object>"
      ]
     },
     "execution_count": 18,
     "metadata": {},
     "output_type": "execute_result"
    }
   ],
   "source": [
    "#ladder_custom.summary()\n",
    "SVG(model_to_dot(ladder_custom,show_shapes=True).create(prog='dot',format='svg'))"
   ]
  },
  {
   "cell_type": "markdown",
   "metadata": {},
   "source": [
    "## Compiling the model\n",
    "In the compiler, supply the loss of the supervised part. The reconstruction loss is added automatically by the model due to the custom layer. "
   ]
  },
  {
   "cell_type": "code",
   "execution_count": 19,
   "metadata": {
    "collapsed": true
   },
   "outputs": [],
   "source": [
    "ladder_custom.compile(optimizer='adadelta', loss='categorical_crossentropy')"
   ]
  },
  {
   "cell_type": "code",
   "execution_count": 20,
   "metadata": {},
   "outputs": [
    {
     "name": "stdout",
     "output_type": "stream",
     "text": [
      "__________________________________________________________________________________________________\n",
      "Layer (type)                    Output Shape         Param #     Connected to                     \n",
      "==================================================================================================\n",
      "input_img (InputLayer)          (None, 784)          0                                            \n",
      "__________________________________________________________________________________________________\n",
      "corrupt_img (GaussianNoise)     (None, 784)          0           input_img[0][0]                  \n",
      "__________________________________________________________________________________________________\n",
      "encoder_1/lt (Dense)            (None, 128)          100480      corrupt_img[0][0]                \n",
      "                                                                 input_img[0][0]                  \n",
      "__________________________________________________________________________________________________\n",
      "encoder_1/norm (CustomLayer_Nor (None, 128)          0           encoder_1/lt[0][0]               \n",
      "                                                                 encoder_1/lt[1][0]               \n",
      "__________________________________________________________________________________________________\n",
      "encoder_1/noise (GaussianNoise) (None, 128)          0           encoder_1/norm[0][0]             \n",
      "__________________________________________________________________________________________________\n",
      "encoder_1/bn (BatchNormalizatio (None, 128)          512         encoder_1/noise[0][0]            \n",
      "                                                                 encoder_1/norm[1][0]             \n",
      "__________________________________________________________________________________________________\n",
      "encoder_1/output (Activation)   (None, 128)          0           encoder_1/bn[0][0]               \n",
      "                                                                 encoder_1/bn[1][0]               \n",
      "__________________________________________________________________________________________________\n",
      "encoder_2/lt (Dense)            (None, 32)           4128        encoder_1/output[0][0]           \n",
      "                                                                 encoder_1/output[1][0]           \n",
      "__________________________________________________________________________________________________\n",
      "encoder_2/norm (CustomLayer_Nor (None, 32)           0           encoder_2/lt[0][0]               \n",
      "                                                                 encoder_2/lt[1][0]               \n",
      "__________________________________________________________________________________________________\n",
      "encoder_2/noise (GaussianNoise) (None, 32)           0           encoder_2/norm[0][0]             \n",
      "__________________________________________________________________________________________________\n",
      "encoder_2/bn (BatchNormalizatio (None, 32)           128         encoder_2/noise[0][0]            \n",
      "                                                                 encoder_2/norm[1][0]             \n",
      "__________________________________________________________________________________________________\n",
      "encoder_2/output (Activation)   (None, 32)           0           encoder_2/bn[0][0]               \n",
      "                                                                 encoder_2/bn[1][0]               \n",
      "__________________________________________________________________________________________________\n",
      "decoded2/norm (CustomLayer_Norm (None, 32)           0           encoder_2/output[0][0]           \n",
      "__________________________________________________________________________________________________\n",
      "decoded2/combined (CombinatorLa (1, 32)              288         encoder_2/noise[0][0]            \n",
      "                                                                 decoded2/norm[0][0]              \n",
      "__________________________________________________________________________________________________\n",
      "decoder1/lt (Dense)             (1, 128)             4224        decoded2/combined[0][0]          \n",
      "__________________________________________________________________________________________________\n",
      "decoder1/norm (CustomLayer_Norm (1, 128)             0           decoder1/lt[0][0]                \n",
      "__________________________________________________________________________________________________\n",
      "decoded1/combined (CombinatorLa (1, 128)             1152        encoder_1/noise[0][0]            \n",
      "                                                                 decoder1/norm[0][0]              \n",
      "__________________________________________________________________________________________________\n",
      "decoder0/lt (Dense)             (1, 784)             101136      decoded1/combined[0][0]          \n",
      "__________________________________________________________________________________________________\n",
      "decoder0/norm (CustomLayer_Norm (1, 784)             0           decoder0/lt[0][0]                \n",
      "__________________________________________________________________________________________________\n",
      "predictor (Dense)               (None, 10)           330         encoder_2/output[1][0]           \n",
      "__________________________________________________________________________________________________\n",
      "decoded0/combined (CombinatorLa (1, 784)             7056        corrupt_img[0][0]                \n",
      "                                                                 decoder0/norm[0][0]              \n",
      "__________________________________________________________________________________________________\n",
      "custom_layer__recon_loss_1 (Cus (None, 10)           0           predictor[0][0]                  \n",
      "                                                                 input_img[0][0]                  \n",
      "                                                                 decoded0/combined[0][0]          \n",
      "                                                                 encoder_1/norm[1][0]             \n",
      "                                                                 decoded1/combined[0][0]          \n",
      "                                                                 encoder_2/norm[1][0]             \n",
      "                                                                 decoded2/combined[0][0]          \n",
      "==================================================================================================\n",
      "Total params: 219,434\n",
      "Trainable params: 219,114\n",
      "Non-trainable params: 320\n",
      "__________________________________________________________________________________________________\n"
     ]
    }
   ],
   "source": [
    "ladder_custom.summary()"
   ]
  },
  {
   "cell_type": "markdown",
   "metadata": {},
   "source": [
    "## Training the model\n",
    "The model output y are the predicted labels. The loss function, however, containes contributions from the autoencoder. This is why the network is trained to reconstruct (DAE) and classify (clean encoder) simultaneously, even though this cannot be seen from the arguments of the fit below ( (train_x, train_y) looks like a supervised classification only)."
   ]
  },
  {
   "cell_type": "code",
   "execution_count": 21,
   "metadata": {
    "scrolled": true
   },
   "outputs": [
    {
     "name": "stdout",
     "output_type": "stream",
     "text": [
      "Train on 60000 samples, validate on 10000 samples\n",
      "Epoch 1/10\n",
      "60000/60000 [==============================] - 26s 427us/step - loss: 0.5256 - val_loss: 0.1216\n",
      "Epoch 2/10\n",
      "60000/60000 [==============================] - 24s 394us/step - loss: 0.1150 - val_loss: 0.0861\n",
      "Epoch 3/10\n",
      "60000/60000 [==============================] - 24s 393us/step - loss: 0.0814 - val_loss: 0.0760\n",
      "Epoch 4/10\n",
      "60000/60000 [==============================] - 24s 396us/step - loss: 0.0647 - val_loss: 0.0737\n",
      "Epoch 5/10\n",
      "60000/60000 [==============================] - 24s 397us/step - loss: 0.0519 - val_loss: 0.0694\n",
      "Epoch 6/10\n",
      "60000/60000 [==============================] - 25s 422us/step - loss: 0.0442 - val_loss: 0.0749\n",
      "Epoch 7/10\n",
      "60000/60000 [==============================] - 25s 414us/step - loss: 0.0384 - val_loss: 0.0698\n",
      "Epoch 8/10\n",
      "60000/60000 [==============================] - 24s 407us/step - loss: 0.0323 - val_loss: 0.0649\n",
      "Epoch 9/10\n",
      "60000/60000 [==============================] - 24s 407us/step - loss: 0.0295 - val_loss: 0.0726\n",
      "Epoch 10/10\n",
      "60000/60000 [==============================] - 24s 402us/step - loss: 0.0264 - val_loss: 0.0759\n"
     ]
    }
   ],
   "source": [
    "infoLadder=ladder_custom.fit(x_train,y_train,\n",
    "                epochs=10,\n",
    "                batch_size=100,\n",
    "                shuffle=True,\n",
    "                validation_data=(x_test,y_test))"
   ]
  },
  {
   "cell_type": "markdown",
   "metadata": {},
   "source": [
    "# Predicting and plotting"
   ]
  },
  {
   "cell_type": "markdown",
   "metadata": {},
   "source": [
    "## encode and decode some digits\n"
   ]
  },
  {
   "cell_type": "markdown",
   "metadata": {},
   "source": [
    "A layer is an object which has a well defined number of outputs. The input is not specified upon definition of the layer, but only upon \"linking\", i.e when the layer received a specific input. Only after linking, the weight tensor is defined and can then be trained. "
   ]
  },
  {
   "cell_type": "markdown",
   "metadata": {},
   "source": [
    "### predicting\n",
    "After training the network we obtain a set of linked layers that already contain the trained weights. For example, \"decoded[0]\" stands for the output of the autoencoder which is linked to the input input_img, via a set of specific weights. We can now construct a new model that uses the weights for prediction. \n",
    "\n",
    "After constructing the model we can perform a prediction giving it x_test as an input, and obtaining the decoded image as an output. \n"
   ]
  },
  {
   "cell_type": "code",
   "execution_count": 22,
   "metadata": {
    "collapsed": true
   },
   "outputs": [],
   "source": [
    "#ladder_for_prediction = Model(input_img,[decoded[0],predicted_labels])\n",
    "ladder_for_prediction = Model(input_img,[decoded_combined[0],predicted_labels])\n",
    "\n",
    "# Thenext two lines are for thesimple feed forawrd without the aouteconde\n",
    "#ladder_for_prediction = Model(input_img,predicted_labels)\n",
    "#encoder_output=ladder_for_prediction.predict(x_test)\n",
    "[decoded_imgs,pred_labels] = ladder_for_prediction.predict(x_test)"
   ]
  },
  {
   "cell_type": "code",
   "execution_count": 23,
   "metadata": {
    "scrolled": false
   },
   "outputs": [
    {
     "name": "stdout",
     "output_type": "stream",
     "text": [
      "Mean and std of decoded : 0.133, 0.302\n",
      "Mean and std of original: 0.131, 0.301\n",
      "Accuracy: 97.63 %\n"
     ]
    },
    {
     "data": {
      "image/png": "[encoded data removed]",
      "text/plain": [
       "<matplotlib.figure.Figure at 0x19d3b082eb8>"
      ]
     },
     "metadata": {},
     "output_type": "display_data"
    }
   ],
   "source": [
    "origmean,origstd=(np.mean(x_train)),np.mean(np.std(x_train,axis=1))\n",
    "decodmean,decodstd=(np.mean(decoded_imgs)),np.mean(np.std(decoded_imgs,axis=1))\n",
    "accuracy=np.mean(np.argmax(pred_labels,axis=1)==y_test_num)*100\n",
    "print(\"Mean and std of decoded : %.3f, %.3f\"%(decodmean,decodstd))\n",
    "print(\"Mean and std of original: %.3f, %.3f\"%(origmean,origstd))\n",
    "print(\"Accuracy: %.2f %%\"%accuracy)\n",
    "\n",
    "\n",
    "n = 20  # how many digits we will display\n",
    "plt.figure(figsize=(20, 2))\n",
    "indices=np.arange(len(x_test))\n",
    "np.random.shuffle(indices)\n",
    "# pick randomly n images out of the test set, reconstruct and display them\n",
    "for i,j in enumerate(indices[:n]):\n",
    "    # display original\n",
    "    ax = plt.subplot(2, n, i + 1)\n",
    "    if np.argmax(pred_labels[j]) == np.argmax(y_test[j]) :\n",
    "        ax.imshow(x_test[j].reshape(28, 28),cmap=plt.cm.gray)\n",
    "        # display predicted label\n",
    "        ax.text(0,28,np.argmax(pred_labels[j]),fontsize=24,color='yellow')\n",
    "    else:\n",
    "        ax.imshow(x_test[j].reshape(28, 28),cmap=plt.cm.gray_r)\n",
    "        ax.text(0,28,np.argmax(pred_labels[j]),fontsize=24,color='red')\n",
    "    plt.gray()\n",
    "    ax.get_xaxis().set_visible(False)\n",
    "    ax.get_yaxis().set_visible(False)\n",
    "    \n",
    "    # display reconstruction\n",
    "    ax = plt.subplot(2, n, i + 1 + n)\n",
    "    plt.imshow(decoded_imgs[j].reshape(28, 28))\n",
    "    plt.gray()\n",
    "    ax.get_xaxis().set_visible(False)\n",
    "    ax.get_yaxis().set_visible(False)\n",
    "    \n",
    "    \n",
    "plt.tight_layout()    "
   ]
  },
  {
   "cell_type": "markdown",
   "metadata": {
    "collapsed": true
   },
   "source": [
    "# Save results"
   ]
  },
  {
   "cell_type": "code",
   "execution_count": null,
   "metadata": {
    "collapsed": true
   },
   "outputs": [],
   "source": [
    "import pickle\n",
    "\n",
    "def save_obj(obj, name ):\n",
    "    with open(name + '.pkl', 'wb') as f:\n",
    "        pickle.dump(obj, f, pickle.HIGHEST_PROTOCOL)\n",
    "\n",
    "def load_obj(name ):\n",
    "    with open(name + '.pkl', 'rb') as f:\n",
    "        return pickle.load(f)\n"
   ]
  },
  {
   "cell_type": "code",
   "execution_count": null,
   "metadata": {
    "collapsed": true
   },
   "outputs": [],
   "source": [
    "analysis = {}\n",
    "analysis['accuracy'] = accuracy\n",
    "#analysis['training'] = infoLadder"
   ]
  },
  {
   "cell_type": "code",
   "execution_count": null,
   "metadata": {
    "collapsed": true
   },
   "outputs": [],
   "source": [
    "save_obj(analysis,'ladder_sketch')"
   ]
  },
  {
   "cell_type": "code",
   "execution_count": null,
   "metadata": {
    "collapsed": true
   },
   "outputs": [],
   "source": [
    "def savefile(filename):\n",
    "    if theNotebook is None:\n",
    "        print (\"Run the cell starting with %%javascript \")\n",
    "    else:\n",
    "        os.system(\"jupyter nbconvert --to script %s --stdout > %s\"%(theNotebook,filename))"
   ]
  },
  {
   "cell_type": "code",
   "execution_count": null,
   "metadata": {
    "collapsed": true
   },
   "outputs": [],
   "source": [
    "theNotebook=None"
   ]
  },
  {
   "cell_type": "code",
   "execution_count": null,
   "metadata": {},
   "outputs": [],
   "source": [
    "%%javascript\n",
    "var kernel = IPython.notebook.kernel;\n",
    "var thename = window.document.getElementById(\"notebook_name\").innerHTML;\n",
    "var command = \"theNotebook = \" + \"'\"+thename+\"'\";\n",
    "kernel.execute(command)"
   ]
  },
  {
   "cell_type": "code",
   "execution_count": null,
   "metadata": {},
   "outputs": [],
   "source": [
    "savefile(\"gug.py\")"
   ]
  },
  {
   "cell_type": "code",
   "execution_count": null,
   "metadata": {
    "collapsed": true
   },
   "outputs": [],
   "source": [
    "ladder_custom.save('Model_ladder_sketch')"
   ]
  },
  {
   "cell_type": "code",
   "execution_count": null,
   "metadata": {
    "collapsed": true
   },
   "outputs": [],
   "source": []
  }
 ],
 "metadata": {
  "kernelspec": {
   "display_name": "Python 3",
   "language": "python",
   "name": "python3"
  },
  "language_info": {
   "codemirror_mode": {
    "name": "ipython",
    "version": 3
   },
   "file_extension": ".py",
   "mimetype": "text/x-python",
   "name": "python",
   "nbconvert_exporter": "python",
   "pygments_lexer": "ipython3",
   "version": "3.6.3"
  },
  "toc": {
   "nav_menu": {},
   "number_sections": true,
   "sideBar": true,
   "skip_h1_title": false,
   "toc_cell": false,
   "toc_position": {
    "height": "989px",
    "left": "0px",
    "right": "1184.36px",
    "top": "107px",
    "width": "223px"
   },
   "toc_section_display": "block",
   "toc_window_display": true
  }
 },
 "nbformat": 4,
 "nbformat_minor": 2
}
