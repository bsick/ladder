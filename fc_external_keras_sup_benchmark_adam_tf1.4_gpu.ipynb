{
 "cells": [
  {
   "cell_type": "code",
   "execution_count": null,
   "metadata": {},
   "outputs": [],
   "source": [
    "'''\n",
    "# if working on laptop on local docker:\n",
    "nvidia-docker run -p 4242:8888 -v ~/dl_cas/:/notebooks -p 6006:6006 -it oduerr/tf_docker:gpu_r\n",
    "'''"
   ]
  },
  {
   "cell_type": "markdown",
   "metadata": {},
   "source": [
    "## Imports"
   ]
  },
  {
   "cell_type": "code",
   "execution_count": 1,
   "metadata": {},
   "outputs": [],
   "source": [
    "# python module imports needed in customized functions:\n",
    "import numpy as np\n",
    "import tensorflow as tf\n",
    "import sys"
   ]
  },
  {
   "cell_type": "code",
   "execution_count": 2,
   "metadata": {},
   "outputs": [
    {
     "data": {
      "text/plain": [
       "'1.4.1'"
      ]
     },
     "execution_count": 2,
     "metadata": {},
     "output_type": "execute_result"
    }
   ],
   "source": [
    "tf.__version__"
   ]
  },
  {
   "cell_type": "code",
   "execution_count": 5,
   "metadata": {},
   "outputs": [],
   "source": [
    "%matplotlib inline\n",
    "import matplotlib.pyplot as plt\n",
    "import matplotlib.image as imgplot"
   ]
  },
  {
   "cell_type": "code",
   "execution_count": 3,
   "metadata": {},
   "outputs": [
    {
     "name": "stdout",
     "output_type": "stream",
     "text": [
      "Requirement already satisfied: keras in /usr/local/lib/python3.5/dist-packages\n",
      "Requirement already satisfied: six>=1.9.0 in /usr/local/lib/python3.5/dist-packages (from keras)\n",
      "Requirement already satisfied: scipy>=0.14 in /usr/local/lib/python3.5/dist-packages (from keras)\n",
      "Requirement already satisfied: numpy>=1.9.1 in /usr/local/lib/python3.5/dist-packages (from keras)\n",
      "Requirement already satisfied: pyyaml in /usr/local/lib/python3.5/dist-packages (from keras)\n"
     ]
    }
   ],
   "source": [
    "!pip install keras"
   ]
  },
  {
   "cell_type": "code",
   "execution_count": 4,
   "metadata": {},
   "outputs": [
    {
     "name": "stderr",
     "output_type": "stream",
     "text": [
      "Using TensorFlow backend.\n"
     ]
    }
   ],
   "source": [
    "import keras\n",
    "#from keras.datasets import mnist\n",
    "from keras.models import Sequential\n",
    "from keras.layers import Dense, Dropout, Activation, Flatten, Input\n",
    "#from keras.layers import Convolution2D, MaxPooling2D\n",
    "from keras.utils import np_utils\n",
    "from keras import backend as K\n",
    "from keras.layers.normalization import BatchNormalization"
   ]
  },
  {
   "cell_type": "code",
   "execution_count": null,
   "metadata": {
    "scrolled": true
   },
   "outputs": [],
   "source": [
    "\n",
    "import pandas as pd\n",
    "#tf.set_random_seed(1)\n",
    "#np.random.seed(1)\n",
    "import sys\n",
    "tf.__version__, sys.version_info\n",
    "\n"
   ]
  },
  {
   "cell_type": "markdown",
   "metadata": {},
   "source": [
    "# Data read-in "
   ]
  },
  {
   "cell_type": "markdown",
   "metadata": {},
   "source": [
    "### Load small external MNIST data set when for working local on windows"
   ]
  },
  {
   "cell_type": "code",
   "execution_count": 6,
   "metadata": {},
   "outputs": [
    {
     "name": "stdout",
     "output_type": "stream",
     "text": [
      "small data before split X.shape (4000, 784)\n",
      "small data before  y.shape (4000,)\n",
      "small data x_train.shape: (3000, 784)\n",
      "small data y_train.shape: (3000,)\n",
      "small data x_test.shape: (1000, 784)\n",
      "small data y_test.shape: (1000,)\n",
      "num_class: 10\n"
     ]
    }
   ],
   "source": [
    "\n",
    "# upload mnist_4000.pkl.gz which we have used in the DL course to home\n",
    "# To be compatible with python3 and python2\n",
    "try:\n",
    "    import cPickle as pickle\n",
    "except ImportError:\n",
    "    import pickle\n",
    "import gzip\n",
    "\n",
    "with gzip.open('./../mnist_4000.pkl.gz', 'rb') as f:\n",
    "    if sys.version_info.major > 2:\n",
    "        (X,y) = pickle.load(f, encoding='latin1')\n",
    "    else:\n",
    "        (X,y) = pickle.load(f)\n",
    "PIXELS = len(X[0,0,0,:])\n",
    "\n",
    "# if images are not flatten (like in mnist) we need first to flatten them\n",
    "# now flatten images for fc ladder\n",
    "\n",
    "X = X.reshape([4000, 784])\n",
    "#X = X/255 # is already normalized\n",
    "\n",
    "print(\"small data before split X.shape\", X.shape)\n",
    "print(\"small data before  y.shape\", y.shape) \n",
    "\n",
    "x_train = X[0:3000]\n",
    "y_train = y[0:3000]\n",
    "x_test = X[3000:4000]\n",
    "y_test = y[3000:4000]\n",
    "\n",
    "\n",
    "print(\"small data x_train.shape:\", x_train.shape)\n",
    "print(\"small data y_train.shape:\",y_train.shape)\n",
    "print(\"small data x_test.shape:\",x_test.shape)\n",
    "print(\"small data y_test.shape:\",y_test.shape)\n",
    "\n",
    "num_class= len(np.unique(y))\n",
    "print(\"num_class:\",num_class)\n",
    "\n"
   ]
  },
  {
   "cell_type": "markdown",
   "metadata": {
    "collapsed": true
   },
   "source": [
    "### Or load full MNIST dataset directly from internet"
   ]
  },
  {
   "cell_type": "code",
   "execution_count": 7,
   "metadata": {},
   "outputs": [
    {
     "data": {
      "text/plain": [
       "'\\nfrom keras.datasets import mnist\\n\\n(x_train, y_train), (x_test, y_test) = mnist.load_data()\\n\\n# if images are not flatten (like in mnist) we need first to flatten them\\n# now flatten images for fc ladder\\n\\nx_train = x_train.reshape(-1,784)\\nx_test = x_test.reshape(-1,784)\\n\\nprint(\"large data x_train.shape:\", x_train.shape)\\nprint(\"large data y_train.shape:\",y_train.shape)\\nprint(\"large data x_test.shape:\",x_test.shape)\\nprint(\"large data x_test.shape:\",y_test.shape)\\n'"
      ]
     },
     "execution_count": 7,
     "metadata": {},
     "output_type": "execute_result"
    }
   ],
   "source": [
    "'''\n",
    "from keras.datasets import mnist\n",
    "\n",
    "(x_train, y_train), (x_test, y_test) = mnist.load_data()\n",
    "\n",
    "# if images are not flatten (like in mnist) we need first to flatten them\n",
    "# now flatten images for fc ladder\n",
    "\n",
    "x_train = x_train.reshape(-1,784)\n",
    "x_test = x_test.reshape(-1,784)\n",
    "\n",
    "print(\"large data x_train.shape:\", x_train.shape)\n",
    "print(\"large data y_train.shape:\",y_train.shape)\n",
    "print(\"large data x_test.shape:\",x_test.shape)\n",
    "print(\"large data x_test.shape:\",y_test.shape)\n",
    "'''"
   ]
  },
  {
   "cell_type": "code",
   "execution_count": 8,
   "metadata": {},
   "outputs": [
    {
     "data": {
      "text/plain": [
       "(200, 784)"
      ]
     },
     "execution_count": 8,
     "metadata": {},
     "output_type": "execute_result"
    }
   ],
   "source": [
    "x_train[:200].shape"
   ]
  },
  {
   "cell_type": "code",
   "execution_count": 9,
   "metadata": {},
   "outputs": [
    {
     "data": {
      "text/plain": [
       "-0.0042952602"
      ]
     },
     "execution_count": 9,
     "metadata": {},
     "output_type": "execute_result"
    }
   ],
   "source": [
    "np.mean(x_train[:,200])"
   ]
  },
  {
   "cell_type": "code",
   "execution_count": 10,
   "metadata": {},
   "outputs": [
    {
     "data": {
      "text/plain": [
       "0.83271211"
      ]
     },
     "execution_count": 10,
     "metadata": {},
     "output_type": "execute_result"
    }
   ],
   "source": [
    "np.std(x_train[:,200])"
   ]
  },
  {
   "cell_type": "markdown",
   "metadata": {
    "collapsed": true
   },
   "source": [
    "# Lets construct a fc NN (784->500->50->10) without noise and unsupervised task to get a benchmark for the loss and accuracy"
   ]
  },
  {
   "cell_type": "code",
   "execution_count": 11,
   "metadata": {},
   "outputs": [],
   "source": [
    "### Relu \n",
    "name = 'relu'\n",
    "model = Sequential()\n",
    "\n",
    "model.add(Dense(500, batch_input_shape=(None, 784),\n",
    "                kernel_initializer='random_uniform',\n",
    "                bias_initializer='zeros'))\n",
    "#model.add(keras.layers.normalization.BatchNormalization())\n",
    "model.add(Activation('relu'))\n",
    "\n",
    "model.add(Dense(50))\n",
    "#model.add(keras.layers.normalization.BatchNormalization())\n",
    "model.add(Activation('relu'))\n",
    "\n",
    "model.add(Dense(10, activation='softmax'))\n",
    "model.compile(loss='categorical_crossentropy',\n",
    "              optimizer='Adam',\n",
    "              # optimizer='rmsprop',\n",
    "              metrics=['accuracy'])"
   ]
  },
  {
   "cell_type": "code",
   "execution_count": 12,
   "metadata": {},
   "outputs": [
    {
     "name": "stdout",
     "output_type": "stream",
     "text": [
      "_________________________________________________________________\n",
      "Layer (type)                 Output Shape              Param #   \n",
      "=================================================================\n",
      "dense_1 (Dense)              (None, 500)               392500    \n",
      "_________________________________________________________________\n",
      "activation_1 (Activation)    (None, 500)               0         \n",
      "_________________________________________________________________\n",
      "dense_2 (Dense)              (None, 50)                25050     \n",
      "_________________________________________________________________\n",
      "activation_2 (Activation)    (None, 50)                0         \n",
      "_________________________________________________________________\n",
      "dense_3 (Dense)              (None, 10)                510       \n",
      "=================================================================\n",
      "Total params: 418,060\n",
      "Trainable params: 418,060\n",
      "Non-trainable params: 0\n",
      "_________________________________________________________________\n"
     ]
    }
   ],
   "source": [
    "model.summary()"
   ]
  },
  {
   "cell_type": "markdown",
   "metadata": {},
   "source": [
    "# Training"
   ]
  },
  {
   "cell_type": "code",
   "execution_count": 13,
   "metadata": {},
   "outputs": [],
   "source": [
    "def convertToOneHot(vector, num_classes=None):\n",
    "    result = np.zeros((len(vector), num_classes), dtype='int32')\n",
    "    result[np.arange(len(vector)), vector] = 1\n",
    "    return result"
   ]
  },
  {
   "cell_type": "code",
   "execution_count": 15,
   "metadata": {},
   "outputs": [],
   "source": [
    "tensorboard = keras.callbacks.TensorBoard(\n",
    "    log_dir='tensorboard/mnist_small/' + name + '/', \n",
    "    write_graph=True,\n",
    "    histogram_freq=1\n",
    ")"
   ]
  },
  {
   "cell_type": "code",
   "execution_count": 16,
   "metadata": {},
   "outputs": [
    {
     "name": "stderr",
     "output_type": "stream",
     "text": [
      "/usr/local/lib/python3.5/dist-packages/keras/models.py:939: UserWarning: The `nb_epoch` argument in `fit` has been renamed `epochs`.\n",
      "  warnings.warn('The `nb_epoch` argument in `fit` '\n"
     ]
    },
    {
     "name": "stdout",
     "output_type": "stream",
     "text": [
      "Train on 3000 samples, validate on 1000 samples\n",
      "Epoch 1/100\n",
      " - 2s - loss: 0.8515 - acc: 0.7530 - val_loss: 0.3355 - val_acc: 0.9120\n",
      "Epoch 2/100\n",
      " - 1s - loss: 0.2079 - acc: 0.9433 - val_loss: 0.2614 - val_acc: 0.9260\n",
      "Epoch 3/100\n",
      " - 1s - loss: 0.0978 - acc: 0.9770 - val_loss: 0.2507 - val_acc: 0.9370\n",
      "Epoch 4/100\n",
      " - 1s - loss: 0.0506 - acc: 0.9937 - val_loss: 0.2465 - val_acc: 0.9390\n",
      "Epoch 5/100\n",
      " - 1s - loss: 0.0287 - acc: 0.9977 - val_loss: 0.2454 - val_acc: 0.9420\n",
      "Epoch 6/100\n",
      " - 1s - loss: 0.0184 - acc: 0.9990 - val_loss: 0.2447 - val_acc: 0.9370\n",
      "Epoch 7/100\n",
      " - 1s - loss: 0.0116 - acc: 1.0000 - val_loss: 0.2502 - val_acc: 0.9400\n",
      "Epoch 8/100\n",
      " - 1s - loss: 0.0081 - acc: 1.0000 - val_loss: 0.2506 - val_acc: 0.9430\n",
      "Epoch 9/100\n",
      " - 1s - loss: 0.0062 - acc: 1.0000 - val_loss: 0.2525 - val_acc: 0.9410\n",
      "Epoch 10/100\n",
      " - 1s - loss: 0.0049 - acc: 1.0000 - val_loss: 0.2561 - val_acc: 0.9410\n",
      "Epoch 11/100\n",
      " - 1s - loss: 0.0040 - acc: 1.0000 - val_loss: 0.2585 - val_acc: 0.9410\n",
      "Epoch 12/100\n",
      " - 1s - loss: 0.0033 - acc: 1.0000 - val_loss: 0.2622 - val_acc: 0.9410\n",
      "Epoch 13/100\n",
      " - 1s - loss: 0.0028 - acc: 1.0000 - val_loss: 0.2624 - val_acc: 0.9420\n",
      "Epoch 14/100\n",
      " - 1s - loss: 0.0025 - acc: 1.0000 - val_loss: 0.2662 - val_acc: 0.9410\n",
      "Epoch 15/100\n",
      " - 1s - loss: 0.0021 - acc: 1.0000 - val_loss: 0.2684 - val_acc: 0.9410\n",
      "Epoch 16/100\n",
      " - 1s - loss: 0.0019 - acc: 1.0000 - val_loss: 0.2696 - val_acc: 0.9420\n",
      "Epoch 17/100\n",
      " - 1s - loss: 0.0017 - acc: 1.0000 - val_loss: 0.2717 - val_acc: 0.9410\n",
      "Epoch 18/100\n",
      " - 1s - loss: 0.0015 - acc: 1.0000 - val_loss: 0.2727 - val_acc: 0.9420\n",
      "Epoch 19/100\n",
      " - 1s - loss: 0.0014 - acc: 1.0000 - val_loss: 0.2755 - val_acc: 0.9420\n",
      "Epoch 20/100\n",
      " - 1s - loss: 0.0012 - acc: 1.0000 - val_loss: 0.2766 - val_acc: 0.9420\n",
      "Epoch 21/100\n",
      " - 1s - loss: 0.0011 - acc: 1.0000 - val_loss: 0.2786 - val_acc: 0.9430\n",
      "Epoch 22/100\n",
      " - 1s - loss: 0.0010 - acc: 1.0000 - val_loss: 0.2801 - val_acc: 0.9420\n",
      "Epoch 23/100\n",
      " - 1s - loss: 9.3094e-04 - acc: 1.0000 - val_loss: 0.2810 - val_acc: 0.9430\n",
      "Epoch 24/100\n",
      " - 1s - loss: 8.5812e-04 - acc: 1.0000 - val_loss: 0.2819 - val_acc: 0.9430\n",
      "Epoch 25/100\n",
      " - 1s - loss: 7.9325e-04 - acc: 1.0000 - val_loss: 0.2846 - val_acc: 0.9430\n",
      "Epoch 26/100\n",
      " - 1s - loss: 7.3682e-04 - acc: 1.0000 - val_loss: 0.2855 - val_acc: 0.9430\n",
      "Epoch 27/100\n",
      " - 1s - loss: 6.7927e-04 - acc: 1.0000 - val_loss: 0.2867 - val_acc: 0.9430\n",
      "Epoch 28/100\n",
      " - 1s - loss: 6.3228e-04 - acc: 1.0000 - val_loss: 0.2879 - val_acc: 0.9430\n",
      "Epoch 29/100\n",
      " - 1s - loss: 5.8988e-04 - acc: 1.0000 - val_loss: 0.2891 - val_acc: 0.9430\n",
      "Epoch 30/100\n",
      " - 1s - loss: 5.5539e-04 - acc: 1.0000 - val_loss: 0.2921 - val_acc: 0.9420\n",
      "Epoch 31/100\n",
      " - 1s - loss: 5.1984e-04 - acc: 1.0000 - val_loss: 0.2911 - val_acc: 0.9430\n",
      "Epoch 32/100\n",
      " - 1s - loss: 4.8733e-04 - acc: 1.0000 - val_loss: 0.2937 - val_acc: 0.9420\n",
      "Epoch 33/100\n",
      " - 1s - loss: 4.5791e-04 - acc: 1.0000 - val_loss: 0.2943 - val_acc: 0.9430\n",
      "Epoch 34/100\n",
      " - 1s - loss: 4.3375e-04 - acc: 1.0000 - val_loss: 0.2952 - val_acc: 0.9430\n",
      "Epoch 35/100\n",
      " - 1s - loss: 4.0882e-04 - acc: 1.0000 - val_loss: 0.2971 - val_acc: 0.9430\n",
      "Epoch 36/100\n",
      " - 1s - loss: 3.8625e-04 - acc: 1.0000 - val_loss: 0.2982 - val_acc: 0.9430\n",
      "Epoch 37/100\n",
      " - 1s - loss: 3.6596e-04 - acc: 1.0000 - val_loss: 0.2995 - val_acc: 0.9430\n",
      "Epoch 38/100\n",
      " - 1s - loss: 3.4645e-04 - acc: 1.0000 - val_loss: 0.2998 - val_acc: 0.9430\n",
      "Epoch 39/100\n",
      " - 1s - loss: 3.2934e-04 - acc: 1.0000 - val_loss: 0.3006 - val_acc: 0.9430\n",
      "Epoch 40/100\n",
      " - 1s - loss: 3.1323e-04 - acc: 1.0000 - val_loss: 0.3020 - val_acc: 0.9430\n",
      "Epoch 41/100\n",
      " - 1s - loss: 2.9758e-04 - acc: 1.0000 - val_loss: 0.3024 - val_acc: 0.9430\n",
      "Epoch 42/100\n",
      " - 1s - loss: 2.8433e-04 - acc: 1.0000 - val_loss: 0.3039 - val_acc: 0.9430\n",
      "Epoch 43/100\n",
      " - 1s - loss: 2.7127e-04 - acc: 1.0000 - val_loss: 0.3047 - val_acc: 0.9430\n",
      "Epoch 44/100\n",
      " - 1s - loss: 2.5834e-04 - acc: 1.0000 - val_loss: 0.3052 - val_acc: 0.9430\n",
      "Epoch 45/100\n",
      " - 1s - loss: 2.4647e-04 - acc: 1.0000 - val_loss: 0.3060 - val_acc: 0.9430\n",
      "Epoch 46/100\n",
      " - 1s - loss: 2.3564e-04 - acc: 1.0000 - val_loss: 0.3069 - val_acc: 0.9430\n",
      "Epoch 47/100\n",
      " - 1s - loss: 2.2583e-04 - acc: 1.0000 - val_loss: 0.3082 - val_acc: 0.9430\n",
      "Epoch 48/100\n",
      " - 1s - loss: 2.1683e-04 - acc: 1.0000 - val_loss: 0.3089 - val_acc: 0.9430\n",
      "Epoch 49/100\n",
      " - 1s - loss: 2.0771e-04 - acc: 1.0000 - val_loss: 0.3094 - val_acc: 0.9430\n",
      "Epoch 50/100\n",
      " - 1s - loss: 1.9971e-04 - acc: 1.0000 - val_loss: 0.3100 - val_acc: 0.9430\n",
      "Epoch 51/100\n",
      " - 1s - loss: 1.9064e-04 - acc: 1.0000 - val_loss: 0.3112 - val_acc: 0.9430\n",
      "Epoch 52/100\n",
      " - 1s - loss: 1.8342e-04 - acc: 1.0000 - val_loss: 0.3120 - val_acc: 0.9430\n",
      "Epoch 53/100\n",
      " - 1s - loss: 1.7616e-04 - acc: 1.0000 - val_loss: 0.3121 - val_acc: 0.9430\n",
      "Epoch 54/100\n",
      " - 1s - loss: 1.6972e-04 - acc: 1.0000 - val_loss: 0.3129 - val_acc: 0.9440\n",
      "Epoch 55/100\n",
      " - 1s - loss: 1.6340e-04 - acc: 1.0000 - val_loss: 0.3144 - val_acc: 0.9430\n",
      "Epoch 56/100\n",
      " - 1s - loss: 1.5741e-04 - acc: 1.0000 - val_loss: 0.3145 - val_acc: 0.9430\n",
      "Epoch 57/100\n",
      " - 1s - loss: 1.5177e-04 - acc: 1.0000 - val_loss: 0.3156 - val_acc: 0.9430\n",
      "Epoch 58/100\n",
      " - 1s - loss: 1.4654e-04 - acc: 1.0000 - val_loss: 0.3165 - val_acc: 0.9440\n",
      "Epoch 59/100\n",
      " - 1s - loss: 1.4147e-04 - acc: 1.0000 - val_loss: 0.3173 - val_acc: 0.9440\n",
      "Epoch 60/100\n",
      " - 1s - loss: 1.3647e-04 - acc: 1.0000 - val_loss: 0.3175 - val_acc: 0.9440\n",
      "Epoch 61/100\n",
      " - 1s - loss: 1.3178e-04 - acc: 1.0000 - val_loss: 0.3186 - val_acc: 0.9440\n",
      "Epoch 62/100\n",
      " - 1s - loss: 1.2747e-04 - acc: 1.0000 - val_loss: 0.3189 - val_acc: 0.9440\n",
      "Epoch 63/100\n",
      " - 1s - loss: 1.2301e-04 - acc: 1.0000 - val_loss: 0.3195 - val_acc: 0.9440\n",
      "Epoch 64/100\n",
      " - 1s - loss: 1.1916e-04 - acc: 1.0000 - val_loss: 0.3202 - val_acc: 0.9440\n",
      "Epoch 65/100\n",
      " - 1s - loss: 1.1530e-04 - acc: 1.0000 - val_loss: 0.3213 - val_acc: 0.9440\n",
      "Epoch 66/100\n",
      " - 1s - loss: 1.1166e-04 - acc: 1.0000 - val_loss: 0.3218 - val_acc: 0.9440\n",
      "Epoch 67/100\n",
      " - 1s - loss: 1.0806e-04 - acc: 1.0000 - val_loss: 0.3221 - val_acc: 0.9440\n",
      "Epoch 68/100\n",
      " - 1s - loss: 1.0488e-04 - acc: 1.0000 - val_loss: 0.3225 - val_acc: 0.9440\n",
      "Epoch 69/100\n",
      " - 1s - loss: 1.0165e-04 - acc: 1.0000 - val_loss: 0.3233 - val_acc: 0.9440\n",
      "Epoch 70/100\n",
      " - 1s - loss: 9.8498e-05 - acc: 1.0000 - val_loss: 0.3238 - val_acc: 0.9440\n",
      "Epoch 71/100\n",
      " - 1s - loss: 9.5736e-05 - acc: 1.0000 - val_loss: 0.3249 - val_acc: 0.9440\n",
      "Epoch 72/100\n",
      " - 1s - loss: 9.2776e-05 - acc: 1.0000 - val_loss: 0.3249 - val_acc: 0.9440\n",
      "Epoch 73/100\n",
      " - 1s - loss: 9.0132e-05 - acc: 1.0000 - val_loss: 0.3259 - val_acc: 0.9440\n",
      "Epoch 74/100\n",
      " - 1s - loss: 8.7479e-05 - acc: 1.0000 - val_loss: 0.3263 - val_acc: 0.9440\n",
      "Epoch 75/100\n",
      " - 1s - loss: 8.4967e-05 - acc: 1.0000 - val_loss: 0.3269 - val_acc: 0.9440\n",
      "Epoch 76/100\n",
      " - 1s - loss: 8.2507e-05 - acc: 1.0000 - val_loss: 0.3275 - val_acc: 0.9440\n",
      "Epoch 77/100\n",
      " - 1s - loss: 8.0401e-05 - acc: 1.0000 - val_loss: 0.3283 - val_acc: 0.9440\n",
      "Epoch 78/100\n",
      " - 1s - loss: 7.8271e-05 - acc: 1.0000 - val_loss: 0.3286 - val_acc: 0.9440\n",
      "Epoch 79/100\n",
      " - 1s - loss: 7.5825e-05 - acc: 1.0000 - val_loss: 0.3290 - val_acc: 0.9440\n",
      "Epoch 80/100\n",
      " - 1s - loss: 7.3862e-05 - acc: 1.0000 - val_loss: 0.3298 - val_acc: 0.9440\n",
      "Epoch 81/100\n",
      " - 1s - loss: 7.1894e-05 - acc: 1.0000 - val_loss: 0.3303 - val_acc: 0.9440\n",
      "Epoch 82/100\n",
      " - 1s - loss: 6.9956e-05 - acc: 1.0000 - val_loss: 0.3304 - val_acc: 0.9440\n",
      "Epoch 83/100\n",
      " - 1s - loss: 6.8047e-05 - acc: 1.0000 - val_loss: 0.3315 - val_acc: 0.9440\n",
      "Epoch 84/100\n",
      " - 1s - loss: 6.6276e-05 - acc: 1.0000 - val_loss: 0.3317 - val_acc: 0.9440\n",
      "Epoch 85/100\n",
      " - 1s - loss: 6.4557e-05 - acc: 1.0000 - val_loss: 0.3323 - val_acc: 0.9440\n",
      "Epoch 86/100\n",
      " - 1s - loss: 6.2884e-05 - acc: 1.0000 - val_loss: 0.3327 - val_acc: 0.9440\n",
      "Epoch 87/100\n",
      " - 1s - loss: 6.1284e-05 - acc: 1.0000 - val_loss: 0.3335 - val_acc: 0.9440\n",
      "Epoch 88/100\n",
      " - 1s - loss: 5.9693e-05 - acc: 1.0000 - val_loss: 0.3339 - val_acc: 0.9440\n",
      "Epoch 89/100\n",
      " - 1s - loss: 5.8250e-05 - acc: 1.0000 - val_loss: 0.3343 - val_acc: 0.9430\n",
      "Epoch 90/100\n",
      " - 1s - loss: 5.6820e-05 - acc: 1.0000 - val_loss: 0.3351 - val_acc: 0.9430\n",
      "Epoch 91/100\n",
      " - 1s - loss: 5.5553e-05 - acc: 1.0000 - val_loss: 0.3352 - val_acc: 0.9440\n",
      "Epoch 92/100\n",
      " - 1s - loss: 5.4070e-05 - acc: 1.0000 - val_loss: 0.3363 - val_acc: 0.9430\n",
      "Epoch 93/100\n",
      " - 1s - loss: 5.2682e-05 - acc: 1.0000 - val_loss: 0.3367 - val_acc: 0.9440\n"
     ]
    },
    {
     "name": "stdout",
     "output_type": "stream",
     "text": [
      "Epoch 94/100\n",
      " - 1s - loss: 5.1418e-05 - acc: 1.0000 - val_loss: 0.3371 - val_acc: 0.9430\n",
      "Epoch 95/100\n",
      " - 1s - loss: 5.0197e-05 - acc: 1.0000 - val_loss: 0.3376 - val_acc: 0.9440\n",
      "Epoch 96/100\n",
      " - 1s - loss: 4.8948e-05 - acc: 1.0000 - val_loss: 0.3380 - val_acc: 0.9430\n",
      "Epoch 97/100\n",
      " - 1s - loss: 4.7864e-05 - acc: 1.0000 - val_loss: 0.3385 - val_acc: 0.9430\n",
      "Epoch 98/100\n",
      " - 1s - loss: 4.6705e-05 - acc: 1.0000 - val_loss: 0.3388 - val_acc: 0.9430\n",
      "Epoch 99/100\n",
      " - 1s - loss: 4.5595e-05 - acc: 1.0000 - val_loss: 0.3393 - val_acc: 0.9440\n",
      "Epoch 100/100\n",
      " - 1s - loss: 4.4550e-05 - acc: 1.0000 - val_loss: 0.3403 - val_acc: 0.9440\n"
     ]
    }
   ],
   "source": [
    "history = model.fit(x_train, \n",
    "          convertToOneHot(y_train,10), \n",
    "          nb_epoch=100, \n",
    "          batch_size=128, \n",
    "          callbacks=[tensorboard],\n",
    "          validation_data=[x_test, convertToOneHot(y_test,10)], verbose=2)\n",
    "\n"
   ]
  },
  {
   "cell_type": "code",
   "execution_count": null,
   "metadata": {},
   "outputs": [],
   "source": []
  },
  {
   "cell_type": "code",
   "execution_count": null,
   "metadata": {},
   "outputs": [],
   "source": []
  }
 ],
 "metadata": {
  "kernelspec": {
   "display_name": "Python 3",
   "language": "python",
   "name": "python3"
  },
  "language_info": {
   "codemirror_mode": {
    "name": "ipython",
    "version": 3
   },
   "file_extension": ".py",
   "mimetype": "text/x-python",
   "name": "python",
   "nbconvert_exporter": "python",
   "pygments_lexer": "ipython3",
   "version": "3.5.2"
  }
 },
 "nbformat": 4,
 "nbformat_minor": 2
}
