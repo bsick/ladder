{
 "cells": [
  {
   "cell_type": "code",
   "execution_count": 1,
   "metadata": {},
   "outputs": [
    {
     "data": {
      "text/plain": [
       "'\\n# if working on laptop on local docker:\\nnvidia-docker run -p 4242:8888 -v ~/dl_cas/:/notebooks -p 6006:6006 -it oduerr/tf_docker:gpu_r\\n'"
      ]
     },
     "execution_count": 1,
     "metadata": {},
     "output_type": "execute_result"
    }
   ],
   "source": [
    "'''\n",
    "# if working on laptop on local docker:\n",
    "nvidia-docker run -p 4242:8888 -v ~/dl_cas/:/notebooks -p 6006:6006 -it oduerr/tf_docker:gpu_r\n",
    "'''"
   ]
  },
  {
   "cell_type": "markdown",
   "metadata": {},
   "source": [
    "## Imports"
   ]
  },
  {
   "cell_type": "code",
   "execution_count": 2,
   "metadata": {},
   "outputs": [],
   "source": [
    "# python module imports needed in customized functions:\n",
    "import numpy as np\n",
    "import tensorflow as tf\n",
    "import sys"
   ]
  },
  {
   "cell_type": "code",
   "execution_count": 3,
   "metadata": {},
   "outputs": [
    {
     "data": {
      "text/plain": [
       "'1.4.1'"
      ]
     },
     "execution_count": 3,
     "metadata": {},
     "output_type": "execute_result"
    }
   ],
   "source": [
    "tf.__version__"
   ]
  },
  {
   "cell_type": "code",
   "execution_count": 4,
   "metadata": {},
   "outputs": [],
   "source": [
    "%matplotlib inline\n",
    "import matplotlib.pyplot as plt\n",
    "import matplotlib.image as imgplot"
   ]
  },
  {
   "cell_type": "code",
   "execution_count": 5,
   "metadata": {},
   "outputs": [
    {
     "name": "stdout",
     "output_type": "stream",
     "text": [
      "Requirement already satisfied: keras in /usr/local/lib/python3.5/dist-packages\r\n",
      "Requirement already satisfied: numpy>=1.9.1 in /usr/local/lib/python3.5/dist-packages (from keras)\r\n",
      "Requirement already satisfied: six>=1.9.0 in /usr/local/lib/python3.5/dist-packages (from keras)\r\n",
      "Requirement already satisfied: scipy>=0.14 in /usr/local/lib/python3.5/dist-packages (from keras)\r\n",
      "Requirement already satisfied: pyyaml in /usr/local/lib/python3.5/dist-packages (from keras)\r\n"
     ]
    }
   ],
   "source": [
    "!pip install keras"
   ]
  },
  {
   "cell_type": "code",
   "execution_count": 6,
   "metadata": {},
   "outputs": [
    {
     "name": "stderr",
     "output_type": "stream",
     "text": [
      "Using TensorFlow backend.\n"
     ]
    }
   ],
   "source": [
    "import keras\n",
    "#from keras.datasets import mnist\n",
    "from keras.models import Sequential\n",
    "from keras.layers import Dense, Dropout, Activation, Flatten, Input\n",
    "#from keras.layers import Convolution2D, MaxPooling2D\n",
    "from keras.utils import np_utils\n",
    "from keras import backend as K\n",
    "from keras.layers.normalization import BatchNormalization"
   ]
  },
  {
   "cell_type": "code",
   "execution_count": 7,
   "metadata": {
    "scrolled": true
   },
   "outputs": [
    {
     "data": {
      "text/plain": [
       "('1.4.1',\n",
       " sys.version_info(major=3, minor=5, micro=2, releaselevel='final', serial=0))"
      ]
     },
     "execution_count": 7,
     "metadata": {},
     "output_type": "execute_result"
    }
   ],
   "source": [
    "\n",
    "import pandas as pd\n",
    "#tf.set_random_seed(1)\n",
    "#np.random.seed(1)\n",
    "import sys\n",
    "tf.__version__, sys.version_info\n",
    "\n"
   ]
  },
  {
   "cell_type": "markdown",
   "metadata": {},
   "source": [
    "# Data read-in "
   ]
  },
  {
   "cell_type": "markdown",
   "metadata": {},
   "source": [
    "### Load small external MNIST data set when for working local on windows"
   ]
  },
  {
   "cell_type": "code",
   "execution_count": 8,
   "metadata": {},
   "outputs": [
    {
     "name": "stdout",
     "output_type": "stream",
     "text": [
      "small data before split X.shape (4000, 784)\n",
      "small data before  y.shape (4000,)\n",
      "small data x_train.shape: (3000, 784)\n",
      "small data y_train.shape: (3000,)\n",
      "small data x_test.shape: (1000, 784)\n",
      "small data y_test.shape: (1000,)\n",
      "num_class: 10\n"
     ]
    }
   ],
   "source": [
    "\n",
    "# upload mnist_4000.pkl.gz which we have used in the DL course to home\n",
    "# To be compatible with python3 and python2\n",
    "try:\n",
    "    import cPickle as pickle\n",
    "except ImportError:\n",
    "    import pickle\n",
    "import gzip\n",
    "\n",
    "with gzip.open('./../mnist_4000.pkl.gz', 'rb') as f:\n",
    "    if sys.version_info.major > 2:\n",
    "        (X,y) = pickle.load(f, encoding='latin1')\n",
    "    else:\n",
    "        (X,y) = pickle.load(f)\n",
    "PIXELS = len(X[0,0,0,:])\n",
    "\n",
    "# if images are not flatten (like in mnist) we need first to flatten them\n",
    "# now flatten images for fc ladder\n",
    "\n",
    "X = X.reshape([4000, 784])\n",
    "#X = X/255 # is already normalized\n",
    "\n",
    "print(\"small data before split X.shape\", X.shape)\n",
    "print(\"small data before  y.shape\", y.shape) \n",
    "\n",
    "x_train = X[0:3000]\n",
    "y_train = y[0:3000]\n",
    "x_test = X[3000:4000]\n",
    "y_test = y[3000:4000]\n",
    "\n",
    "\n",
    "print(\"small data x_train.shape:\", x_train.shape)\n",
    "print(\"small data y_train.shape:\",y_train.shape)\n",
    "print(\"small data x_test.shape:\",x_test.shape)\n",
    "print(\"small data y_test.shape:\",y_test.shape)\n",
    "\n",
    "num_class= len(np.unique(y))\n",
    "print(\"num_class:\",num_class)\n",
    "\n"
   ]
  },
  {
   "cell_type": "markdown",
   "metadata": {
    "collapsed": true
   },
   "source": [
    "### Or load full MNIST dataset directly from internet"
   ]
  },
  {
   "cell_type": "code",
   "execution_count": 9,
   "metadata": {},
   "outputs": [
    {
     "data": {
      "text/plain": [
       "'\\nfrom keras.datasets import mnist\\n\\n(x_train, y_train), (x_test, y_test) = mnist.load_data()\\n\\n# if images are not flatten (like in mnist) we need first to flatten them\\n# now flatten images for fc ladder\\n\\nx_train = x_train.reshape(-1,784)\\nx_test = x_test.reshape(-1,784)\\n\\nprint(\"large data x_train.shape:\", x_train.shape)\\nprint(\"large data y_train.shape:\",y_train.shape)\\nprint(\"large data x_test.shape:\",x_test.shape)\\nprint(\"large data x_test.shape:\",y_test.shape)\\n'"
      ]
     },
     "execution_count": 9,
     "metadata": {},
     "output_type": "execute_result"
    }
   ],
   "source": [
    "'''\n",
    "from keras.datasets import mnist\n",
    "\n",
    "(x_train, y_train), (x_test, y_test) = mnist.load_data()\n",
    "\n",
    "# if images are not flatten (like in mnist) we need first to flatten them\n",
    "# now flatten images for fc ladder\n",
    "\n",
    "x_train = x_train.reshape(-1,784)\n",
    "x_test = x_test.reshape(-1,784)\n",
    "\n",
    "print(\"large data x_train.shape:\", x_train.shape)\n",
    "print(\"large data y_train.shape:\",y_train.shape)\n",
    "print(\"large data x_test.shape:\",x_test.shape)\n",
    "print(\"large data x_test.shape:\",y_test.shape)\n",
    "'''"
   ]
  },
  {
   "cell_type": "code",
   "execution_count": 10,
   "metadata": {},
   "outputs": [
    {
     "data": {
      "text/plain": [
       "(200, 784)"
      ]
     },
     "execution_count": 10,
     "metadata": {},
     "output_type": "execute_result"
    }
   ],
   "source": [
    "x_train[:200].shape"
   ]
  },
  {
   "cell_type": "code",
   "execution_count": 11,
   "metadata": {},
   "outputs": [
    {
     "data": {
      "text/plain": [
       "-0.0042952602"
      ]
     },
     "execution_count": 11,
     "metadata": {},
     "output_type": "execute_result"
    }
   ],
   "source": [
    "np.mean(x_train[:,200])"
   ]
  },
  {
   "cell_type": "code",
   "execution_count": 12,
   "metadata": {},
   "outputs": [
    {
     "data": {
      "text/plain": [
       "0.83271211"
      ]
     },
     "execution_count": 12,
     "metadata": {},
     "output_type": "execute_result"
    }
   ],
   "source": [
    "np.std(x_train[:,200])"
   ]
  },
  {
   "cell_type": "markdown",
   "metadata": {
    "collapsed": true
   },
   "source": [
    "# Lets construct a fc NN (784->500->50->10) without noise and unsupervised task to get a benchmark for the loss and accuracy"
   ]
  },
  {
   "cell_type": "code",
   "execution_count": 13,
   "metadata": {},
   "outputs": [],
   "source": [
    "### Relu \n",
    "name = 'relu'\n",
    "model = Sequential()\n",
    "\n",
    "model.add(Dense(500, batch_input_shape=(None, 784),\n",
    "                kernel_initializer='random_uniform',\n",
    "                bias_initializer='zeros'))\n",
    "model.add(keras.layers.normalization.BatchNormalization())\n",
    "model.add(Activation('relu'))\n",
    "\n",
    "model.add(Dense(50))\n",
    "model.add(keras.layers.normalization.BatchNormalization())\n",
    "model.add(Activation('relu'))\n",
    "\n",
    "model.add(Dense(10, activation='softmax'))\n",
    "model.compile(loss='categorical_crossentropy',\n",
    "              optimizer='Adam',\n",
    "              # optimizer='rmsprop',\n",
    "              metrics=['accuracy'])"
   ]
  },
  {
   "cell_type": "code",
   "execution_count": 14,
   "metadata": {},
   "outputs": [
    {
     "name": "stdout",
     "output_type": "stream",
     "text": [
      "_________________________________________________________________\n",
      "Layer (type)                 Output Shape              Param #   \n",
      "=================================================================\n",
      "dense_1 (Dense)              (None, 500)               392500    \n",
      "_________________________________________________________________\n",
      "batch_normalization_1 (Batch (None, 500)               2000      \n",
      "_________________________________________________________________\n",
      "activation_1 (Activation)    (None, 500)               0         \n",
      "_________________________________________________________________\n",
      "dense_2 (Dense)              (None, 50)                25050     \n",
      "_________________________________________________________________\n",
      "batch_normalization_2 (Batch (None, 50)                200       \n",
      "_________________________________________________________________\n",
      "activation_2 (Activation)    (None, 50)                0         \n",
      "_________________________________________________________________\n",
      "dense_3 (Dense)              (None, 10)                510       \n",
      "=================================================================\n",
      "Total params: 420,260\n",
      "Trainable params: 419,160\n",
      "Non-trainable params: 1,100\n",
      "_________________________________________________________________\n"
     ]
    }
   ],
   "source": [
    "model.summary()"
   ]
  },
  {
   "cell_type": "markdown",
   "metadata": {},
   "source": [
    "# Training"
   ]
  },
  {
   "cell_type": "code",
   "execution_count": 15,
   "metadata": {},
   "outputs": [],
   "source": [
    "def convertToOneHot(vector, num_classes=None):\n",
    "    result = np.zeros((len(vector), num_classes), dtype='int32')\n",
    "    result[np.arange(len(vector)), vector] = 1\n",
    "    return result"
   ]
  },
  {
   "cell_type": "code",
   "execution_count": 16,
   "metadata": {},
   "outputs": [],
   "source": [
    "tensorboard = keras.callbacks.TensorBoard(\n",
    "    log_dir='tensorboard/mnist_small/' + name + '/', \n",
    "    write_graph=True,\n",
    "    histogram_freq=1\n",
    ")"
   ]
  },
  {
   "cell_type": "code",
   "execution_count": 17,
   "metadata": {},
   "outputs": [
    {
     "name": "stderr",
     "output_type": "stream",
     "text": [
      "/usr/local/lib/python3.5/dist-packages/keras/models.py:939: UserWarning: The `nb_epoch` argument in `fit` has been renamed `epochs`.\n",
      "  warnings.warn('The `nb_epoch` argument in `fit` '\n"
     ]
    },
    {
     "name": "stdout",
     "output_type": "stream",
     "text": [
      "Train on 3000 samples, validate on 1000 samples\n",
      "Epoch 1/100\n",
      " - 2s - loss: 0.9742 - acc: 0.7400 - val_loss: 0.4937 - val_acc: 0.8690\n",
      "Epoch 2/100\n",
      " - 1s - loss: 0.3755 - acc: 0.9307 - val_loss: 0.3794 - val_acc: 0.8970\n",
      "Epoch 3/100\n",
      " - 1s - loss: 0.2321 - acc: 0.9637 - val_loss: 0.3423 - val_acc: 0.9060\n",
      "Epoch 4/100\n",
      " - 2s - loss: 0.1495 - acc: 0.9823 - val_loss: 0.3395 - val_acc: 0.9060\n",
      "Epoch 5/100\n",
      " - 2s - loss: 0.1043 - acc: 0.9890 - val_loss: 0.3253 - val_acc: 0.9150\n",
      "Epoch 6/100\n",
      " - 1s - loss: 0.0733 - acc: 0.9947 - val_loss: 0.3099 - val_acc: 0.9210\n",
      "Epoch 7/100\n",
      " - 2s - loss: 0.0505 - acc: 0.9980 - val_loss: 0.3008 - val_acc: 0.9280\n",
      "Epoch 8/100\n",
      " - 1s - loss: 0.0347 - acc: 0.9997 - val_loss: 0.2860 - val_acc: 0.9240\n",
      "Epoch 9/100\n",
      " - 2s - loss: 0.0260 - acc: 0.9993 - val_loss: 0.2731 - val_acc: 0.9250\n",
      "Epoch 10/100\n",
      " - 2s - loss: 0.0206 - acc: 1.0000 - val_loss: 0.2610 - val_acc: 0.9280\n",
      "Epoch 11/100\n",
      " - 2s - loss: 0.0173 - acc: 1.0000 - val_loss: 0.2505 - val_acc: 0.9340\n",
      "Epoch 12/100\n",
      " - 2s - loss: 0.0139 - acc: 1.0000 - val_loss: 0.2454 - val_acc: 0.9330\n",
      "Epoch 13/100\n",
      " - 1s - loss: 0.0113 - acc: 1.0000 - val_loss: 0.2390 - val_acc: 0.9310\n",
      "Epoch 14/100\n",
      " - 2s - loss: 0.0099 - acc: 1.0000 - val_loss: 0.2340 - val_acc: 0.9320\n",
      "Epoch 15/100\n",
      " - 1s - loss: 0.0085 - acc: 1.0000 - val_loss: 0.2314 - val_acc: 0.9350\n",
      "Epoch 16/100\n",
      " - 2s - loss: 0.0072 - acc: 1.0000 - val_loss: 0.2292 - val_acc: 0.9340\n",
      "Epoch 17/100\n",
      " - 2s - loss: 0.0064 - acc: 1.0000 - val_loss: 0.2246 - val_acc: 0.9330\n",
      "Epoch 18/100\n",
      " - 2s - loss: 0.0061 - acc: 1.0000 - val_loss: 0.2267 - val_acc: 0.9320\n",
      "Epoch 19/100\n",
      " - 2s - loss: 0.0052 - acc: 1.0000 - val_loss: 0.2270 - val_acc: 0.9290\n",
      "Epoch 20/100\n",
      " - 1s - loss: 0.0049 - acc: 1.0000 - val_loss: 0.2238 - val_acc: 0.9320\n",
      "Epoch 21/100\n",
      " - 2s - loss: 0.0044 - acc: 1.0000 - val_loss: 0.2223 - val_acc: 0.9300\n",
      "Epoch 22/100\n",
      " - 2s - loss: 0.0039 - acc: 1.0000 - val_loss: 0.2218 - val_acc: 0.9320\n",
      "Epoch 23/100\n",
      " - 2s - loss: 0.0039 - acc: 1.0000 - val_loss: 0.2250 - val_acc: 0.9290\n",
      "Epoch 24/100\n",
      " - 1s - loss: 0.0035 - acc: 1.0000 - val_loss: 0.2301 - val_acc: 0.9320\n",
      "Epoch 25/100\n",
      " - 2s - loss: 0.0030 - acc: 1.0000 - val_loss: 0.2236 - val_acc: 0.9340\n",
      "Epoch 26/100\n",
      " - 1s - loss: 0.0028 - acc: 1.0000 - val_loss: 0.2252 - val_acc: 0.9320\n",
      "Epoch 27/100\n",
      " - 1s - loss: 0.0029 - acc: 1.0000 - val_loss: 0.2265 - val_acc: 0.9300\n",
      "Epoch 28/100\n",
      " - 2s - loss: 0.0024 - acc: 1.0000 - val_loss: 0.2275 - val_acc: 0.9310\n",
      "Epoch 29/100\n",
      " - 2s - loss: 0.0023 - acc: 1.0000 - val_loss: 0.2264 - val_acc: 0.9310\n",
      "Epoch 30/100\n",
      " - 2s - loss: 0.0020 - acc: 1.0000 - val_loss: 0.2275 - val_acc: 0.9320\n",
      "Epoch 31/100\n",
      " - 2s - loss: 0.0019 - acc: 1.0000 - val_loss: 0.2277 - val_acc: 0.9320\n",
      "Epoch 32/100\n",
      " - 2s - loss: 0.0019 - acc: 1.0000 - val_loss: 0.2271 - val_acc: 0.9300\n",
      "Epoch 33/100\n",
      " - 2s - loss: 0.0019 - acc: 1.0000 - val_loss: 0.2257 - val_acc: 0.9320\n",
      "Epoch 34/100\n",
      " - 2s - loss: 0.0017 - acc: 1.0000 - val_loss: 0.2259 - val_acc: 0.9330\n",
      "Epoch 35/100\n",
      " - 2s - loss: 0.0016 - acc: 1.0000 - val_loss: 0.2296 - val_acc: 0.9310\n",
      "Epoch 36/100\n",
      " - 1s - loss: 0.0015 - acc: 1.0000 - val_loss: 0.2304 - val_acc: 0.9320\n",
      "Epoch 37/100\n",
      " - 2s - loss: 0.0015 - acc: 1.0000 - val_loss: 0.2289 - val_acc: 0.9320\n",
      "Epoch 38/100\n",
      " - 1s - loss: 0.0014 - acc: 1.0000 - val_loss: 0.2292 - val_acc: 0.9320\n",
      "Epoch 39/100\n",
      " - 2s - loss: 0.0013 - acc: 1.0000 - val_loss: 0.2291 - val_acc: 0.9310\n",
      "Epoch 40/100\n",
      " - 2s - loss: 0.0013 - acc: 1.0000 - val_loss: 0.2277 - val_acc: 0.9320\n",
      "Epoch 41/100\n",
      " - 2s - loss: 0.0012 - acc: 1.0000 - val_loss: 0.2281 - val_acc: 0.9340\n",
      "Epoch 42/100\n",
      " - 2s - loss: 0.0012 - acc: 1.0000 - val_loss: 0.2288 - val_acc: 0.9360\n",
      "Epoch 43/100\n",
      " - 2s - loss: 0.0010 - acc: 1.0000 - val_loss: 0.2297 - val_acc: 0.9340\n",
      "Epoch 44/100\n",
      " - 1s - loss: 0.0011 - acc: 1.0000 - val_loss: 0.2300 - val_acc: 0.9340\n",
      "Epoch 45/100\n",
      " - 2s - loss: 0.0010 - acc: 1.0000 - val_loss: 0.2341 - val_acc: 0.9330\n",
      "Epoch 46/100\n",
      " - 2s - loss: 0.0010 - acc: 1.0000 - val_loss: 0.2304 - val_acc: 0.9360\n",
      "Epoch 47/100\n",
      " - 2s - loss: 9.0853e-04 - acc: 1.0000 - val_loss: 0.2327 - val_acc: 0.9350\n",
      "Epoch 48/100\n",
      " - 2s - loss: 9.0140e-04 - acc: 1.0000 - val_loss: 0.2328 - val_acc: 0.9340\n",
      "Epoch 49/100\n",
      " - 1s - loss: 8.1058e-04 - acc: 1.0000 - val_loss: 0.2347 - val_acc: 0.9310\n",
      "Epoch 50/100\n",
      " - 1s - loss: 8.1297e-04 - acc: 1.0000 - val_loss: 0.2337 - val_acc: 0.9320\n",
      "Epoch 51/100\n",
      " - 1s - loss: 8.2718e-04 - acc: 1.0000 - val_loss: 0.2314 - val_acc: 0.9330\n",
      "Epoch 52/100\n",
      " - 1s - loss: 7.8736e-04 - acc: 1.0000 - val_loss: 0.2345 - val_acc: 0.9370\n",
      "Epoch 53/100\n",
      " - 1s - loss: 0.0037 - acc: 0.9990 - val_loss: 0.2823 - val_acc: 0.9320\n",
      "Epoch 54/100\n",
      " - 1s - loss: 0.0422 - acc: 0.9900 - val_loss: 0.4172 - val_acc: 0.9010\n",
      "Epoch 55/100\n",
      " - 2s - loss: 0.0671 - acc: 0.9807 - val_loss: 0.4624 - val_acc: 0.8880\n",
      "Epoch 56/100\n",
      " - 1s - loss: 0.0514 - acc: 0.9877 - val_loss: 0.4029 - val_acc: 0.9050\n",
      "Epoch 57/100\n",
      " - 1s - loss: 0.0306 - acc: 0.9940 - val_loss: 0.4033 - val_acc: 0.9030\n",
      "Epoch 58/100\n",
      " - 2s - loss: 0.0189 - acc: 0.9967 - val_loss: 0.3716 - val_acc: 0.9080\n",
      "Epoch 59/100\n",
      " - 2s - loss: 0.0098 - acc: 0.9990 - val_loss: 0.3469 - val_acc: 0.9120\n",
      "Epoch 60/100\n",
      " - 2s - loss: 0.0054 - acc: 0.9997 - val_loss: 0.3202 - val_acc: 0.9150\n",
      "Epoch 61/100\n",
      " - 2s - loss: 0.0039 - acc: 0.9997 - val_loss: 0.2775 - val_acc: 0.9230\n",
      "Epoch 62/100\n",
      " - 2s - loss: 0.0024 - acc: 1.0000 - val_loss: 0.2531 - val_acc: 0.9310\n",
      "Epoch 63/100\n",
      " - 1s - loss: 0.0019 - acc: 1.0000 - val_loss: 0.2445 - val_acc: 0.9330\n",
      "Epoch 64/100\n",
      " - 2s - loss: 0.0014 - acc: 1.0000 - val_loss: 0.2429 - val_acc: 0.9310\n",
      "Epoch 65/100\n",
      " - 1s - loss: 0.0014 - acc: 1.0000 - val_loss: 0.2387 - val_acc: 0.9320\n",
      "Epoch 66/100\n",
      " - 2s - loss: 0.0012 - acc: 1.0000 - val_loss: 0.2369 - val_acc: 0.9340\n",
      "Epoch 67/100\n",
      " - 2s - loss: 0.0013 - acc: 1.0000 - val_loss: 0.2356 - val_acc: 0.9330\n",
      "Epoch 68/100\n",
      " - 2s - loss: 0.0012 - acc: 1.0000 - val_loss: 0.2348 - val_acc: 0.9350\n",
      "Epoch 69/100\n",
      " - 2s - loss: 9.5959e-04 - acc: 1.0000 - val_loss: 0.2332 - val_acc: 0.9380\n",
      "Epoch 70/100\n",
      " - 1s - loss: 9.4121e-04 - acc: 1.0000 - val_loss: 0.2302 - val_acc: 0.9380\n",
      "Epoch 71/100\n",
      " - 1s - loss: 8.1683e-04 - acc: 1.0000 - val_loss: 0.2307 - val_acc: 0.9370\n",
      "Epoch 72/100\n",
      " - 2s - loss: 8.0326e-04 - acc: 1.0000 - val_loss: 0.2318 - val_acc: 0.9370\n",
      "Epoch 73/100\n",
      " - 1s - loss: 7.3270e-04 - acc: 1.0000 - val_loss: 0.2331 - val_acc: 0.9360\n",
      "Epoch 74/100\n",
      " - 1s - loss: 7.6676e-04 - acc: 1.0000 - val_loss: 0.2334 - val_acc: 0.9380\n",
      "Epoch 75/100\n",
      " - 2s - loss: 6.6738e-04 - acc: 1.0000 - val_loss: 0.2322 - val_acc: 0.9390\n",
      "Epoch 76/100\n",
      " - 2s - loss: 6.4974e-04 - acc: 1.0000 - val_loss: 0.2320 - val_acc: 0.9360\n",
      "Epoch 77/100\n",
      " - 2s - loss: 6.2902e-04 - acc: 1.0000 - val_loss: 0.2360 - val_acc: 0.9360\n",
      "Epoch 78/100\n",
      " - 2s - loss: 5.4591e-04 - acc: 1.0000 - val_loss: 0.2353 - val_acc: 0.9360\n",
      "Epoch 79/100\n",
      " - 1s - loss: 5.9259e-04 - acc: 1.0000 - val_loss: 0.2345 - val_acc: 0.9340\n",
      "Epoch 80/100\n",
      " - 1s - loss: 5.1431e-04 - acc: 1.0000 - val_loss: 0.2359 - val_acc: 0.9340\n",
      "Epoch 81/100\n",
      " - 2s - loss: 5.4964e-04 - acc: 1.0000 - val_loss: 0.2362 - val_acc: 0.9340\n",
      "Epoch 82/100\n",
      " - 1s - loss: 4.5810e-04 - acc: 1.0000 - val_loss: 0.2369 - val_acc: 0.9340\n",
      "Epoch 83/100\n",
      " - 1s - loss: 4.7405e-04 - acc: 1.0000 - val_loss: 0.2370 - val_acc: 0.9340\n",
      "Epoch 84/100\n",
      " - 2s - loss: 4.0796e-04 - acc: 1.0000 - val_loss: 0.2370 - val_acc: 0.9340\n",
      "Epoch 85/100\n",
      " - 1s - loss: 4.9084e-04 - acc: 1.0000 - val_loss: 0.2369 - val_acc: 0.9340\n",
      "Epoch 86/100\n",
      " - 2s - loss: 4.4575e-04 - acc: 1.0000 - val_loss: 0.2369 - val_acc: 0.9330\n",
      "Epoch 87/100\n",
      " - 1s - loss: 3.8792e-04 - acc: 1.0000 - val_loss: 0.2361 - val_acc: 0.9350\n",
      "Epoch 88/100\n",
      " - 2s - loss: 3.7499e-04 - acc: 1.0000 - val_loss: 0.2356 - val_acc: 0.9360\n",
      "Epoch 89/100\n",
      " - 2s - loss: 3.5474e-04 - acc: 1.0000 - val_loss: 0.2362 - val_acc: 0.9360\n",
      "Epoch 90/100\n",
      " - 1s - loss: 3.6973e-04 - acc: 1.0000 - val_loss: 0.2365 - val_acc: 0.9350\n",
      "Epoch 91/100\n",
      " - 1s - loss: 3.1331e-04 - acc: 1.0000 - val_loss: 0.2367 - val_acc: 0.9360\n",
      "Epoch 92/100\n",
      " - 2s - loss: 3.3409e-04 - acc: 1.0000 - val_loss: 0.2369 - val_acc: 0.9350\n",
      "Epoch 93/100\n",
      " - 2s - loss: 3.0226e-04 - acc: 1.0000 - val_loss: 0.2376 - val_acc: 0.9350\n",
      "Epoch 94/100\n",
      " - 1s - loss: 3.4093e-04 - acc: 1.0000 - val_loss: 0.2379 - val_acc: 0.9340\n",
      "Epoch 95/100\n",
      " - 2s - loss: 3.2008e-04 - acc: 1.0000 - val_loss: 0.2396 - val_acc: 0.9340\n"
     ]
    },
    {
     "name": "stdout",
     "output_type": "stream",
     "text": [
      "Epoch 96/100\n",
      " - 2s - loss: 2.7998e-04 - acc: 1.0000 - val_loss: 0.2395 - val_acc: 0.9350\n",
      "Epoch 97/100\n",
      " - 2s - loss: 2.6548e-04 - acc: 1.0000 - val_loss: 0.2403 - val_acc: 0.9340\n",
      "Epoch 98/100\n",
      " - 2s - loss: 2.7714e-04 - acc: 1.0000 - val_loss: 0.2407 - val_acc: 0.9340\n",
      "Epoch 99/100\n",
      " - 2s - loss: 2.4113e-04 - acc: 1.0000 - val_loss: 0.2407 - val_acc: 0.9350\n",
      "Epoch 100/100\n",
      " - 1s - loss: 2.5944e-04 - acc: 1.0000 - val_loss: 0.2414 - val_acc: 0.9350\n"
     ]
    }
   ],
   "source": [
    "history = model.fit(x_train, \n",
    "          convertToOneHot(y_train,10), \n",
    "          nb_epoch=100, \n",
    "          batch_size=128, \n",
    "          callbacks=[tensorboard],\n",
    "          validation_data=[x_test, convertToOneHot(y_test,10)], verbose=2)\n",
    "\n"
   ]
  },
  {
   "cell_type": "code",
   "execution_count": null,
   "metadata": {},
   "outputs": [],
   "source": []
  },
  {
   "cell_type": "code",
   "execution_count": null,
   "metadata": {},
   "outputs": [],
   "source": []
  }
 ],
 "metadata": {
  "kernelspec": {
   "display_name": "Python 3",
   "language": "python",
   "name": "python3"
  },
  "language_info": {
   "codemirror_mode": {
    "name": "ipython",
    "version": 3
   },
   "file_extension": ".py",
   "mimetype": "text/x-python",
   "name": "python",
   "nbconvert_exporter": "python",
   "pygments_lexer": "ipython3",
   "version": "3.5.2"
  }
 },
 "nbformat": 4,
 "nbformat_minor": 2
}
