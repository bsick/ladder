{
 "cells": [
  {
   "cell_type": "code",
   "execution_count": null,
   "metadata": {},
   "outputs": [],
   "source": [
    "'''\n",
    "# if working on laptop on local docker:\n",
    "nvidia-docker run -p 4242:8888 -v ~/dl_cas/:/notebooks -p 6006:6006 -it oduerr/tf_docker:gpu_r\n",
    "'''"
   ]
  },
  {
   "cell_type": "markdown",
   "metadata": {},
   "source": [
    "## Imports"
   ]
  },
  {
   "cell_type": "code",
   "execution_count": 1,
   "metadata": {},
   "outputs": [],
   "source": [
    "# python module imports needed in customized functions:\n",
    "import numpy as np\n",
    "import tensorflow as tf\n",
    "import sys"
   ]
  },
  {
   "cell_type": "code",
   "execution_count": 2,
   "metadata": {},
   "outputs": [
    {
     "data": {
      "text/plain": [
       "'1.4.1'"
      ]
     },
     "execution_count": 2,
     "metadata": {},
     "output_type": "execute_result"
    }
   ],
   "source": [
    "tf.__version__"
   ]
  },
  {
   "cell_type": "code",
   "execution_count": 3,
   "metadata": {},
   "outputs": [],
   "source": [
    "%matplotlib inline\n",
    "import matplotlib.pyplot as plt\n",
    "import matplotlib.image as imgplot"
   ]
  },
  {
   "cell_type": "code",
   "execution_count": null,
   "metadata": {},
   "outputs": [],
   "source": [
    "'''\n",
    "\n",
    "# in case of tf1.4 keras is integrated into tf (seems not to work properly)\n",
    "from tensorflow.python.keras.models import Sequential\n",
    "from tensorflow.python.keras.layers import Dense, Dropout, Activation, Flatten, Input, BatchNormalization\n",
    "from tensorflow.python.keras import backend as K\n",
    "\n",
    "from tensorflow.python.keras.callbacks import TensorBoard\n",
    "\n",
    "'''\n"
   ]
  },
  {
   "cell_type": "code",
   "execution_count": 4,
   "metadata": {},
   "outputs": [
    {
     "name": "stdout",
     "output_type": "stream",
     "text": [
      "Requirement already satisfied: keras in /usr/local/lib/python3.5/dist-packages\n",
      "Requirement already satisfied: pyyaml in /usr/local/lib/python3.5/dist-packages (from keras)\n",
      "Requirement already satisfied: scipy>=0.14 in /usr/local/lib/python3.5/dist-packages (from keras)\n",
      "Requirement already satisfied: numpy>=1.9.1 in /usr/local/lib/python3.5/dist-packages (from keras)\n",
      "Requirement already satisfied: six>=1.9.0 in /usr/local/lib/python3.5/dist-packages (from keras)\n"
     ]
    }
   ],
   "source": [
    "# install external keras (outside tensorflow)\n",
    "!pip install keras"
   ]
  },
  {
   "cell_type": "code",
   "execution_count": 6,
   "metadata": {},
   "outputs": [],
   "source": [
    "# use external keras (outside tensorflow)\n",
    "import keras\n",
    "#from keras.datasets import mnist\n",
    "from keras.models import Sequential\n",
    "from keras.layers import Dense, Dropout, Activation, Flatten, Input\n",
    "#from keras.layers import Convolution2D, MaxPooling2D\n",
    "from keras.utils import np_utils\n",
    "from keras import backend as K\n",
    "from keras.layers.normalization import BatchNormalization"
   ]
  },
  {
   "cell_type": "markdown",
   "metadata": {},
   "source": [
    "# Data read-in "
   ]
  },
  {
   "cell_type": "markdown",
   "metadata": {},
   "source": [
    "### Load small external MNIST data set when for working local on windows"
   ]
  },
  {
   "cell_type": "code",
   "execution_count": 7,
   "metadata": {},
   "outputs": [
    {
     "name": "stdout",
     "output_type": "stream",
     "text": [
      "small data before split X.shape (4000, 784)\n",
      "small data before  y.shape (4000,)\n",
      "small data x_train.shape: (3000, 784)\n",
      "small data y_train.shape: (3000,)\n",
      "small data x_test.shape: (1000, 784)\n",
      "small data y_test.shape: (1000,)\n",
      "num_class: 10\n"
     ]
    }
   ],
   "source": [
    "\n",
    "# upload mnist_4000.pkl.gz which we have used in the DL course to home\n",
    "# To be compatible with python3 and python2\n",
    "try:\n",
    "    import cPickle as pickle\n",
    "except ImportError:\n",
    "    import pickle\n",
    "import gzip\n",
    "\n",
    "with gzip.open('./../mnist_4000.pkl.gz', 'rb') as f:\n",
    "    if sys.version_info.major > 2:\n",
    "        (X,y) = pickle.load(f, encoding='latin1')\n",
    "    else:\n",
    "        (X,y) = pickle.load(f)\n",
    "PIXELS = len(X[0,0,0,:])\n",
    "\n",
    "# if images are not flatten (like in mnist) we need first to flatten them\n",
    "# now flatten images for fc ladder\n",
    "\n",
    "X = X.reshape([4000, 784])\n",
    "#X = X/255 # is already normalized\n",
    "\n",
    "print(\"small data before split X.shape\", X.shape)\n",
    "print(\"small data before  y.shape\", y.shape) \n",
    "\n",
    "x_train = X[0:3000]\n",
    "y_train = y[0:3000]\n",
    "x_test = X[3000:4000]\n",
    "y_test = y[3000:4000]\n",
    "\n",
    "\n",
    "print(\"small data x_train.shape:\", x_train.shape)\n",
    "print(\"small data y_train.shape:\",y_train.shape)\n",
    "print(\"small data x_test.shape:\",x_test.shape)\n",
    "print(\"small data y_test.shape:\",y_test.shape)\n",
    "\n",
    "num_class= len(np.unique(y))\n",
    "print(\"num_class:\",num_class)\n",
    "\n"
   ]
  },
  {
   "cell_type": "markdown",
   "metadata": {
    "collapsed": true
   },
   "source": [
    "### Or load full MNIST dataset directly from internet"
   ]
  },
  {
   "cell_type": "code",
   "execution_count": 8,
   "metadata": {},
   "outputs": [
    {
     "data": {
      "text/plain": [
       "'\\nfrom keras.datasets import mnist\\n\\n(x_train, y_train), (x_test, y_test) = mnist.load_data()\\n\\n# if images are not flatten (like in mnist) we need first to flatten them\\n# now flatten images for fc ladder\\n\\nx_train = x_train.reshape(-1,784)\\nx_test = x_test.reshape(-1,784)\\n\\nprint(\"large data x_train.shape:\", x_train.shape)\\nprint(\"large data y_train.shape:\",y_train.shape)\\nprint(\"large data x_test.shape:\",x_test.shape)\\nprint(\"large data x_test.shape:\",y_test.shape)\\n'"
      ]
     },
     "execution_count": 8,
     "metadata": {},
     "output_type": "execute_result"
    }
   ],
   "source": [
    "'''\n",
    "from keras.datasets import mnist\n",
    "\n",
    "(x_train, y_train), (x_test, y_test) = mnist.load_data()\n",
    "\n",
    "# if images are not flatten (like in mnist) we need first to flatten them\n",
    "# now flatten images for fc ladder\n",
    "\n",
    "x_train = x_train.reshape(-1,784)\n",
    "x_test = x_test.reshape(-1,784)\n",
    "\n",
    "print(\"large data x_train.shape:\", x_train.shape)\n",
    "print(\"large data y_train.shape:\",y_train.shape)\n",
    "print(\"large data x_test.shape:\",x_test.shape)\n",
    "print(\"large data x_test.shape:\",y_test.shape)\n",
    "'''"
   ]
  },
  {
   "cell_type": "code",
   "execution_count": 9,
   "metadata": {},
   "outputs": [
    {
     "data": {
      "text/plain": [
       "(200, 784)"
      ]
     },
     "execution_count": 9,
     "metadata": {},
     "output_type": "execute_result"
    }
   ],
   "source": [
    "x_train[:200].shape"
   ]
  },
  {
   "cell_type": "code",
   "execution_count": 10,
   "metadata": {},
   "outputs": [
    {
     "data": {
      "text/plain": [
       "-0.0042952602"
      ]
     },
     "execution_count": 10,
     "metadata": {},
     "output_type": "execute_result"
    }
   ],
   "source": [
    "np.mean(x_train[:,200])"
   ]
  },
  {
   "cell_type": "code",
   "execution_count": 11,
   "metadata": {},
   "outputs": [
    {
     "data": {
      "text/plain": [
       "0.83271211"
      ]
     },
     "execution_count": 11,
     "metadata": {},
     "output_type": "execute_result"
    }
   ],
   "source": [
    "np.std(x_train[:,200])"
   ]
  },
  {
   "cell_type": "markdown",
   "metadata": {
    "collapsed": true
   },
   "source": [
    "# Lets construct a fc NN (784->500->50->10) without noise and unsupervised task to get a benchmark for the loss and accuracy"
   ]
  },
  {
   "cell_type": "code",
   "execution_count": 14,
   "metadata": {},
   "outputs": [],
   "source": [
    "### Relu \n",
    "name = 'relu'\n",
    "model = Sequential()\n",
    "\n",
    "model.add(Dense(500, batch_input_shape=(None, 784),\n",
    "                kernel_initializer='random_uniform',\n",
    "                bias_initializer='zeros'))\n",
    "model.add(keras.layers.normalization.BatchNormalization())\n",
    "model.add(Activation('relu'))\n",
    "\n",
    "model.add(Dense(50))\n",
    "model.add(keras.layers.normalization.BatchNormalization())\n",
    "model.add(Activation('relu'))\n",
    "\n",
    "model.add(Dense(10, activation='softmax'))\n",
    "model.compile(loss='categorical_crossentropy',\n",
    "              optimizer='adam',\n",
    "              # optimizer='rmsprop',\n",
    "              metrics=['accuracy'])"
   ]
  },
  {
   "cell_type": "code",
   "execution_count": 15,
   "metadata": {},
   "outputs": [
    {
     "name": "stdout",
     "output_type": "stream",
     "text": [
      "_________________________________________________________________\n",
      "Layer (type)                 Output Shape              Param #   \n",
      "=================================================================\n",
      "dense_4 (Dense)              (None, 500)               392500    \n",
      "_________________________________________________________________\n",
      "batch_normalization_3 (Batch (None, 500)               2000      \n",
      "_________________________________________________________________\n",
      "activation_3 (Activation)    (None, 500)               0         \n",
      "_________________________________________________________________\n",
      "dense_5 (Dense)              (None, 50)                25050     \n",
      "_________________________________________________________________\n",
      "batch_normalization_4 (Batch (None, 50)                200       \n",
      "_________________________________________________________________\n",
      "activation_4 (Activation)    (None, 50)                0         \n",
      "_________________________________________________________________\n",
      "dense_6 (Dense)              (None, 10)                510       \n",
      "=================================================================\n",
      "Total params: 420,260\n",
      "Trainable params: 419,160\n",
      "Non-trainable params: 1,100\n",
      "_________________________________________________________________\n"
     ]
    }
   ],
   "source": [
    "model.summary()"
   ]
  },
  {
   "cell_type": "markdown",
   "metadata": {},
   "source": [
    "# Training"
   ]
  },
  {
   "cell_type": "code",
   "execution_count": 16,
   "metadata": {},
   "outputs": [],
   "source": [
    "def convertToOneHot(vector, num_classes=None):\n",
    "    result = np.zeros((len(vector), num_classes), dtype='int32')\n",
    "    result[np.arange(len(vector)), vector] = 1\n",
    "    return result"
   ]
  },
  {
   "cell_type": "code",
   "execution_count": 17,
   "metadata": {},
   "outputs": [],
   "source": [
    "tensorboard = keras.callbacks.TensorBoard(\n",
    "    log_dir='tensorboard/mnist_small/' + name + '/', \n",
    "    write_graph=True,\n",
    "    histogram_freq=1\n",
    ")"
   ]
  },
  {
   "cell_type": "code",
   "execution_count": 18,
   "metadata": {},
   "outputs": [
    {
     "name": "stderr",
     "output_type": "stream",
     "text": [
      "/usr/local/lib/python3.5/dist-packages/keras/models.py:939: UserWarning: The `nb_epoch` argument in `fit` has been renamed `epochs`.\n",
      "  warnings.warn('The `nb_epoch` argument in `fit` '\n"
     ]
    },
    {
     "name": "stdout",
     "output_type": "stream",
     "text": [
      "Train on 3000 samples, validate on 1000 samples\n",
      "Epoch 1/100\n",
      " - 2s - loss: 0.9412 - acc: 0.7403 - val_loss: 0.4829 - val_acc: 0.8710\n",
      "Epoch 2/100\n",
      " - 1s - loss: 0.3712 - acc: 0.9297 - val_loss: 0.3639 - val_acc: 0.9050\n",
      "Epoch 3/100\n",
      " - 1s - loss: 0.2281 - acc: 0.9643 - val_loss: 0.3392 - val_acc: 0.9100\n",
      "Epoch 4/100\n",
      " - 2s - loss: 0.1491 - acc: 0.9803 - val_loss: 0.3265 - val_acc: 0.9200\n",
      "Epoch 5/100\n",
      " - 2s - loss: 0.0991 - acc: 0.9930 - val_loss: 0.3166 - val_acc: 0.9240\n",
      "Epoch 6/100\n",
      " - 1s - loss: 0.0691 - acc: 0.9967 - val_loss: 0.3045 - val_acc: 0.9240\n",
      "Epoch 7/100\n",
      " - 1s - loss: 0.0467 - acc: 0.9993 - val_loss: 0.2933 - val_acc: 0.9240\n",
      "Epoch 8/100\n",
      " - 1s - loss: 0.0331 - acc: 0.9997 - val_loss: 0.2723 - val_acc: 0.9340\n",
      "Epoch 9/100\n",
      " - 1s - loss: 0.0264 - acc: 1.0000 - val_loss: 0.2725 - val_acc: 0.9300\n",
      "Epoch 10/100\n",
      " - 1s - loss: 0.0205 - acc: 1.0000 - val_loss: 0.2503 - val_acc: 0.9340\n",
      "Epoch 11/100\n",
      " - 1s - loss: 0.0155 - acc: 1.0000 - val_loss: 0.2399 - val_acc: 0.9370\n",
      "Epoch 12/100\n",
      " - 1s - loss: 0.0128 - acc: 1.0000 - val_loss: 0.2363 - val_acc: 0.9370\n",
      "Epoch 13/100\n",
      " - 1s - loss: 0.0109 - acc: 1.0000 - val_loss: 0.2310 - val_acc: 0.9370\n",
      "Epoch 14/100\n",
      " - 2s - loss: 0.0089 - acc: 1.0000 - val_loss: 0.2260 - val_acc: 0.9370\n",
      "Epoch 15/100\n",
      " - 2s - loss: 0.0085 - acc: 1.0000 - val_loss: 0.2236 - val_acc: 0.9380\n",
      "Epoch 16/100\n",
      " - 2s - loss: 0.0076 - acc: 1.0000 - val_loss: 0.2209 - val_acc: 0.9370\n",
      "Epoch 17/100\n",
      " - 1s - loss: 0.0063 - acc: 1.0000 - val_loss: 0.2220 - val_acc: 0.9390\n",
      "Epoch 18/100\n",
      " - 1s - loss: 0.0061 - acc: 1.0000 - val_loss: 0.2146 - val_acc: 0.9390\n",
      "Epoch 19/100\n",
      " - 1s - loss: 0.0050 - acc: 1.0000 - val_loss: 0.2189 - val_acc: 0.9390\n",
      "Epoch 20/100\n",
      " - 1s - loss: 0.0046 - acc: 1.0000 - val_loss: 0.2143 - val_acc: 0.9420\n",
      "Epoch 21/100\n",
      " - 1s - loss: 0.0040 - acc: 1.0000 - val_loss: 0.2180 - val_acc: 0.9390\n",
      "Epoch 22/100\n",
      " - 2s - loss: 0.0037 - acc: 1.0000 - val_loss: 0.2173 - val_acc: 0.9400\n",
      "Epoch 23/100\n",
      " - 1s - loss: 0.0034 - acc: 1.0000 - val_loss: 0.2170 - val_acc: 0.9400\n",
      "Epoch 24/100\n",
      " - 1s - loss: 0.0033 - acc: 1.0000 - val_loss: 0.2176 - val_acc: 0.9380\n",
      "Epoch 25/100\n",
      " - 2s - loss: 0.0031 - acc: 1.0000 - val_loss: 0.2221 - val_acc: 0.9380\n",
      "Epoch 26/100\n",
      " - 1s - loss: 0.0026 - acc: 1.0000 - val_loss: 0.2181 - val_acc: 0.9380\n",
      "Epoch 27/100\n",
      " - 1s - loss: 0.0025 - acc: 1.0000 - val_loss: 0.2173 - val_acc: 0.9400\n",
      "Epoch 28/100\n",
      " - 1s - loss: 0.0022 - acc: 1.0000 - val_loss: 0.2166 - val_acc: 0.9390\n",
      "Epoch 29/100\n",
      " - 1s - loss: 0.0021 - acc: 1.0000 - val_loss: 0.2152 - val_acc: 0.9410\n",
      "Epoch 30/100\n",
      " - 2s - loss: 0.0021 - acc: 1.0000 - val_loss: 0.2160 - val_acc: 0.9390\n",
      "Epoch 31/100\n",
      " - 1s - loss: 0.0019 - acc: 1.0000 - val_loss: 0.2159 - val_acc: 0.9410\n",
      "Epoch 32/100\n",
      " - 1s - loss: 0.0017 - acc: 1.0000 - val_loss: 0.2143 - val_acc: 0.9430\n",
      "Epoch 33/100\n",
      " - 2s - loss: 0.0016 - acc: 1.0000 - val_loss: 0.2157 - val_acc: 0.9420\n",
      "Epoch 34/100\n",
      " - 1s - loss: 0.0015 - acc: 1.0000 - val_loss: 0.2153 - val_acc: 0.9420\n",
      "Epoch 35/100\n",
      " - 1s - loss: 0.0015 - acc: 1.0000 - val_loss: 0.2155 - val_acc: 0.9430\n",
      "Epoch 36/100\n",
      " - 2s - loss: 0.0014 - acc: 1.0000 - val_loss: 0.2148 - val_acc: 0.9410\n",
      "Epoch 37/100\n",
      " - 1s - loss: 0.0014 - acc: 1.0000 - val_loss: 0.2141 - val_acc: 0.9430\n",
      "Epoch 38/100\n",
      " - 2s - loss: 0.0013 - acc: 1.0000 - val_loss: 0.2155 - val_acc: 0.9440\n",
      "Epoch 39/100\n",
      " - 1s - loss: 0.0012 - acc: 1.0000 - val_loss: 0.2167 - val_acc: 0.9430\n",
      "Epoch 40/100\n",
      " - 2s - loss: 0.0012 - acc: 1.0000 - val_loss: 0.2164 - val_acc: 0.9410\n",
      "Epoch 41/100\n",
      " - 1s - loss: 0.0011 - acc: 1.0000 - val_loss: 0.2139 - val_acc: 0.9420\n",
      "Epoch 42/100\n",
      " - 1s - loss: 0.0010 - acc: 1.0000 - val_loss: 0.2168 - val_acc: 0.9400\n",
      "Epoch 43/100\n",
      " - 1s - loss: 0.0010 - acc: 1.0000 - val_loss: 0.2138 - val_acc: 0.9420\n",
      "Epoch 44/100\n",
      " - 2s - loss: 9.4624e-04 - acc: 1.0000 - val_loss: 0.2154 - val_acc: 0.9380\n",
      "Epoch 45/100\n",
      " - 1s - loss: 9.6360e-04 - acc: 1.0000 - val_loss: 0.2140 - val_acc: 0.9410\n",
      "Epoch 46/100\n",
      " - 1s - loss: 8.6652e-04 - acc: 1.0000 - val_loss: 0.2137 - val_acc: 0.9420\n",
      "Epoch 47/100\n",
      " - 2s - loss: 8.7313e-04 - acc: 1.0000 - val_loss: 0.2149 - val_acc: 0.9430\n",
      "Epoch 48/100\n",
      " - 1s - loss: 8.1590e-04 - acc: 1.0000 - val_loss: 0.2152 - val_acc: 0.9430\n",
      "Epoch 49/100\n",
      " - 1s - loss: 7.6654e-04 - acc: 1.0000 - val_loss: 0.2152 - val_acc: 0.9430\n",
      "Epoch 50/100\n",
      " - 1s - loss: 7.6452e-04 - acc: 1.0000 - val_loss: 0.2161 - val_acc: 0.9440\n",
      "Epoch 51/100\n",
      " - 1s - loss: 7.6301e-04 - acc: 1.0000 - val_loss: 0.2134 - val_acc: 0.9450\n",
      "Epoch 52/100\n",
      " - 1s - loss: 6.8753e-04 - acc: 1.0000 - val_loss: 0.2146 - val_acc: 0.9410\n",
      "Epoch 53/100\n",
      " - 1s - loss: 6.7410e-04 - acc: 1.0000 - val_loss: 0.2140 - val_acc: 0.9420\n",
      "Epoch 54/100\n",
      " - 1s - loss: 6.7638e-04 - acc: 1.0000 - val_loss: 0.2138 - val_acc: 0.9430\n",
      "Epoch 55/100\n",
      " - 1s - loss: 6.4038e-04 - acc: 1.0000 - val_loss: 0.2170 - val_acc: 0.9420\n",
      "Epoch 56/100\n",
      " - 1s - loss: 6.0829e-04 - acc: 1.0000 - val_loss: 0.2161 - val_acc: 0.9410\n",
      "Epoch 57/100\n",
      " - 1s - loss: 6.1636e-04 - acc: 1.0000 - val_loss: 0.2155 - val_acc: 0.9410\n",
      "Epoch 58/100\n",
      " - 1s - loss: 5.7210e-04 - acc: 1.0000 - val_loss: 0.2145 - val_acc: 0.9420\n",
      "Epoch 59/100\n",
      " - 2s - loss: 5.3673e-04 - acc: 1.0000 - val_loss: 0.2165 - val_acc: 0.9430\n",
      "Epoch 60/100\n",
      " - 1s - loss: 5.2477e-04 - acc: 1.0000 - val_loss: 0.2184 - val_acc: 0.9430\n",
      "Epoch 61/100\n",
      " - 2s - loss: 5.1916e-04 - acc: 1.0000 - val_loss: 0.2192 - val_acc: 0.9420\n",
      "Epoch 62/100\n",
      " - 1s - loss: 5.2198e-04 - acc: 1.0000 - val_loss: 0.2179 - val_acc: 0.9440\n",
      "Epoch 63/100\n",
      " - 1s - loss: 4.6676e-04 - acc: 1.0000 - val_loss: 0.2168 - val_acc: 0.9430\n",
      "Epoch 64/100\n",
      " - 1s - loss: 4.8254e-04 - acc: 1.0000 - val_loss: 0.2184 - val_acc: 0.9430\n",
      "Epoch 65/100\n",
      " - 1s - loss: 4.5533e-04 - acc: 1.0000 - val_loss: 0.2174 - val_acc: 0.9430\n",
      "Epoch 66/100\n",
      " - 1s - loss: 4.2785e-04 - acc: 1.0000 - val_loss: 0.2153 - val_acc: 0.9440\n",
      "Epoch 67/100\n",
      " - 2s - loss: 4.2445e-04 - acc: 1.0000 - val_loss: 0.2168 - val_acc: 0.9440\n",
      "Epoch 68/100\n",
      " - 2s - loss: 3.9115e-04 - acc: 1.0000 - val_loss: 0.2182 - val_acc: 0.9450\n",
      "Epoch 69/100\n",
      " - 2s - loss: 3.9273e-04 - acc: 1.0000 - val_loss: 0.2161 - val_acc: 0.9450\n",
      "Epoch 70/100\n",
      " - 1s - loss: 3.8511e-04 - acc: 1.0000 - val_loss: 0.2182 - val_acc: 0.9450\n",
      "Epoch 71/100\n",
      " - 1s - loss: 3.7358e-04 - acc: 1.0000 - val_loss: 0.2185 - val_acc: 0.9460\n",
      "Epoch 72/100\n",
      " - 1s - loss: 3.3465e-04 - acc: 1.0000 - val_loss: 0.2195 - val_acc: 0.9440\n",
      "Epoch 73/100\n",
      " - 1s - loss: 3.4723e-04 - acc: 1.0000 - val_loss: 0.2190 - val_acc: 0.9440\n",
      "Epoch 74/100\n",
      " - 1s - loss: 3.4682e-04 - acc: 1.0000 - val_loss: 0.2201 - val_acc: 0.9430\n",
      "Epoch 75/100\n",
      " - 1s - loss: 3.5630e-04 - acc: 1.0000 - val_loss: 0.2204 - val_acc: 0.9410\n",
      "Epoch 76/100\n",
      " - 1s - loss: 3.1418e-04 - acc: 1.0000 - val_loss: 0.2200 - val_acc: 0.9440\n",
      "Epoch 77/100\n",
      " - 1s - loss: 3.1507e-04 - acc: 1.0000 - val_loss: 0.2202 - val_acc: 0.9440\n",
      "Epoch 78/100\n",
      " - 1s - loss: 3.2546e-04 - acc: 1.0000 - val_loss: 0.2223 - val_acc: 0.9420\n",
      "Epoch 79/100\n",
      " - 2s - loss: 3.2132e-04 - acc: 1.0000 - val_loss: 0.2206 - val_acc: 0.9430\n",
      "Epoch 80/100\n",
      " - 2s - loss: 2.8840e-04 - acc: 1.0000 - val_loss: 0.2188 - val_acc: 0.9440\n",
      "Epoch 81/100\n",
      " - 1s - loss: 2.9280e-04 - acc: 1.0000 - val_loss: 0.2220 - val_acc: 0.9430\n",
      "Epoch 82/100\n",
      " - 2s - loss: 2.6856e-04 - acc: 1.0000 - val_loss: 0.2241 - val_acc: 0.9430\n",
      "Epoch 83/100\n",
      " - 2s - loss: 2.7335e-04 - acc: 1.0000 - val_loss: 0.2221 - val_acc: 0.9450\n",
      "Epoch 84/100\n",
      " - 1s - loss: 2.6578e-04 - acc: 1.0000 - val_loss: 0.2207 - val_acc: 0.9440\n",
      "Epoch 85/100\n",
      " - 2s - loss: 2.6955e-04 - acc: 1.0000 - val_loss: 0.2214 - val_acc: 0.9450\n",
      "Epoch 86/100\n",
      " - 1s - loss: 2.5728e-04 - acc: 1.0000 - val_loss: 0.2234 - val_acc: 0.9450\n",
      "Epoch 87/100\n",
      " - 1s - loss: 2.4366e-04 - acc: 1.0000 - val_loss: 0.2235 - val_acc: 0.9440\n",
      "Epoch 88/100\n",
      " - 1s - loss: 2.4379e-04 - acc: 1.0000 - val_loss: 0.2235 - val_acc: 0.9420\n",
      "Epoch 89/100\n",
      " - 1s - loss: 2.3215e-04 - acc: 1.0000 - val_loss: 0.2242 - val_acc: 0.9430\n",
      "Epoch 90/100\n",
      " - 1s - loss: 2.3259e-04 - acc: 1.0000 - val_loss: 0.2235 - val_acc: 0.9440\n",
      "Epoch 91/100\n",
      " - 1s - loss: 2.5058e-04 - acc: 1.0000 - val_loss: 0.2223 - val_acc: 0.9440\n",
      "Epoch 92/100\n",
      " - 1s - loss: 2.3050e-04 - acc: 1.0000 - val_loss: 0.2241 - val_acc: 0.9430\n",
      "Epoch 93/100\n",
      " - 2s - loss: 2.0221e-04 - acc: 1.0000 - val_loss: 0.2234 - val_acc: 0.9450\n",
      "Epoch 94/100\n",
      " - 1s - loss: 2.0032e-04 - acc: 1.0000 - val_loss: 0.2232 - val_acc: 0.9440\n"
     ]
    },
    {
     "name": "stdout",
     "output_type": "stream",
     "text": [
      "Epoch 95/100\n",
      " - 1s - loss: 2.0140e-04 - acc: 1.0000 - val_loss: 0.2235 - val_acc: 0.9450\n",
      "Epoch 96/100\n",
      " - 2s - loss: 1.9091e-04 - acc: 1.0000 - val_loss: 0.2245 - val_acc: 0.9410\n",
      "Epoch 97/100\n",
      " - 1s - loss: 2.0364e-04 - acc: 1.0000 - val_loss: 0.2236 - val_acc: 0.9430\n",
      "Epoch 98/100\n",
      " - 2s - loss: 1.9779e-04 - acc: 1.0000 - val_loss: 0.2243 - val_acc: 0.9420\n",
      "Epoch 99/100\n",
      " - 1s - loss: 1.8371e-04 - acc: 1.0000 - val_loss: 0.2241 - val_acc: 0.9430\n",
      "Epoch 100/100\n",
      " - 1s - loss: 1.8476e-04 - acc: 1.0000 - val_loss: 0.2251 - val_acc: 0.9440\n"
     ]
    }
   ],
   "source": [
    "history = model.fit(x_train, \n",
    "          convertToOneHot(y_train,10), \n",
    "          nb_epoch=100, \n",
    "          batch_size=128, \n",
    "          callbacks=[tensorboard],\n",
    "          validation_data=[x_test, convertToOneHot(y_test,10)], verbose=2)\n",
    "\n"
   ]
  },
  {
   "cell_type": "markdown",
   "metadata": {},
   "source": [
    "# tf1.4 and external keras on gpu is slower than external keras with tf 1.0 on cpu - why???"
   ]
  },
  {
   "cell_type": "code",
   "execution_count": null,
   "metadata": {},
   "outputs": [],
   "source": []
  }
 ],
 "metadata": {
  "kernelspec": {
   "display_name": "Python 3",
   "language": "python",
   "name": "python3"
  },
  "language_info": {
   "codemirror_mode": {
    "name": "ipython",
    "version": 3
   },
   "file_extension": ".py",
   "mimetype": "text/x-python",
   "name": "python",
   "nbconvert_exporter": "python",
   "pygments_lexer": "ipython3",
   "version": "3.5.2"
  }
 },
 "nbformat": 4,
 "nbformat_minor": 2
}
