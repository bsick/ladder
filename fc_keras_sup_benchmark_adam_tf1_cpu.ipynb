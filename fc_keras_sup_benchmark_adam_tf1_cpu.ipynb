{
 "cells": [
  {
   "cell_type": "code",
   "execution_count": 1,
   "metadata": {
    "collapsed": false,
    "deletable": true,
    "editable": true
   },
   "outputs": [
    {
     "data": {
      "text/plain": [
       "'\\n# if working on laptop on local docker:\\ndocker run -p 4242:8888 -v ~/dl_cas/:/notebooks -p 6006:6006 -it oduerr/tf_docker:tf1_py3\\n'"
      ]
     },
     "execution_count": 1,
     "metadata": {},
     "output_type": "execute_result"
    }
   ],
   "source": [
    "'''\n",
    "# if working on laptop on local docker:\n",
    "docker run -p 4242:8888 -v ~/dl_cas/:/notebooks -p 6006:6006 -it oduerr/tf_docker:tf1_py3\n",
    "'''"
   ]
  },
  {
   "cell_type": "markdown",
   "metadata": {
    "deletable": true,
    "editable": true
   },
   "source": [
    "## Imports"
   ]
  },
  {
   "cell_type": "raw",
   "metadata": {
    "collapsed": false,
    "deletable": true,
    "editable": true
   },
   "source": [
    "# python module imports needed in customized functions:\n",
    "import numpy as np\n",
    "import tensorflow as tf\n",
    "import sys\n",
    "\n",
    "from tensorflow.python.keras.models import Sequential\n",
    "from tensorflow.python.keras.layers import Dense, Dropout, Activation, Flatten, Input, BatchNormalization\n",
    "from tensorflow.python.keras import backend as K\n",
    "\n",
    "from tensorflow.python.keras.callbacks import TensorBoard\n"
   ]
  },
  {
   "cell_type": "code",
   "execution_count": 2,
   "metadata": {
    "collapsed": false,
    "deletable": true,
    "editable": true
   },
   "outputs": [],
   "source": [
    "#tf.__version__"
   ]
  },
  {
   "cell_type": "code",
   "execution_count": 3,
   "metadata": {
    "collapsed": false,
    "deletable": true,
    "editable": true,
    "scrolled": true
   },
   "outputs": [
    {
     "data": {
      "text/plain": [
       "('1.0.0',\n",
       " sys.version_info(major=3, minor=4, micro=3, releaselevel='final', serial=0))"
      ]
     },
     "execution_count": 3,
     "metadata": {},
     "output_type": "execute_result"
    }
   ],
   "source": [
    "# additional imports of python modules\n",
    "# python module imports needed in customized functions:\n",
    "import numpy as np\n",
    "import tensorflow as tf\n",
    "import sys\n",
    "\n",
    "%matplotlib inline\n",
    "import matplotlib.pyplot as plt\n",
    "import matplotlib.image as imgplot\n",
    "import time\n",
    "import pandas as pd\n",
    "#tf.set_random_seed(1)\n",
    "#np.random.seed(1)\n",
    "import sys\n",
    "tf.__version__, sys.version_info\n",
    "\n"
   ]
  },
  {
   "cell_type": "code",
   "execution_count": 4,
   "metadata": {
    "collapsed": false
   },
   "outputs": [
    {
     "name": "stderr",
     "output_type": "stream",
     "text": [
      "Using TensorFlow backend.\n"
     ]
    }
   ],
   "source": [
    "import keras\n",
    "#from keras.datasets import mnist\n",
    "from keras.models import Sequential\n",
    "from keras.layers import Dense, Dropout, Activation, Flatten, Input\n",
    "#from keras.layers import Convolution2D, MaxPooling2D\n",
    "from keras.utils import np_utils\n",
    "from keras import backend as K\n",
    "from keras.layers.normalization import BatchNormalization"
   ]
  },
  {
   "cell_type": "markdown",
   "metadata": {
    "deletable": true,
    "editable": true
   },
   "source": [
    "# Data read-in "
   ]
  },
  {
   "cell_type": "markdown",
   "metadata": {
    "deletable": true,
    "editable": true
   },
   "source": [
    "### Load small external MNIST data set when for working local on windows"
   ]
  },
  {
   "cell_type": "code",
   "execution_count": 5,
   "metadata": {
    "collapsed": false,
    "deletable": true,
    "editable": true
   },
   "outputs": [
    {
     "name": "stdout",
     "output_type": "stream",
     "text": [
      "small data before split X.shape (4000, 784)\n",
      "small data before  y.shape (4000,)\n",
      "small data x_train.shape: (3000, 784)\n",
      "small data y_train.shape: (3000,)\n",
      "small data x_test.shape: (1000, 784)\n",
      "small data y_test.shape: (1000,)\n",
      "num_class: 10\n"
     ]
    }
   ],
   "source": [
    "\n",
    "# upload mnist_4000.pkl.gz which we have used in the DL course to home\n",
    "# To be compatible with python3 and python2\n",
    "try:\n",
    "    import cPickle as pickle\n",
    "except ImportError:\n",
    "    import pickle\n",
    "import gzip\n",
    "\n",
    "with gzip.open('mnist_4000.pkl.gz', 'rb') as f:\n",
    "    if sys.version_info.major > 2:\n",
    "        (X,y) = pickle.load(f, encoding='latin1')\n",
    "    else:\n",
    "        (X,y) = pickle.load(f)\n",
    "PIXELS = len(X[0,0,0,:])\n",
    "\n",
    "# if images are not flatten (like in mnist) we need first to flatten them\n",
    "# now flatten images for fc ladder\n",
    "\n",
    "X = X.reshape([4000, 784])\n",
    "#X = X/255 # is already normalized\n",
    "\n",
    "print(\"small data before split X.shape\", X.shape)\n",
    "print(\"small data before  y.shape\", y.shape) \n",
    "\n",
    "x_train = X[0:3000]\n",
    "y_train = y[0:3000]\n",
    "x_test = X[3000:4000]\n",
    "y_test = y[3000:4000]\n",
    "\n",
    "\n",
    "print(\"small data x_train.shape:\", x_train.shape)\n",
    "print(\"small data y_train.shape:\",y_train.shape)\n",
    "print(\"small data x_test.shape:\",x_test.shape)\n",
    "print(\"small data y_test.shape:\",y_test.shape)\n",
    "\n",
    "num_class= len(np.unique(y))\n",
    "print(\"num_class:\",num_class)\n",
    "\n"
   ]
  },
  {
   "cell_type": "markdown",
   "metadata": {
    "collapsed": true,
    "deletable": true,
    "editable": true
   },
   "source": [
    "### Or load full MNIST dataset directly from internet"
   ]
  },
  {
   "cell_type": "code",
   "execution_count": 6,
   "metadata": {
    "collapsed": false,
    "deletable": true,
    "editable": true
   },
   "outputs": [
    {
     "data": {
      "text/plain": [
       "'\\nfrom keras.datasets import mnist\\n\\n(x_train, y_train), (x_test, y_test) = mnist.load_data()\\n\\n# if images are not flatten (like in mnist) we need first to flatten them\\n# now flatten images for fc ladder\\n\\nx_train = x_train.reshape(-1,784)\\nx_test = x_test.reshape(-1,784)\\n\\nprint(\"large data x_train.shape:\", x_train.shape)\\nprint(\"large data y_train.shape:\",y_train.shape)\\nprint(\"large data x_test.shape:\",x_test.shape)\\nprint(\"large data x_test.shape:\",y_test.shape)\\n'"
      ]
     },
     "execution_count": 6,
     "metadata": {},
     "output_type": "execute_result"
    }
   ],
   "source": [
    "'''\n",
    "from keras.datasets import mnist\n",
    "\n",
    "(x_train, y_train), (x_test, y_test) = mnist.load_data()\n",
    "\n",
    "# if images are not flatten (like in mnist) we need first to flatten them\n",
    "# now flatten images for fc ladder\n",
    "\n",
    "x_train = x_train.reshape(-1,784)\n",
    "x_test = x_test.reshape(-1,784)\n",
    "\n",
    "print(\"large data x_train.shape:\", x_train.shape)\n",
    "print(\"large data y_train.shape:\",y_train.shape)\n",
    "print(\"large data x_test.shape:\",x_test.shape)\n",
    "print(\"large data x_test.shape:\",y_test.shape)\n",
    "'''"
   ]
  },
  {
   "cell_type": "code",
   "execution_count": 7,
   "metadata": {
    "collapsed": false,
    "deletable": true,
    "editable": true
   },
   "outputs": [
    {
     "data": {
      "text/plain": [
       "(200, 784)"
      ]
     },
     "execution_count": 7,
     "metadata": {},
     "output_type": "execute_result"
    }
   ],
   "source": [
    "x_train[:200].shape"
   ]
  },
  {
   "cell_type": "code",
   "execution_count": 8,
   "metadata": {
    "collapsed": false,
    "deletable": true,
    "editable": true
   },
   "outputs": [
    {
     "data": {
      "text/plain": [
       "-0.0042952602"
      ]
     },
     "execution_count": 8,
     "metadata": {},
     "output_type": "execute_result"
    }
   ],
   "source": [
    "np.mean(x_train[:,200])"
   ]
  },
  {
   "cell_type": "code",
   "execution_count": 9,
   "metadata": {
    "collapsed": false,
    "deletable": true,
    "editable": true
   },
   "outputs": [
    {
     "data": {
      "text/plain": [
       "0.83271211"
      ]
     },
     "execution_count": 9,
     "metadata": {},
     "output_type": "execute_result"
    }
   ],
   "source": [
    "np.std(x_train[:,200])"
   ]
  },
  {
   "cell_type": "markdown",
   "metadata": {
    "collapsed": true,
    "deletable": true,
    "editable": true
   },
   "source": [
    "# Lets construct a fc NN (784->500->50->10) without noise and unsupervised task to get a benchmark for the loss and accuracy"
   ]
  },
  {
   "cell_type": "code",
   "execution_count": 10,
   "metadata": {
    "collapsed": false,
    "deletable": true,
    "editable": true
   },
   "outputs": [],
   "source": [
    "### Relu \n",
    "name = 'relu'\n",
    "model = Sequential()\n",
    "\n",
    "model.add(Dense(500, batch_input_shape=(None, 784),\n",
    "                kernel_initializer='random_uniform',\n",
    "                bias_initializer='zeros'))\n",
    "#model.add(keras.layers.normalization.BatchNormalization())\n",
    "model.add(Activation('relu'))\n",
    "\n",
    "model.add(Dense(50))\n",
    "#model.add(keras.layers.normalization.BatchNormalization())\n",
    "model.add(Activation('relu'))\n",
    "\n",
    "model.add(Dense(10, activation='softmax'))\n",
    "model.compile(loss='categorical_crossentropy',\n",
    "              # optimizer='Adam',\n",
    "              optimizer='rmsprop',\n",
    "              metrics=['accuracy'])"
   ]
  },
  {
   "cell_type": "code",
   "execution_count": 11,
   "metadata": {
    "collapsed": false,
    "deletable": true,
    "editable": true
   },
   "outputs": [
    {
     "name": "stdout",
     "output_type": "stream",
     "text": [
      "_________________________________________________________________\n",
      "Layer (type)                 Output Shape              Param #   \n",
      "=================================================================\n",
      "dense_1 (Dense)              (None, 500)               392500    \n",
      "_________________________________________________________________\n",
      "activation_1 (Activation)    (None, 500)               0         \n",
      "_________________________________________________________________\n",
      "dense_2 (Dense)              (None, 50)                25050     \n",
      "_________________________________________________________________\n",
      "activation_2 (Activation)    (None, 50)                0         \n",
      "_________________________________________________________________\n",
      "dense_3 (Dense)              (None, 10)                510       \n",
      "=================================================================\n",
      "Total params: 418,060.0\n",
      "Trainable params: 418,060.0\n",
      "Non-trainable params: 0.0\n",
      "_________________________________________________________________\n"
     ]
    }
   ],
   "source": [
    "model.summary()"
   ]
  },
  {
   "cell_type": "markdown",
   "metadata": {
    "collapsed": false,
    "deletable": true,
    "editable": true
   },
   "source": [
    "# Training"
   ]
  },
  {
   "cell_type": "code",
   "execution_count": 12,
   "metadata": {
    "collapsed": true,
    "deletable": true,
    "editable": true
   },
   "outputs": [],
   "source": [
    "def convertToOneHot(vector, num_classes=None):\n",
    "    result = np.zeros((len(vector), num_classes), dtype='int32')\n",
    "    result[np.arange(len(vector)), vector] = 1\n",
    "    return result"
   ]
  },
  {
   "cell_type": "code",
   "execution_count": 13,
   "metadata": {
    "collapsed": true,
    "deletable": true,
    "editable": true
   },
   "outputs": [],
   "source": [
    "tensorboard = keras.callbacks.TensorBoard(\n",
    "    log_dir='tensorboard/mnist_small/' + name + '/', \n",
    "    write_graph=True,\n",
    "    histogram_freq=1\n",
    ")"
   ]
  },
  {
   "cell_type": "code",
   "execution_count": 14,
   "metadata": {
    "collapsed": false,
    "deletable": true,
    "editable": true
   },
   "outputs": [
    {
     "name": "stderr",
     "output_type": "stream",
     "text": [
      "/usr/local/lib/python3.4/dist-packages/keras/models.py:826: UserWarning: The `nb_epoch` argument in `fit` has been renamed `epochs`.\n",
      "  warnings.warn('The `nb_epoch` argument in `fit` '\n"
     ]
    },
    {
     "name": "stdout",
     "output_type": "stream",
     "text": [
      "Train on 3000 samples, validate on 1000 samples\n",
      "INFO:tensorflow:Summary name dense_1/kernel:0 is illegal; using dense_1/kernel_0 instead.\n",
      "INFO:tensorflow:Summary name dense_1/bias:0 is illegal; using dense_1/bias_0 instead.\n",
      "INFO:tensorflow:Summary name dense_2/kernel:0 is illegal; using dense_2/kernel_0 instead.\n",
      "INFO:tensorflow:Summary name dense_2/bias:0 is illegal; using dense_2/bias_0 instead.\n",
      "INFO:tensorflow:Summary name dense_3/kernel:0 is illegal; using dense_3/kernel_0 instead.\n",
      "INFO:tensorflow:Summary name dense_3/bias:0 is illegal; using dense_3/bias_0 instead.\n",
      "Epoch 1/100\n",
      "0s - loss: 0.6378 - acc: 0.8183 - val_loss: 0.3350 - val_acc: 0.9030\n",
      "Epoch 2/100\n",
      "0s - loss: 0.1824 - acc: 0.9500 - val_loss: 0.2852 - val_acc: 0.9180\n",
      "Epoch 3/100\n",
      "0s - loss: 0.0919 - acc: 0.9760 - val_loss: 0.2757 - val_acc: 0.9170\n",
      "Epoch 4/100\n",
      "0s - loss: 0.0510 - acc: 0.9893 - val_loss: 0.2452 - val_acc: 0.9320\n",
      "Epoch 5/100\n",
      "0s - loss: 0.0260 - acc: 0.9957 - val_loss: 0.2834 - val_acc: 0.9190\n",
      "Epoch 6/100\n",
      "0s - loss: 0.0109 - acc: 0.9990 - val_loss: 0.5820 - val_acc: 0.8560\n",
      "Epoch 7/100\n",
      "0s - loss: 0.0145 - acc: 0.9970 - val_loss: 0.2645 - val_acc: 0.9300\n",
      "Epoch 8/100\n",
      "0s - loss: 0.0112 - acc: 0.9960 - val_loss: 0.2974 - val_acc: 0.9280\n",
      "Epoch 9/100\n",
      "0s - loss: 0.0019 - acc: 1.0000 - val_loss: 0.2799 - val_acc: 0.9310\n",
      "Epoch 10/100\n",
      "0s - loss: 9.7974e-04 - acc: 1.0000 - val_loss: 0.3434 - val_acc: 0.9170\n",
      "Epoch 11/100\n",
      "0s - loss: 0.0109 - acc: 0.9973 - val_loss: 0.3126 - val_acc: 0.9330\n",
      "Epoch 12/100\n",
      "0s - loss: 4.7247e-04 - acc: 1.0000 - val_loss: 0.3133 - val_acc: 0.9320\n",
      "Epoch 13/100\n",
      "0s - loss: 0.0051 - acc: 0.9990 - val_loss: 0.3809 - val_acc: 0.9190\n",
      "Epoch 14/100\n",
      "0s - loss: 0.0029 - acc: 0.9990 - val_loss: 0.3452 - val_acc: 0.9290\n",
      "Epoch 15/100\n",
      "0s - loss: 1.4674e-04 - acc: 1.0000 - val_loss: 0.3492 - val_acc: 0.9350\n",
      "Epoch 16/100\n",
      "0s - loss: 1.4640e-04 - acc: 1.0000 - val_loss: 0.4634 - val_acc: 0.9180\n",
      "Epoch 17/100\n",
      "0s - loss: 0.0100 - acc: 0.9980 - val_loss: 0.3786 - val_acc: 0.9340\n",
      "Epoch 18/100\n",
      "0s - loss: 1.3647e-04 - acc: 1.0000 - val_loss: 0.3702 - val_acc: 0.9310\n",
      "Epoch 19/100\n",
      "0s - loss: 3.3702e-05 - acc: 1.0000 - val_loss: 0.3769 - val_acc: 0.9290\n",
      "Epoch 20/100\n",
      "0s - loss: 0.0072 - acc: 0.9987 - val_loss: 0.4643 - val_acc: 0.9240\n",
      "Epoch 21/100\n",
      "0s - loss: 1.6934e-04 - acc: 1.0000 - val_loss: 0.4139 - val_acc: 0.9270\n",
      "Epoch 22/100\n",
      "0s - loss: 1.2595e-04 - acc: 1.0000 - val_loss: 0.4097 - val_acc: 0.9340\n",
      "Epoch 23/100\n",
      "0s - loss: 1.2033e-05 - acc: 1.0000 - val_loss: 0.4123 - val_acc: 0.9340\n",
      "Epoch 24/100\n",
      "0s - loss: 7.1903e-06 - acc: 1.0000 - val_loss: 0.4108 - val_acc: 0.9340\n",
      "Epoch 25/100\n",
      "0s - loss: 3.5402e-04 - acc: 1.0000 - val_loss: 0.5430 - val_acc: 0.9230\n",
      "Epoch 26/100\n",
      "0s - loss: 0.0068 - acc: 0.9980 - val_loss: 0.4953 - val_acc: 0.9260\n",
      "Epoch 27/100\n",
      "0s - loss: 1.9064e-04 - acc: 1.0000 - val_loss: 0.4555 - val_acc: 0.9270\n",
      "Epoch 28/100\n",
      "0s - loss: 3.6141e-04 - acc: 1.0000 - val_loss: 0.4641 - val_acc: 0.9290\n",
      "Epoch 29/100\n",
      "0s - loss: 3.3326e-05 - acc: 1.0000 - val_loss: 0.4764 - val_acc: 0.9310\n",
      "Epoch 30/100\n",
      "0s - loss: 4.4801e-06 - acc: 1.0000 - val_loss: 0.4651 - val_acc: 0.9310\n",
      "Epoch 31/100\n",
      "0s - loss: 2.6043e-06 - acc: 1.0000 - val_loss: 0.4650 - val_acc: 0.9310\n",
      "Epoch 32/100\n",
      "0s - loss: 2.6467e-05 - acc: 1.0000 - val_loss: 0.5222 - val_acc: 0.9250\n",
      "Epoch 33/100\n",
      "0s - loss: 2.5742e-05 - acc: 1.0000 - val_loss: 0.5626 - val_acc: 0.9170\n",
      "Epoch 34/100\n",
      "0s - loss: 0.0017 - acc: 0.9997 - val_loss: 0.5877 - val_acc: 0.9200\n",
      "Epoch 35/100\n",
      "0s - loss: 0.0033 - acc: 0.9987 - val_loss: 0.6041 - val_acc: 0.9230\n",
      "Epoch 36/100\n",
      "0s - loss: 3.0691e-05 - acc: 1.0000 - val_loss: 0.5745 - val_acc: 0.9290\n",
      "Epoch 37/100\n",
      "0s - loss: 3.2420e-06 - acc: 1.0000 - val_loss: 0.5677 - val_acc: 0.9290\n",
      "Epoch 38/100\n",
      "0s - loss: 2.0189e-06 - acc: 1.0000 - val_loss: 0.5614 - val_acc: 0.9300\n",
      "Epoch 39/100\n",
      "0s - loss: 1.2256e-06 - acc: 1.0000 - val_loss: 0.5657 - val_acc: 0.9320\n",
      "Epoch 40/100\n",
      "0s - loss: 6.6090e-07 - acc: 1.0000 - val_loss: 0.5522 - val_acc: 0.9310\n",
      "Epoch 41/100\n",
      "0s - loss: 3.8632e-07 - acc: 1.0000 - val_loss: 0.5606 - val_acc: 0.9330\n",
      "Epoch 42/100\n",
      "0s - loss: 2.6455e-07 - acc: 1.0000 - val_loss: 0.5498 - val_acc: 0.9340\n",
      "Epoch 43/100\n",
      "0s - loss: 1.7172e-07 - acc: 1.0000 - val_loss: 0.5448 - val_acc: 0.9300\n",
      "Epoch 44/100\n",
      "0s - loss: 0.0071 - acc: 0.9990 - val_loss: 0.6146 - val_acc: 0.9250\n",
      "Epoch 45/100\n",
      "0s - loss: 9.8322e-05 - acc: 1.0000 - val_loss: 0.6045 - val_acc: 0.9260\n",
      "Epoch 46/100\n",
      "0s - loss: 8.6664e-07 - acc: 1.0000 - val_loss: 0.6002 - val_acc: 0.9260\n",
      "Epoch 47/100\n",
      "0s - loss: 4.5836e-07 - acc: 1.0000 - val_loss: 0.5934 - val_acc: 0.9280\n",
      "Epoch 48/100\n",
      "0s - loss: 2.5092e-07 - acc: 1.0000 - val_loss: 0.5869 - val_acc: 0.9280\n",
      "Epoch 49/100\n",
      "0s - loss: 1.8348e-07 - acc: 1.0000 - val_loss: 0.5834 - val_acc: 0.9300\n",
      "Epoch 50/100\n",
      "0s - loss: 1.5096e-07 - acc: 1.0000 - val_loss: 0.5804 - val_acc: 0.9290\n",
      "Epoch 51/100\n",
      "0s - loss: 1.3584e-07 - acc: 1.0000 - val_loss: 0.5813 - val_acc: 0.9310\n",
      "Epoch 52/100\n",
      "0s - loss: 1.2571e-07 - acc: 1.0000 - val_loss: 0.5738 - val_acc: 0.9330\n",
      "Epoch 53/100\n",
      "0s - loss: 1.2167e-07 - acc: 1.0000 - val_loss: 0.5830 - val_acc: 0.9320\n",
      "Epoch 54/100\n",
      "0s - loss: 1.1985e-07 - acc: 1.0000 - val_loss: 0.5785 - val_acc: 0.9330\n",
      "Epoch 55/100\n",
      "0s - loss: 1.1939e-07 - acc: 1.0000 - val_loss: 0.5795 - val_acc: 0.9340\n",
      "Epoch 56/100\n",
      "0s - loss: 1.1931e-07 - acc: 1.0000 - val_loss: 0.5776 - val_acc: 0.9350\n",
      "Epoch 57/100\n",
      "0s - loss: 1.1921e-07 - acc: 1.0000 - val_loss: 0.5818 - val_acc: 0.9340\n",
      "Epoch 58/100\n",
      "0s - loss: 1.1921e-07 - acc: 1.0000 - val_loss: 0.5820 - val_acc: 0.9330\n",
      "Epoch 59/100\n",
      "0s - loss: 1.1921e-07 - acc: 1.0000 - val_loss: 0.5820 - val_acc: 0.9330\n",
      "Epoch 60/100\n",
      "0s - loss: 1.1921e-07 - acc: 1.0000 - val_loss: 0.5820 - val_acc: 0.9330\n",
      "Epoch 61/100\n",
      "0s - loss: 1.1921e-07 - acc: 1.0000 - val_loss: 0.5820 - val_acc: 0.9330\n",
      "Epoch 62/100\n",
      "0s - loss: 1.1921e-07 - acc: 1.0000 - val_loss: 0.5820 - val_acc: 0.9330\n",
      "Epoch 63/100\n",
      "0s - loss: 1.1921e-07 - acc: 1.0000 - val_loss: 0.5820 - val_acc: 0.9330\n",
      "Epoch 64/100\n",
      "0s - loss: 1.1921e-07 - acc: 1.0000 - val_loss: 0.5820 - val_acc: 0.9330\n",
      "Epoch 65/100\n",
      "0s - loss: 1.1921e-07 - acc: 1.0000 - val_loss: 0.5820 - val_acc: 0.9330\n",
      "Epoch 66/100\n",
      "0s - loss: 1.1921e-07 - acc: 1.0000 - val_loss: 0.5820 - val_acc: 0.9330\n",
      "Epoch 67/100\n",
      "0s - loss: 1.1921e-07 - acc: 1.0000 - val_loss: 0.5820 - val_acc: 0.9330\n",
      "Epoch 68/100\n",
      "0s - loss: 1.1921e-07 - acc: 1.0000 - val_loss: 0.5820 - val_acc: 0.9330\n",
      "Epoch 69/100\n",
      "0s - loss: 1.1921e-07 - acc: 1.0000 - val_loss: 0.5820 - val_acc: 0.9330\n",
      "Epoch 70/100\n",
      "0s - loss: 1.1921e-07 - acc: 1.0000 - val_loss: 0.5820 - val_acc: 0.9330\n",
      "Epoch 71/100\n",
      "0s - loss: 1.1921e-07 - acc: 1.0000 - val_loss: 0.5820 - val_acc: 0.9330\n",
      "Epoch 72/100\n",
      "0s - loss: 1.1921e-07 - acc: 1.0000 - val_loss: 0.5820 - val_acc: 0.9330\n",
      "Epoch 73/100\n",
      "0s - loss: 1.1921e-07 - acc: 1.0000 - val_loss: 0.5820 - val_acc: 0.9330\n",
      "Epoch 74/100\n",
      "0s - loss: 1.1921e-07 - acc: 1.0000 - val_loss: 0.5820 - val_acc: 0.9330\n",
      "Epoch 75/100\n",
      "0s - loss: 1.1921e-07 - acc: 1.0000 - val_loss: 0.5820 - val_acc: 0.9330\n",
      "Epoch 76/100\n",
      "0s - loss: 1.1921e-07 - acc: 1.0000 - val_loss: 0.5820 - val_acc: 0.9330\n",
      "Epoch 77/100\n",
      "0s - loss: 1.1921e-07 - acc: 1.0000 - val_loss: 0.5820 - val_acc: 0.9330\n",
      "Epoch 78/100\n",
      "0s - loss: 1.1921e-07 - acc: 1.0000 - val_loss: 0.5820 - val_acc: 0.9330\n",
      "Epoch 79/100\n",
      "0s - loss: 1.1921e-07 - acc: 1.0000 - val_loss: 0.5820 - val_acc: 0.9330\n",
      "Epoch 80/100\n",
      "0s - loss: 1.1921e-07 - acc: 1.0000 - val_loss: 0.5820 - val_acc: 0.9330\n",
      "Epoch 81/100\n",
      "0s - loss: 1.1921e-07 - acc: 1.0000 - val_loss: 0.5820 - val_acc: 0.9330\n",
      "Epoch 82/100\n",
      "0s - loss: 1.1921e-07 - acc: 1.0000 - val_loss: 0.5820 - val_acc: 0.9330\n",
      "Epoch 83/100\n",
      "0s - loss: 1.1921e-07 - acc: 1.0000 - val_loss: 0.5820 - val_acc: 0.9330\n",
      "Epoch 84/100\n",
      "0s - loss: 1.1921e-07 - acc: 1.0000 - val_loss: 0.5820 - val_acc: 0.9330\n",
      "Epoch 85/100\n",
      "0s - loss: 1.1921e-07 - acc: 1.0000 - val_loss: 0.5820 - val_acc: 0.9330\n",
      "Epoch 86/100\n",
      "0s - loss: 1.1921e-07 - acc: 1.0000 - val_loss: 0.5820 - val_acc: 0.9330\n",
      "Epoch 87/100\n",
      "0s - loss: 1.1921e-07 - acc: 1.0000 - val_loss: 0.5820 - val_acc: 0.9330\n",
      "Epoch 88/100\n",
      "0s - loss: 1.1921e-07 - acc: 1.0000 - val_loss: 0.5820 - val_acc: 0.9330\n",
      "Epoch 89/100\n",
      "0s - loss: 1.1921e-07 - acc: 1.0000 - val_loss: 0.5820 - val_acc: 0.9330\n",
      "Epoch 90/100\n",
      "1s - loss: 1.1921e-07 - acc: 1.0000 - val_loss: 0.5820 - val_acc: 0.9330\n",
      "Epoch 91/100\n",
      "0s - loss: 1.1921e-07 - acc: 1.0000 - val_loss: 0.5820 - val_acc: 0.9330\n",
      "Epoch 92/100\n",
      "0s - loss: 1.1921e-07 - acc: 1.0000 - val_loss: 0.5820 - val_acc: 0.9330\n",
      "Epoch 93/100\n",
      "0s - loss: 1.1921e-07 - acc: 1.0000 - val_loss: 0.5820 - val_acc: 0.9330\n",
      "Epoch 94/100\n",
      "0s - loss: 1.1921e-07 - acc: 1.0000 - val_loss: 0.5820 - val_acc: 0.9330\n",
      "Epoch 95/100\n",
      "0s - loss: 1.1921e-07 - acc: 1.0000 - val_loss: 0.5820 - val_acc: 0.9330\n",
      "Epoch 96/100\n",
      "0s - loss: 1.1921e-07 - acc: 1.0000 - val_loss: 0.5820 - val_acc: 0.9330\n",
      "Epoch 97/100\n",
      "0s - loss: 1.1921e-07 - acc: 1.0000 - val_loss: 0.5820 - val_acc: 0.9330\n",
      "Epoch 98/100\n",
      "0s - loss: 1.1921e-07 - acc: 1.0000 - val_loss: 0.5820 - val_acc: 0.9330\n",
      "Epoch 99/100\n",
      "0s - loss: 1.1921e-07 - acc: 1.0000 - val_loss: 0.5820 - val_acc: 0.9330\n",
      "Epoch 100/100\n",
      "0s - loss: 1.1921e-07 - acc: 1.0000 - val_loss: 0.5820 - val_acc: 0.9330\n"
     ]
    }
   ],
   "source": [
    "history = model.fit(x_train, \n",
    "          convertToOneHot(y_train,10), \n",
    "          nb_epoch=100, \n",
    "          batch_size=128, \n",
    "          callbacks=[tensorboard],\n",
    "          validation_data=[x_test, convertToOneHot(y_test,10)], verbose=2)\n",
    "\n",
    "# Attention, if you run this in a docker container, setting verbose=1 sometimes kills the whole container \n",
    "# ERRO[0695] error getting events from daemon: EOF\n",
    "\n",
    "# Sometimes also the TensorBoard callback kills the container"
   ]
  },
  {
   "cell_type": "code",
   "execution_count": null,
   "metadata": {
    "collapsed": true,
    "deletable": true,
    "editable": true
   },
   "outputs": [],
   "source": []
  },
  {
   "cell_type": "code",
   "execution_count": null,
   "metadata": {
    "collapsed": true,
    "deletable": true,
    "editable": true
   },
   "outputs": [],
   "source": []
  }
 ],
 "metadata": {
  "kernelspec": {
   "display_name": "Python 3",
   "language": "python",
   "name": "python3"
  },
  "language_info": {
   "codemirror_mode": {
    "name": "ipython",
    "version": 3
   },
   "file_extension": ".py",
   "mimetype": "text/x-python",
   "name": "python",
   "nbconvert_exporter": "python",
   "pygments_lexer": "ipython3",
   "version": "3.4.3"
  }
 },
 "nbformat": 4,
 "nbformat_minor": 2
}
