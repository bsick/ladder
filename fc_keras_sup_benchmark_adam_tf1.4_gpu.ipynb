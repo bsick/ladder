{
 "cells": [
  {
   "cell_type": "code",
   "execution_count": 1,
   "metadata": {},
   "outputs": [
    {
     "data": {
      "text/plain": [
       "'\\n# if working on laptop on local docker:\\ndocker run -p 4242:8888 -v ~/dl_cas/:/notebooks -p 6006:6006 -it oduerr/tf_docker:gpu_r\\n'"
      ]
     },
     "execution_count": 1,
     "metadata": {},
     "output_type": "execute_result"
    }
   ],
   "source": [
    "'''\n",
    "# if working on laptop on local docker:\n",
    "docker run -p 4242:8888 -v ~/dl_cas/:/notebooks -p 6006:6006 -it oduerr/tf_docker:gpu_r\n",
    "'''"
   ]
  },
  {
   "cell_type": "markdown",
   "metadata": {},
   "source": [
    "## Imports"
   ]
  },
  {
   "cell_type": "code",
   "execution_count": 2,
   "metadata": {},
   "outputs": [],
   "source": [
    "# python module imports needed in customized functions:\n",
    "import numpy as np\n",
    "import tensorflow as tf\n",
    "import sys\n",
    "\n",
    "from tensorflow.python.keras.models import Sequential\n",
    "from tensorflow.python.keras.layers import Dense, Dropout, Activation, Flatten, Input, BatchNormalization\n",
    "from tensorflow.python.keras import backend as K\n",
    "\n",
    "from tensorflow.python.keras.callbacks import TensorBoard\n"
   ]
  },
  {
   "cell_type": "code",
   "execution_count": 3,
   "metadata": {},
   "outputs": [
    {
     "data": {
      "text/plain": [
       "'1.4.0'"
      ]
     },
     "execution_count": 3,
     "metadata": {},
     "output_type": "execute_result"
    }
   ],
   "source": [
    "tf.__version__"
   ]
  },
  {
   "cell_type": "code",
   "execution_count": null,
   "metadata": {},
   "outputs": [],
   "source": []
  },
  {
   "cell_type": "code",
   "execution_count": 4,
   "metadata": {
    "scrolled": true
   },
   "outputs": [
    {
     "data": {
      "text/plain": [
       "('1.4.0',\n",
       " sys.version_info(major=3, minor=5, micro=2, releaselevel='final', serial=0))"
      ]
     },
     "execution_count": 4,
     "metadata": {},
     "output_type": "execute_result"
    }
   ],
   "source": [
    "# additional imports of python modules\n",
    "\n",
    "%matplotlib inline\n",
    "import matplotlib.pyplot as plt\n",
    "import matplotlib.image as imgplot\n",
    "import time\n",
    "import pandas as pd\n",
    "#tf.set_random_seed(1)\n",
    "#np.random.seed(1)\n",
    "import sys\n",
    "tf.__version__, sys.version_info\n",
    "\n"
   ]
  },
  {
   "cell_type": "markdown",
   "metadata": {},
   "source": [
    "# Data read-in "
   ]
  },
  {
   "cell_type": "markdown",
   "metadata": {},
   "source": [
    "### Load small external MNIST data set when for working local on windows"
   ]
  },
  {
   "cell_type": "code",
   "execution_count": 5,
   "metadata": {},
   "outputs": [
    {
     "name": "stdout",
     "output_type": "stream",
     "text": [
      "small data before split X.shape (4000, 784)\n",
      "small data before  y.shape (4000,)\n",
      "small data x_train.shape: (3000, 784)\n",
      "small data y_train.shape: (3000,)\n",
      "small data x_test.shape: (1000, 784)\n",
      "small data y_test.shape: (1000,)\n",
      "num_class: 10\n"
     ]
    }
   ],
   "source": [
    "\n",
    "# upload mnist_4000.pkl.gz which we have used in the DL course to home\n",
    "# To be compatible with python3 and python2\n",
    "try:\n",
    "    import cPickle as pickle\n",
    "except ImportError:\n",
    "    import pickle\n",
    "import gzip\n",
    "\n",
    "with gzip.open('./../mnist_4000.pkl.gz', 'rb') as f:\n",
    "    if sys.version_info.major > 2:\n",
    "        (X,y) = pickle.load(f, encoding='latin1')\n",
    "    else:\n",
    "        (X,y) = pickle.load(f)\n",
    "PIXELS = len(X[0,0,0,:])\n",
    "\n",
    "# if images are not flatten (like in mnist) we need first to flatten them\n",
    "# now flatten images for fc ladder\n",
    "\n",
    "X = X.reshape([4000, 784])\n",
    "#X = X/255 # is already normalized\n",
    "\n",
    "print(\"small data before split X.shape\", X.shape)\n",
    "print(\"small data before  y.shape\", y.shape) \n",
    "\n",
    "x_train = X[0:3000]\n",
    "y_train = y[0:3000]\n",
    "x_test = X[3000:4000]\n",
    "y_test = y[3000:4000]\n",
    "\n",
    "\n",
    "print(\"small data x_train.shape:\", x_train.shape)\n",
    "print(\"small data y_train.shape:\",y_train.shape)\n",
    "print(\"small data x_test.shape:\",x_test.shape)\n",
    "print(\"small data y_test.shape:\",y_test.shape)\n",
    "\n",
    "num_class= len(np.unique(y))\n",
    "print(\"num_class:\",num_class)\n",
    "\n"
   ]
  },
  {
   "cell_type": "markdown",
   "metadata": {
    "collapsed": true
   },
   "source": [
    "### Or load full MNIST dataset directly from internet"
   ]
  },
  {
   "cell_type": "code",
   "execution_count": 6,
   "metadata": {},
   "outputs": [
    {
     "data": {
      "text/plain": [
       "'\\nfrom keras.datasets import mnist\\n\\n(x_train, y_train), (x_test, y_test) = mnist.load_data()\\n\\n# if images are not flatten (like in mnist) we need first to flatten them\\n# now flatten images for fc ladder\\n\\nx_train = x_train.reshape(-1,784)\\nx_test = x_test.reshape(-1,784)\\n\\nprint(\"large data x_train.shape:\", x_train.shape)\\nprint(\"large data y_train.shape:\",y_train.shape)\\nprint(\"large data x_test.shape:\",x_test.shape)\\nprint(\"large data x_test.shape:\",y_test.shape)\\n'"
      ]
     },
     "execution_count": 6,
     "metadata": {},
     "output_type": "execute_result"
    }
   ],
   "source": [
    "'''\n",
    "from keras.datasets import mnist\n",
    "\n",
    "(x_train, y_train), (x_test, y_test) = mnist.load_data()\n",
    "\n",
    "# if images are not flatten (like in mnist) we need first to flatten them\n",
    "# now flatten images for fc ladder\n",
    "\n",
    "x_train = x_train.reshape(-1,784)\n",
    "x_test = x_test.reshape(-1,784)\n",
    "\n",
    "print(\"large data x_train.shape:\", x_train.shape)\n",
    "print(\"large data y_train.shape:\",y_train.shape)\n",
    "print(\"large data x_test.shape:\",x_test.shape)\n",
    "print(\"large data x_test.shape:\",y_test.shape)\n",
    "'''"
   ]
  },
  {
   "cell_type": "code",
   "execution_count": 7,
   "metadata": {},
   "outputs": [
    {
     "data": {
      "text/plain": [
       "(200, 784)"
      ]
     },
     "execution_count": 7,
     "metadata": {},
     "output_type": "execute_result"
    }
   ],
   "source": [
    "x_train[:200].shape"
   ]
  },
  {
   "cell_type": "code",
   "execution_count": 8,
   "metadata": {},
   "outputs": [
    {
     "data": {
      "text/plain": [
       "-0.0042952602"
      ]
     },
     "execution_count": 8,
     "metadata": {},
     "output_type": "execute_result"
    }
   ],
   "source": [
    "np.mean(x_train[:,200])"
   ]
  },
  {
   "cell_type": "code",
   "execution_count": 9,
   "metadata": {},
   "outputs": [
    {
     "data": {
      "text/plain": [
       "0.83271211"
      ]
     },
     "execution_count": 9,
     "metadata": {},
     "output_type": "execute_result"
    }
   ],
   "source": [
    "np.std(x_train[:,200])"
   ]
  },
  {
   "cell_type": "markdown",
   "metadata": {
    "collapsed": true
   },
   "source": [
    "# Lets construct a fc NN (784->500->50->10) without noise and unsupervised task to get a benchmark for the loss and accuracy"
   ]
  },
  {
   "cell_type": "code",
   "execution_count": 10,
   "metadata": {},
   "outputs": [],
   "source": [
    "### Relu \n",
    "name = 'relu'\n",
    "model = Sequential()\n",
    "\n",
    "model.add(Dense(500, batch_input_shape=(None, 784),\n",
    "                kernel_initializer='random_uniform',\n",
    "                bias_initializer='zeros'))\n",
    "#model.add(BatchNormalization())\n",
    "model.add(Activation('relu'))\n",
    "\n",
    "model.add(Dense(50))\n",
    "#model.add(BatchNormalization())\n",
    "model.add(Activation('relu'))\n",
    "\n",
    "model.add(Dense(10, activation='softmax'))\n",
    "model.compile(loss='categorical_crossentropy',\n",
    "              #optimizer='rmsprop',\n",
    "              optimizer='Adam',\n",
    "              metrics=['accuracy'])"
   ]
  },
  {
   "cell_type": "code",
   "execution_count": 11,
   "metadata": {},
   "outputs": [
    {
     "name": "stdout",
     "output_type": "stream",
     "text": [
      "_________________________________________________________________\n",
      "Layer (type)                 Output Shape              Param #   \n",
      "=================================================================\n",
      "dense_1 (Dense)              (None, 500)               392500    \n",
      "_________________________________________________________________\n",
      "activation_1 (Activation)    (None, 500)               0         \n",
      "_________________________________________________________________\n",
      "dense_2 (Dense)              (None, 50)                25050     \n",
      "_________________________________________________________________\n",
      "activation_2 (Activation)    (None, 50)                0         \n",
      "_________________________________________________________________\n",
      "dense_3 (Dense)              (None, 10)                510       \n",
      "=================================================================\n",
      "Total params: 418,060\n",
      "Trainable params: 418,060\n",
      "Non-trainable params: 0\n",
      "_________________________________________________________________\n"
     ]
    }
   ],
   "source": [
    "model.summary()"
   ]
  },
  {
   "cell_type": "markdown",
   "metadata": {},
   "source": [
    "# Training"
   ]
  },
  {
   "cell_type": "code",
   "execution_count": 12,
   "metadata": {},
   "outputs": [],
   "source": [
    "def convertToOneHot(vector, num_classes=None):\n",
    "    result = np.zeros((len(vector), num_classes), dtype='int32')\n",
    "    result[np.arange(len(vector)), vector] = 1\n",
    "    return result"
   ]
  },
  {
   "cell_type": "code",
   "execution_count": 13,
   "metadata": {},
   "outputs": [],
   "source": [
    "tensorboard = TensorBoard(\n",
    "    log_dir='tensorboard/mnist_small/' + name + '/', \n",
    "    write_graph=True,\n",
    "    histogram_freq=1\n",
    ")"
   ]
  },
  {
   "cell_type": "code",
   "execution_count": 14,
   "metadata": {},
   "outputs": [
    {
     "name": "stdout",
     "output_type": "stream",
     "text": [
      "Train on 3000 samples, validate on 1000 samples\n",
      "Epoch 1/100\n",
      "1s - loss: 7.2566 - acc: 0.1660 - val_loss: 6.2079 - val_acc: 0.2020\n",
      "Epoch 2/100\n",
      "1s - loss: 6.7634 - acc: 0.2097 - val_loss: 6.3608 - val_acc: 0.1950\n",
      "Epoch 3/100\n",
      "1s - loss: 6.3467 - acc: 0.2970 - val_loss: 5.5401 - val_acc: 0.2940\n",
      "Epoch 4/100\n",
      "1s - loss: 5.7537 - acc: 0.3383 - val_loss: 4.5243 - val_acc: 0.3570\n",
      "Epoch 5/100\n",
      "1s - loss: 4.1459 - acc: 0.4430 - val_loss: 4.6294 - val_acc: 0.3630\n",
      "Epoch 6/100\n",
      "1s - loss: 3.9715 - acc: 0.4703 - val_loss: 4.4911 - val_acc: 0.3790\n",
      "Epoch 7/100\n",
      "1s - loss: 4.0092 - acc: 0.4767 - val_loss: 3.7449 - val_acc: 0.4370\n",
      "Epoch 8/100\n",
      "1s - loss: 3.1178 - acc: 0.5330 - val_loss: 3.0268 - val_acc: 0.4750\n",
      "Epoch 9/100\n",
      "1s - loss: 2.7784 - acc: 0.5630 - val_loss: 2.3487 - val_acc: 0.5190\n",
      "Epoch 10/100\n",
      "1s - loss: 2.6093 - acc: 0.5763 - val_loss: 2.5074 - val_acc: 0.5160\n",
      "Epoch 11/100\n",
      "1s - loss: 2.5898 - acc: 0.5770 - val_loss: 2.6527 - val_acc: 0.5040\n",
      "Epoch 12/100\n",
      "1s - loss: 2.7938 - acc: 0.5737 - val_loss: 2.5606 - val_acc: 0.5140\n",
      "Epoch 13/100\n",
      "1s - loss: 2.5167 - acc: 0.5923 - val_loss: 2.4224 - val_acc: 0.5310\n",
      "Epoch 14/100\n",
      "1s - loss: 2.5108 - acc: 0.5927 - val_loss: 2.7562 - val_acc: 0.5160\n",
      "Epoch 15/100\n",
      "1s - loss: 2.2487 - acc: 0.6143 - val_loss: 1.9615 - val_acc: 0.5680\n",
      "Epoch 16/100\n",
      "1s - loss: 1.9654 - acc: 0.6330 - val_loss: 2.5737 - val_acc: 0.5350\n",
      "Epoch 17/100\n",
      "1s - loss: 2.0343 - acc: 0.6333 - val_loss: 2.2374 - val_acc: 0.5550\n",
      "Epoch 18/100\n",
      "1s - loss: 2.1955 - acc: 0.6283 - val_loss: 2.1799 - val_acc: 0.5590\n",
      "Epoch 19/100\n",
      "1s - loss: 1.8349 - acc: 0.6487 - val_loss: 2.1446 - val_acc: 0.5730\n",
      "Epoch 20/100\n",
      "1s - loss: 1.6538 - acc: 0.6680 - val_loss: 1.9222 - val_acc: 0.5830\n",
      "Epoch 21/100\n",
      "1s - loss: 1.7418 - acc: 0.6640 - val_loss: 2.1809 - val_acc: 0.5710\n",
      "Epoch 22/100\n",
      "1s - loss: 1.4502 - acc: 0.6860 - val_loss: 1.8980 - val_acc: 0.5910\n",
      "Epoch 23/100\n",
      "1s - loss: 1.5042 - acc: 0.6820 - val_loss: 1.8042 - val_acc: 0.6070\n",
      "Epoch 24/100\n",
      "1s - loss: 1.5401 - acc: 0.6850 - val_loss: 1.8550 - val_acc: 0.5960\n",
      "Epoch 25/100\n",
      "1s - loss: 1.6631 - acc: 0.6847 - val_loss: 2.1576 - val_acc: 0.5870\n",
      "Epoch 26/100\n",
      "1s - loss: 1.6239 - acc: 0.6940 - val_loss: 1.7425 - val_acc: 0.6220\n",
      "Epoch 27/100\n",
      "1s - loss: 1.5397 - acc: 0.7017 - val_loss: 2.0128 - val_acc: 0.6140\n",
      "Epoch 28/100\n",
      "1s - loss: 1.6007 - acc: 0.7037 - val_loss: 1.8976 - val_acc: 0.6300\n",
      "Epoch 29/100\n",
      "1s - loss: 1.6623 - acc: 0.7060 - val_loss: 2.0561 - val_acc: 0.6260\n",
      "Epoch 30/100\n",
      "1s - loss: 1.6092 - acc: 0.7147 - val_loss: 1.9888 - val_acc: 0.6300\n",
      "Epoch 31/100\n",
      "1s - loss: 1.6744 - acc: 0.7113 - val_loss: 2.0438 - val_acc: 0.6340\n",
      "Epoch 32/100\n",
      "1s - loss: 1.6143 - acc: 0.7150 - val_loss: 2.2800 - val_acc: 0.6290\n",
      "Epoch 33/100\n",
      "1s - loss: 1.5263 - acc: 0.7313 - val_loss: 1.6614 - val_acc: 0.6700\n",
      "Epoch 34/100\n",
      "1s - loss: 1.2373 - acc: 0.7493 - val_loss: 1.8896 - val_acc: 0.6580\n",
      "Epoch 35/100\n",
      "1s - loss: 1.1632 - acc: 0.7560 - val_loss: 1.6171 - val_acc: 0.6810\n",
      "Epoch 36/100\n",
      "1s - loss: 1.2555 - acc: 0.7557 - val_loss: 2.0749 - val_acc: 0.6520\n",
      "Epoch 37/100\n",
      "1s - loss: 1.2782 - acc: 0.7510 - val_loss: 1.6472 - val_acc: 0.6850\n",
      "Epoch 38/100\n",
      "1s - loss: 1.3224 - acc: 0.7590 - val_loss: 1.9498 - val_acc: 0.6710\n",
      "Epoch 39/100\n",
      "1s - loss: 1.3310 - acc: 0.7573 - val_loss: 1.7993 - val_acc: 0.6780\n",
      "Epoch 40/100\n",
      "1s - loss: 1.3390 - acc: 0.7587 - val_loss: 1.8379 - val_acc: 0.6820\n",
      "Epoch 41/100\n",
      "1s - loss: 1.1692 - acc: 0.7730 - val_loss: 1.6638 - val_acc: 0.6920\n",
      "Epoch 42/100\n",
      "1s - loss: 1.2784 - acc: 0.7710 - val_loss: 1.7130 - val_acc: 0.6940\n",
      "Epoch 43/100\n",
      "1s - loss: 1.2355 - acc: 0.7783 - val_loss: 1.7441 - val_acc: 0.6980\n",
      "Epoch 44/100\n",
      "1s - loss: 1.1655 - acc: 0.7863 - val_loss: 1.7192 - val_acc: 0.7030\n",
      "Epoch 45/100\n",
      "1s - loss: 1.6825 - acc: 0.7530 - val_loss: 1.9878 - val_acc: 0.6900\n",
      "Epoch 46/100\n",
      "1s - loss: 1.2837 - acc: 0.7850 - val_loss: 1.6068 - val_acc: 0.7180\n",
      "Epoch 47/100\n",
      "1s - loss: 1.0058 - acc: 0.8103 - val_loss: 1.6600 - val_acc: 0.7190\n",
      "Epoch 48/100\n",
      "1s - loss: 1.1777 - acc: 0.8007 - val_loss: 1.5801 - val_acc: 0.7270\n",
      "Epoch 49/100\n",
      "1s - loss: 1.0163 - acc: 0.8147 - val_loss: 1.5087 - val_acc: 0.7390\n",
      "Epoch 50/100\n",
      "1s - loss: 0.9171 - acc: 0.8197 - val_loss: 1.4739 - val_acc: 0.7420\n",
      "Epoch 51/100\n",
      "1s - loss: 1.0686 - acc: 0.8110 - val_loss: 1.4793 - val_acc: 0.7460\n",
      "Epoch 52/100\n",
      "1s - loss: 0.9533 - acc: 0.8223 - val_loss: 1.7286 - val_acc: 0.7300\n",
      "Epoch 53/100\n",
      "1s - loss: 1.2433 - acc: 0.8060 - val_loss: 1.9107 - val_acc: 0.7200\n",
      "Epoch 54/100\n",
      "1s - loss: 0.9774 - acc: 0.8250 - val_loss: 1.6614 - val_acc: 0.7370\n",
      "Epoch 55/100\n",
      "1s - loss: 1.0467 - acc: 0.8220 - val_loss: 1.8792 - val_acc: 0.7290\n",
      "Epoch 56/100\n",
      "1s - loss: 0.9679 - acc: 0.8313 - val_loss: 1.6535 - val_acc: 0.7510\n",
      "Epoch 57/100\n",
      "1s - loss: 0.9622 - acc: 0.8337 - val_loss: 1.6009 - val_acc: 0.7550\n",
      "Epoch 58/100\n",
      "1s - loss: 0.9828 - acc: 0.8347 - val_loss: 1.5709 - val_acc: 0.7640\n",
      "Epoch 59/100\n",
      "1s - loss: 0.9864 - acc: 0.8387 - val_loss: 1.4722 - val_acc: 0.7720\n",
      "Epoch 60/100\n",
      "1s - loss: 0.7965 - acc: 0.8537 - val_loss: 1.3750 - val_acc: 0.7810\n",
      "Epoch 61/100\n",
      "1s - loss: 0.7425 - acc: 0.8593 - val_loss: 1.4923 - val_acc: 0.7720\n",
      "Epoch 62/100\n",
      "1s - loss: 0.7712 - acc: 0.8580 - val_loss: 1.3806 - val_acc: 0.7820\n",
      "Epoch 63/100\n",
      "1s - loss: 0.7536 - acc: 0.8600 - val_loss: 1.5640 - val_acc: 0.7760\n",
      "Epoch 64/100\n",
      "1s - loss: 0.9652 - acc: 0.8473 - val_loss: 1.3912 - val_acc: 0.7870\n",
      "Epoch 65/100\n",
      "1s - loss: 0.8192 - acc: 0.8600 - val_loss: 1.4932 - val_acc: 0.7840\n",
      "Epoch 66/100\n",
      "1s - loss: 0.6995 - acc: 0.8687 - val_loss: 1.5385 - val_acc: 0.7780\n",
      "Epoch 67/100\n",
      "1s - loss: 0.7570 - acc: 0.8670 - val_loss: 1.3590 - val_acc: 0.7960\n",
      "Epoch 68/100\n",
      "1s - loss: 0.6566 - acc: 0.8733 - val_loss: 1.5370 - val_acc: 0.7810\n",
      "Epoch 69/100\n",
      "1s - loss: 0.9171 - acc: 0.8567 - val_loss: 1.4093 - val_acc: 0.7930\n",
      "Epoch 70/100\n",
      "1s - loss: 0.7521 - acc: 0.8700 - val_loss: 1.3822 - val_acc: 0.8000\n",
      "Epoch 71/100\n",
      "1s - loss: 0.7157 - acc: 0.8753 - val_loss: 1.3683 - val_acc: 0.8000\n",
      "Epoch 72/100\n",
      "1s - loss: 0.7715 - acc: 0.8717 - val_loss: 1.4960 - val_acc: 0.7900\n",
      "Epoch 73/100\n",
      "1s - loss: 0.8787 - acc: 0.8657 - val_loss: 1.3727 - val_acc: 0.8020\n",
      "Epoch 74/100\n",
      "1s - loss: 0.7641 - acc: 0.8733 - val_loss: 1.4845 - val_acc: 0.7970\n",
      "Epoch 75/100\n",
      "1s - loss: 0.6274 - acc: 0.8837 - val_loss: 1.3601 - val_acc: 0.8070\n",
      "Epoch 76/100\n",
      "1s - loss: 0.5729 - acc: 0.8907 - val_loss: 1.4135 - val_acc: 0.8040\n",
      "Epoch 77/100\n",
      "1s - loss: 0.7645 - acc: 0.8770 - val_loss: 1.5525 - val_acc: 0.7930\n",
      "Epoch 78/100\n",
      "1s - loss: 0.9518 - acc: 0.8653 - val_loss: 1.5838 - val_acc: 0.7940\n",
      "Epoch 79/100\n",
      "1s - loss: 0.7744 - acc: 0.8783 - val_loss: 1.6579 - val_acc: 0.7870\n",
      "Epoch 80/100\n",
      "1s - loss: 0.7920 - acc: 0.8767 - val_loss: 1.4678 - val_acc: 0.8000\n",
      "Epoch 81/100\n",
      "1s - loss: 0.6844 - acc: 0.8873 - val_loss: 1.3876 - val_acc: 0.8100\n",
      "Epoch 82/100\n",
      "1s - loss: 0.7708 - acc: 0.8803 - val_loss: 1.5073 - val_acc: 0.8010\n",
      "Epoch 83/100\n",
      "1s - loss: 0.7883 - acc: 0.8820 - val_loss: 1.4310 - val_acc: 0.8020\n",
      "Epoch 84/100\n",
      "1s - loss: 0.6806 - acc: 0.8910 - val_loss: 1.4503 - val_acc: 0.8070\n",
      "Epoch 85/100\n",
      "1s - loss: 0.5985 - acc: 0.8957 - val_loss: 1.4323 - val_acc: 0.8090\n",
      "Epoch 86/100\n",
      "1s - loss: 0.8683 - acc: 0.8803 - val_loss: 1.4986 - val_acc: 0.8040\n",
      "Epoch 87/100\n",
      "1s - loss: 0.7448 - acc: 0.8887 - val_loss: 1.5063 - val_acc: 0.7990\n",
      "Epoch 88/100\n",
      "1s - loss: 0.5951 - acc: 0.9007 - val_loss: 1.3931 - val_acc: 0.8130\n",
      "Epoch 89/100\n",
      "1s - loss: 0.6658 - acc: 0.8967 - val_loss: 1.5052 - val_acc: 0.8070\n",
      "Epoch 90/100\n",
      "1s - loss: 0.5172 - acc: 0.9063 - val_loss: 1.3197 - val_acc: 0.8170\n",
      "Epoch 91/100\n",
      "1s - loss: 0.5570 - acc: 0.9050 - val_loss: 1.3544 - val_acc: 0.8170\n",
      "Epoch 92/100\n",
      "1s - loss: 0.5407 - acc: 0.9070 - val_loss: 1.4697 - val_acc: 0.8130\n",
      "Epoch 93/100\n",
      "1s - loss: 0.5810 - acc: 0.9043 - val_loss: 1.4058 - val_acc: 0.8190\n",
      "Epoch 94/100\n",
      "1s - loss: 0.5389 - acc: 0.9063 - val_loss: 1.3776 - val_acc: 0.8210\n",
      "Epoch 95/100\n",
      "1s - loss: 0.5930 - acc: 0.9027 - val_loss: 1.4846 - val_acc: 0.8130\n",
      "Epoch 96/100\n",
      "1s - loss: 0.8333 - acc: 0.8893 - val_loss: 1.5319 - val_acc: 0.8100\n",
      "Epoch 97/100\n",
      "1s - loss: 1.0375 - acc: 0.8763 - val_loss: 1.6944 - val_acc: 0.8010\n",
      "Epoch 98/100\n",
      "1s - loss: 0.8503 - acc: 0.8873 - val_loss: 1.4877 - val_acc: 0.8170\n",
      "Epoch 99/100\n",
      "1s - loss: 0.6854 - acc: 0.8990 - val_loss: 1.4410 - val_acc: 0.8210\n",
      "Epoch 100/100\n",
      "1s - loss: 0.5968 - acc: 0.9047 - val_loss: 1.4641 - val_acc: 0.8210\n"
     ]
    }
   ],
   "source": [
    "history = model.fit(x_train, \n",
    "          convertToOneHot(y_train,10), \n",
    "          epochs=100, \n",
    "          batch_size=128, \n",
    "          callbacks=[tensorboard],\n",
    "          validation_data=[x_test, convertToOneHot(y_test,10)], verbose=2)\n",
    "\n",
    "# Attention, if you run this in a docker container, setting verbose=1 sometimes kills the whole container \n",
    "# ERRO[0695] error getting events from daemon: EOF\n",
    "\n",
    "# Sometimes also the TensorBoard callback kills the container"
   ]
  },
  {
   "cell_type": "code",
   "execution_count": null,
   "metadata": {},
   "outputs": [],
   "source": []
  },
  {
   "cell_type": "code",
   "execution_count": null,
   "metadata": {},
   "outputs": [],
   "source": []
  }
 ],
 "metadata": {
  "kernelspec": {
   "display_name": "Python 3",
   "language": "python",
   "name": "python3"
  },
  "language_info": {
   "codemirror_mode": {
    "name": "ipython",
    "version": 3
   },
   "file_extension": ".py",
   "mimetype": "text/x-python",
   "name": "python",
   "nbconvert_exporter": "python",
   "pygments_lexer": "ipython3",
   "version": "3.5.2"
  }
 },
 "nbformat": 4,
 "nbformat_minor": 2
}
